{
 "cells": [
  {
   "cell_type": "markdown",
   "id": "fe865e13",
   "metadata": {},
   "source": [
    "# Experimenting with your generator function\n",
    "\n",
    "In the Summative Assessment 1 Programming Assignment, you were asked the following:\n",
    "\n",
    "## Question 4a\n",
    "\n",
    "Write a function that computes the first $m-1$ terms of the sequence:\n",
    "$$x_{n+1}=ax_n \\mod m,$$\n",
    "starting from $x_0=1$, where $a$ and $m$ are positive integers. The sequence $(x_0,x_1,\\dots,x_{m-2})$ returned by your function should be a list.\n",
    "\n",
    "## Question 4b\n",
    "\n",
    "Write a function called `primitive` that takes an integer $m>0$ and loops through the integers $a=1$ to $a=m-1$ and returns the values of $a$ where all of the values returned by `generator(a,m)` are distinct, i.e. `primitive` will return $a$ if the list returned by `generator(a,m)` includes all of the integers 1 to $m-1$ (but they can be in any order).\n",
    "\n",
    "# Lab experiment\n",
    "\n",
    "In this lab you should experiment with the function that you wrote for this question, describe what you have done and why, and try to explain anything you find. In the next learning item, you will share your notebook for peer review to get feedback about your programming and writing. You should therefore aim your descriptions at someone who is learning to program and has an interest in data science. \n",
    "\n",
    "Don't worry if you are unsure about what you've found, what is important is doing some experimentation and explaining what you've done and why. Try to be systematic and logical about yor experimentation.\n",
    "\n",
    "You do not need to spend a lot of time experimenting with your function and writing up what you have found. As a guide, spend between 30 minutes and an hour experimenting and between an hour and 90 minutes writing up what you've found.\n",
    "\n",
    "## Suggestions\n",
    "\n",
    "You could use the following suggestions to help guide your experimentation (you don't need to do all of these suggestions).\n",
    "* Look at the outputs of `generator` for different input values of `a` and `m`. In what cases does the sequence of numbers repeat? When do the sequences not repeat?\n",
    "* Edit the function `generator` so that it takes another integer input that allows the number of terms in the sequence to be different to $m-1$. Do longer sequences repeat? Are sequences of length $m-1$ repeated?\n",
    "* For the input $m$ of `primitive`, what sorts of numbers return lists with non-zero lengths? How are the resulting numbers related to $m$? What sort of sequences do they produce?\n",
    "\n",
    "The function `generator` is a simple type of [Linear Congruential Generator](https://en.wikipedia.org/wiki/Linear_congruential_generator). If you have time, you might consider learning a bit about such functions and how they can be used as \"pseudo random number\" generators. Being able to create random numbers is an important aspect of data science, so knowing about how it is done will be helpful.\n",
    "\n",
    "## Academic integrity\n",
    "\n",
    "It is important to be clear about what is and isn't your own work. As a programmer you will often seek help from online sources, but you should never pass off someone else's work as your own. For this Lab, you may seek help online, for example by looking up ways to code certain things, or even to get help improving your writing, but try to be clear about where you have done this, for example by including links in your write up, or stating clearly if you have used any type of AI and how you have used it."
   ]
  },
  {
   "cell_type": "code",
   "execution_count": null,
   "id": "0886efe2",
   "metadata": {},
   "outputs": [],
   "source": []
  }
 ],
 "metadata": {
  "kernelspec": {
   "display_name": "Python 3 (ipykernel)",
   "language": "python",
   "name": "python3"
  },
  "language_info": {
   "codemirror_mode": {
    "name": "ipython",
    "version": 3
   },
   "file_extension": ".py",
   "mimetype": "text/x-python",
   "name": "python",
   "nbconvert_exporter": "python",
   "pygments_lexer": "ipython3",
   "version": "3.8.13"
  }
 },
 "nbformat": 4,
 "nbformat_minor": 5
}
