{
 "cells": [
  {
   "cell_type": "markdown",
   "metadata": {},
   "source": [
    "# CSV to HTML Transformation\n",
    "\n",
    "One thing we might wish to do with a playlist file is to display\n",
    "it in a visually attractive and informative way.\n",
    " We may also want to share some playlists via the internet.\n",
    " A way to acheive both these desires would be to display\n",
    " the playlist on a web page. And a straightforward way to\n",
    " do this would be to convert the playlist file into an HTML\n",
    " format file, which we can make available via a web server\n",
    " and view in a web browser.\n",
    " \n",
    " In this exercise, you will be introduced to some programming\n",
    " techniques and given code examples that will enable you to perform \n",
    " this conversion. These are illustrative of the type coding required for \n",
    " many other conversions that a programmer may need to perform.\n",
    " \n",
    " At the end of this notebook you will find details of \n",
    " an exercise in which you are asked to extend\n",
    " the simple conversion functions provided to create a\n",
    " function that can produce more elaborate HTML-based playlist\n",
    " displays.\n"
   ]
  },
  {
   "cell_type": "markdown",
   "metadata": {},
   "source": [
    "### Creating and Importing your Own Library Module\n",
    "Before starting this task, we should recall that the last exercise notebook\n",
    "already included some useful functions for extracting information from\n",
    "files that are formatted in our CSV-based playlist format.\n",
    "Obviously, we could simply copy and paste code from that notebook into\n",
    "this one. But this is generally considered bad practice as it runs\n",
    "against the important principle of _modularity_, which tells us that\n",
    "it is nearly always advantagous to construct programs in modular components\n",
    "that can be used in different ways by other parts of our program or by\n",
    "other programs. \n",
    "\n",
    "It is possible to set up your system so that you can import code from\n",
    "one notebook into another. However, this is somewhat complex and is\n",
    "not usually done. A notebook may contain a variety of different code \n",
    "cells, which do not necessarily work well as a self-contained program \n",
    "module, so importing one notebook into another could easily cause problems.\n",
    "Hence, program modules are nearly always coded as ordinary Python program\n",
    "files rather than a notebook. So, if while working in a notebook we create\n",
    "some code that seems to be generally useful, we would generally copy it\n",
    "out of the notebook into a Python file. At this stage we may make some\n",
    "modifications that make it more modular and generally usable, for instance\n",
    "writing additional functions that can conveniently access the functionality \n",
    "of the code for a variety of purposes. Whereas notebooks often contain\n",
    "code that is not contained within functions, a Python module normally\n",
    "has all (or nearly all) its code packaged up within functions.\n",
    "Creating a Python module does take a little extra effort, but once\n",
    "created it can then be used by many notebooks (or indeed other non-notebook\n",
    "Python programs).\n",
    "\n",
    "As an example, the file `my_playlist_functions.py` is a module containing\n",
    "some of the useful functions defined in `CSV_Processing_exercise.csv`.\n",
    "In the same way as for standard or installed modules in your Python\n",
    "system, you can access the functionality in your own program module\n",
    "by using an `import` statement.\n",
    "For example:"
   ]
  },
  {
   "cell_type": "code",
   "execution_count": null,
   "metadata": {},
   "outputs": [],
   "source": [
    "import my_playlist_functions"
   ]
  },
  {
   "cell_type": "markdown",
   "metadata": {},
   "source": [
    "Once the `import` statement has been executed, we can use functions from it.\n",
    "For example:"
   ]
  },
  {
   "cell_type": "code",
   "execution_count": null,
   "metadata": {},
   "outputs": [],
   "source": [
    "PLAYLIST_DATA = my_playlist_functions.get_datalist_from_csv(\"music_for_programmers.csv\")\n",
    "PLAYLIST_DATA[:3]"
   ]
  },
  {
   "cell_type": "markdown",
   "metadata": {},
   "source": [
    "There are a couple of important things you should note if you are importing your own Python modules into a notebook (or into another Python program):\n",
    "\n",
    "* Unlike standard and installed modules, you may not be able to `import` your\n",
    "  own modules unless the module code files are in the same folder as the program \n",
    "  that is doing the importing. You can set up your system so it will look in \n",
    "  other places for modules (e.g. in your own special modules directory) but\n",
    "  that will not be covered here.\n",
    "  \n",
    "* If you change the Python code of a module file that is being loaded into\n",
    "  a notebook, Jupyter will not reload the module even if you execute the\n",
    "  `import` command again. This means that you will still have the old version\n",
    "  loaded. To load a new version of a module you need to _restart the kernel_\n",
    "  by selecting one of the restart options from Jupyter's 'Kernel' menu."
   ]
  },
  {
   "cell_type": "markdown",
   "metadata": {},
   "source": [
    "## Creating a basic HTML table from a datalist\n",
    "\n",
    "### HTML table syntax\n",
    "The HTML language enables data to be displayed in the form of a table\n",
    "by using the following form of syntax.\n",
    "```html\n",
    "<table>\n",
    "    <tr> <td>this</td> <td>is</td>    </tr> \n",
    "    <tr> <td>a</td>    <td>table</td> </tr> \n",
    "</table>\n",
    "```\n",
    "Here, each table row is enclosed in `<tr>` and `</tr>` tags signifying the\n",
    "beginning and end of the row. Each table data item is enclosed in\n",
    "`<td>` and `</td>` tags.\n",
    "\n",
    "\n",
    "The table specification above was produced by enclosing the HTML syntax\n",
    "in triple quotes (i.e. \\`\\`\\`, with `html` after the open triple quote\n",
    "being used to specify that the enclosed content should be displayed\n",
    "with colour highligting suitable for HTML).\n",
    "But we can actually use the HTML directly in a Jupyter markdown cell\n",
    "to display the table:\n",
    "\n",
    "<table>\n",
    "    <tr> <td>this</td> <td>is</td>    </tr> \n",
    "    <tr> <td>a</td>    <td>table</td> </tr> \n",
    "</table>\n",
    "\n",
    "If you press `<Enter>` in this cell to see its raw content, you will see the\n",
    "markdown used to show the table in these two cases. "
   ]
  },
  {
   "cell_type": "markdown",
   "metadata": {},
   "source": [
    "### A function to create a basic table\n",
    "An HTML table specification has essentially the same structure as a datalist.\n",
    "To create an HTML table from a datalist we can build up an HTML string\n",
    "by looping through each row and each data item in each row using nested `for` loops. It is straightforward to append the required HTML tags in order to build\n",
    "up the required representation. The following function provides a simple\n",
    "implementation:"
   ]
  },
  {
   "cell_type": "code",
   "execution_count": null,
   "metadata": {},
   "outputs": [],
   "source": [
    "def make_html_table_from_datalist( datalist, td_style = \"\"):\n",
    "    ## We just keep adding the html we want to the html_string variable\n",
    "    html_string = \"<table>\\n\" # use newlines to lay it out nicely\n",
    "    ## loop over all the row in the datalist\n",
    "    for row in datalist:\n",
    "        html_string += \"<tr>\" \n",
    "        for item in row:\n",
    "            ## put each piece of data into a html table data element\n",
    "            html_string += \"<td {}>\".format(td_style) + str(item) + \"</td>\"\n",
    "        html_string += \"<tr>\\n\"\n",
    "    html_string += \"</table>\\n\"\n",
    "    return html_string"
   ]
  },
  {
   "cell_type": "markdown",
   "metadata": {},
   "source": [
    "We can test this by passing it the `PLAYLIST_DATA` datalist that we read from \n",
    "`music_for_programmers.csv` in a previous cell:"
   ]
  },
  {
   "cell_type": "code",
   "execution_count": null,
   "metadata": {},
   "outputs": [],
   "source": [
    "html_table = make_html_table_from_datalist(PLAYLIST_DATA)\n",
    "print(html_table)"
   ]
  },
  {
   "cell_type": "markdown",
   "metadata": {},
   "source": [
    "When we display HTML as output using the `print` command it will just be\n",
    "displayed in its raw form. Whereas, a markdown cell will use the HTML to format\n",
    "its display, an output cell does not automatically do that. However, we can display \n",
    "output as formatted HTML by using a special package called `IPython.display`, which\n",
    "enables Jupyter to display outputs in several different formats. The case of\n",
    "using it for HTML is illustrated by the following code:"
   ]
  },
  {
   "cell_type": "code",
   "execution_count": null,
   "metadata": {},
   "outputs": [],
   "source": [
    "from IPython.display import HTML\n",
    "HTML(html_table)"
   ]
  },
  {
   "cell_type": "markdown",
   "metadata": {},
   "source": [
    "The playlist has been displayed as a table. However, the display is quite boring.\n",
    "This is because, by default, Jupyter uses a very plain styling of tables, which is \n",
    "intended mainly for displaying numerical data tables.\n",
    "\n",
    "You may have noticed that the above definition of `make_html_table_from_datalist`\n",
    "provides an optional argument `td_style`, which is intended to enable an HTML\n",
    "style option to be added to `<td>` tags in order to change their appearance.\n",
    "Using this, we can specify more attractive formatting for tables.\n",
    "This possibility is illustrated by the following `display_playlist_as_html_table` function\n",
    "which specifies the background colour, text alignment and border line width\n",
    "for the cells of the table. (Note the use of brackets and + to specify\n",
    "long and complex string in a readable way.) This function also embeds the\n",
    "table in a `<center>` element before displaying it."
   ]
  },
  {
   "cell_type": "code",
   "execution_count": null,
   "metadata": {},
   "outputs": [],
   "source": [
    "def display_datalist_as_html_table( data ):\n",
    "\n",
    "    cell_style = ( 'style=\"background-color:#AADDFF;' +\n",
    "                   'text-align:center;' +\n",
    "                   'border:1px solid black;\"' )\n",
    "    \n",
    "    html_table = make_html_table_from_datalist(data, cell_style)\n",
    "    display( HTML(\"<center>\" + html_table + \"</center>\") )\n",
    "    "
   ]
  },
  {
   "cell_type": "markdown",
   "metadata": {},
   "source": [
    "The output this produces is as follows:"
   ]
  },
  {
   "cell_type": "code",
   "execution_count": null,
   "metadata": {},
   "outputs": [],
   "source": [
    "display_datalist_as_html_table( PLAYLIST_DATA )"
   ]
  },
  {
   "cell_type": "markdown",
   "metadata": {},
   "source": [
    "### More control from a more complex function\n",
    "Customising the HTML display in this way is quite laborious and error prone.\n",
    "However, if we want to display a lot of HTML tables, we could create functions\n",
    "that would make it easier. This has been done in the module `html_formatting.py`.\n",
    "\n",
    "This will produce the table display illustrated by the following code\n",
    "cell output. The display can be further customised by passing additional\n",
    "optional configuration arguments to specify various latex style options."
   ]
  },
  {
   "cell_type": "code",
   "execution_count": null,
   "metadata": {},
   "outputs": [],
   "source": [
    "import html_formatting as hf\n",
    "\n",
    "hf.display_datalist_as_html_table(PLAYLIST_DATA)"
   ]
  },
  {
   "cell_type": "markdown",
   "metadata": {},
   "source": [
    "Notice that the `html_formatting` module defines a function `display_datalist_as_html_table`,\n",
    "which has the same name as the simpler function we defined above.\n",
    "We can actually make use of both of these versions, since to use the function\n",
    "from `html_formatting` we must add the prefix `hf.` (the name asigned to the module when it was imported in the cell above) before the function name.\n",
    "However, we can also import using a statement of the form\n",
    "`from` _module_ `import` _function_, which in this case would be:\n",
    "```python\n",
    "from html_formatting import display_datalist_as_html_table\n",
    "```\n",
    "If we use that form of `import` statement the\n",
    "function can be used without the module prefix, so the original function\n",
    "definition would no longer be associated with that function name."
   ]
  },
  {
   "cell_type": "markdown",
   "metadata": {},
   "source": [
    "### Automatically Generating URL Links\n",
    "\n",
    "\n",
    "Perhaps the most distinctive feature of an HTML document is that it is connected to other documents or information sources via links.\n",
    "\n",
    "Suppose I want to create a link that, when clicked, will carry out a search for some given words on YouTube. \n",
    "YouTube supports access to its search engine via a special type of URL, that will perform a search and generate a results page, just as if a normal search was being performed. But in this case, the words that it searches for are in the URL, so do not need to be typed in.\n",
    "For instance, the URL to search YouTube for \"Computer Love\" by \"Kraftwerk\" is:\n",
    "\n",
    "```html\n",
    "https://www.youtube.com/results?search_query=Computer+Love+by+Kraftwerk\n",
    "```\n",
    "\n",
    "To get a chunk of HTML that will display as a link, we need to create\n",
    "an [_anchor element_](https://www.w3schools.com/tags/tag_a.asp), \n",
    "which should be of the form\n",
    "```html\n",
    "<a href=URL>Link Text</a>\n",
    "```\n",
    "Thus for the previously given YouTube query URL, the link would be:\n",
    "```html\n",
    "<a href=\"https://www.youtube.com/results?search_query=Computer+Love+by+Kraftwerk\">\n",
    "Computer Love by Kraftwerk</a>\n",
    "```"
   ]
  },
  {
   "cell_type": "code",
   "execution_count": null,
   "metadata": {},
   "outputs": [],
   "source": [
    "def youtube_query_link( query_string, text_string=None ):\n",
    "         if not text_string:\n",
    "            text_string = query_string\n",
    "         wordlist = query_string.split()\n",
    "         URL = ( \"https://www.youtube.com/results?search_query=\" + \n",
    "                 \"+\".join(wordlist) )  # Add query terms separated by '+'\n",
    "         # Make string containing the HTML link element\n",
    "         return( '<a target=\"_blank\" href=\"' + URL + '\">' + text_string + '</a>' )     "
   ]
  },
  {
   "cell_type": "markdown",
   "metadata": {},
   "source": [
    "**Note** that the link created by `youtube_query_link` contains an extra\n",
    "specificaion `target=\"_blank\"`. This makes\n",
    "the link open in a new window or tab, which enables\n",
    "it to work well in a Jupyter notebook. Without that, the link may (depending\n",
    "on the particular browser and its option settings) cause the\n",
    "browser to exit the notebook, which is probably not what you want."
   ]
  },
  {
   "cell_type": "markdown",
   "metadata": {},
   "source": [
    "With the following code we can test whether `youtube_query_links` function produces working HTML hyperlinks:"
   ]
  },
  {
   "cell_type": "code",
   "execution_count": null,
   "metadata": {},
   "outputs": [],
   "source": [
    "def playlist_youtube_links( playlist ):\n",
    "    data = my_playlist_functions.get_datalist_from_csv( playlist )\n",
    "    for row in data[1:] :\n",
    "        query = row[0] + \" by \" + row[1]\n",
    "        youtube_link = youtube_query_link(query)\n",
    "        display(HTML(youtube_link))\n",
    "        \n",
    "playlist_youtube_links(\"music_for_programmers.csv\")"
   ]
  },
  {
   "cell_type": "markdown",
   "metadata": {},
   "source": [
    "Since we are interested in displaying the playlist as an HTML table, it would be nice to insert these YouTube links within the actual table.\n",
    "We can do this by first replacing the plain track name in the datalist with a YouTube link string and then creating a links table which includes these links.\n",
    "\n",
    "The following function substitutes the track links in a playlist datalist given as its parameter. Note, that the function does not return anything, but does have the effect\n",
    "of modifying the list past to it."
   ]
  },
  {
   "cell_type": "code",
   "execution_count": null,
   "metadata": {},
   "outputs": [],
   "source": [
    "def add_track_links_to_palylist_data(data):\n",
    "    for row in data[1:]:\n",
    "        track = row[0]\n",
    "        artist = row[1]\n",
    "        query = track + \" by \" + artist\n",
    "        link = youtube_query_link( query, track)\n",
    "        row[0] = link # replace the track name by the link"
   ]
  },
  {
   "cell_type": "markdown",
   "metadata": {},
   "source": [
    "So now we have functions for reading playlist data from a CSV file, inserting links for the track titles and creating an HTML format table from the data.\n",
    "We can put these steps together in the following function, which takes a playlist\n",
    "file name as its parameter and returns a corresponding HTML table string, with the links inserted:"
   ]
  },
  {
   "cell_type": "code",
   "execution_count": null,
   "metadata": {},
   "outputs": [],
   "source": [
    "def playlist_html_table( playlist ):\n",
    "    data = my_playlist_functions.get_datalist_from_csv(playlist)\n",
    "    add_track_links_to_palylist_data(data)\n",
    "    html_table = hf.make_html_table_from_datalist(data)\n",
    "    return html_table"
   ]
  },
  {
   "cell_type": "markdown",
   "metadata": {},
   "source": [
    "Finally, we can write a function that gets the HTML table for a file, adds\n",
    "a bit of extra HTML formatting (`<center>` and a `<H1>` heading tag) and\n",
    "displays the resultin HTML in the output area. Notice that, by building\n",
    "up the transformation in a series of small steps, it was possible to\n",
    "keep each function definition quite simple."
   ]
  },
  {
   "cell_type": "code",
   "execution_count": null,
   "metadata": {},
   "outputs": [],
   "source": [
    "def display_playlist_html_table( playlist ):\n",
    "    playlist_name = playlist[:-4]\n",
    "    html_table = playlist_html_table( playlist )\n",
    "    html = \"\"\"\n",
    "           <center>\n",
    "           <H1>Playlist: {} </H1>\n",
    "           {}\n",
    "           </center>\"\"\".format( playlist_name, html_table)\n",
    "    display( HTML(html) )\n",
    "    \n",
    "display_playlist_html_table( \"music_for_programmers.csv\")"
   ]
  },
  {
   "cell_type": "markdown",
   "metadata": {},
   "source": [
    "# Exercise Task\n",
    "\n",
    "## Define a better Playlist to HTML converter\n",
    "\n",
    "Now that you have seen some basic ideas for turning CSV data\n",
    "into HTML tables you can experiment with constructing a more\n",
    "elaborate display by extending the functionality of the\n",
    "previously given functions.\n",
    "You should try to achieve some of the\n",
    "enhancements listed below. Perhaps you can think of other\n",
    "innovations?\n",
    "\n",
    "* Add different fonts and/or colours to the table display.\n",
    "\n",
    "* Calculate the total play time and add this information to the table.\n",
    "\n",
    "* Add links to another resource such as Wikipedia for the Artist and/or\n",
    "  album data fields. (Note the query form for Wikipidea is a little different\n",
    "  from that used by YouTube. You can use a URL of the form:\n",
    "   * [https://en.wikipedia.org/?search=word1_word2](https://en.wikipedia.org/?search=reticulated_python).\n",
    "\n",
    "* Instead of displaying it in the notebook, write the HTML version of your\n",
    "  playlist to a file  (<font color=blue><i>playlist</i><tt>.html</tt></font>). \n",
    "  You can then open and view this file in web browser.\n",
    "  \n",
    "* Add more web-page customisation, such as a page title, background image, etc..\n",
    "  \n",
    "\n",
    "For example, Brandon Bennet from the University of Leeds, who developed an earlier version of this course, wrote a playlist data converter that produced the following web page:\n",
    "\n",
    "*  [Playlist Web Page Example](https://teaching.bb-ai.net/P4DS/Playlist_Web_page/Playlist_geek-music.html)\n",
    "\n",
    "**Confession:** Brandon hacked the output to give the impression that\n",
    "the page allows you to select and play any track. Actually it is \n",
    "hardwired to always play one track. (Track selection is possible\n",
    "put probably requires injection of [Javascript](https://en.wikipedia.org/wiki/JavaScript) into the HTML. It would be much easier to put a \n",
    "associate a small YouTube play button with each track.)"
   ]
  },
  {
   "cell_type": "code",
   "execution_count": null,
   "metadata": {},
   "outputs": [],
   "source": []
  }
 ],
 "metadata": {
  "kernelspec": {
   "display_name": "Python 3",
   "language": "python",
   "name": "python3"
  },
  "language_info": {
   "codemirror_mode": {
    "name": "ipython",
    "version": 3
   },
   "file_extension": ".py",
   "mimetype": "text/x-python",
   "name": "python",
   "nbconvert_exporter": "python",
   "pygments_lexer": "ipython3",
   "version": "3.7.6"
  }
 },
 "nbformat": 4,
 "nbformat_minor": 4
}
