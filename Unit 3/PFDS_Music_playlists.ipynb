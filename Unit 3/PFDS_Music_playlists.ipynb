{
 "cells": [
  {
   "cell_type": "markdown",
   "metadata": {},
   "source": [
    "# Example: Extracting Time Information from CSV Files\n",
    "\n",
    "Let us now look at a typical example of transforming and extracting\n",
    "information from data that is given to us in a particular format.\n",
    "We shall examine various coding options and potential problems\n",
    "in some detail. We shall mainly focus on low-level manipulation of\n",
    "time periods represented by strings and number. But at the end of the \n",
    "exercise you will  be given a task to reimplement the functionality \n",
    "using the much higher level `datatime.timedelta` object provided by Python.\n",
    "\n",
    "We shall consider files containing the details of music playlists\n",
    "structured in the form of a CSV representation.\n",
    "Note that this simple playlist format has been devised specifically\n",
    "for teaching purposes. Actual music software uses other formats, the\n",
    "most popular being [M3U](https://en.wikipedia.org/wiki/M3U), which is\n",
    "also quite simple but is not based on the CSV format.\n",
    "\n",
    "This notebook uses the files `music_for_programmers.csv`, `snake-music.csv` and `big_song_track_dataset.csv`, which will be in the same directory as this notebook on Coursera Labs. If you are working on your own computer, make sure you download these files and save them in the same directory as this notebook.\n",
    "\n",
    "We display the contents of this file using the following code:"
   ]
  },
  {
   "cell_type": "code",
   "execution_count": null,
   "metadata": {},
   "outputs": [],
   "source": [
    "with open('music_for_programmers.csv') as f:\n",
    "    print( f.read())"
   ]
  },
  {
   "cell_type": "markdown",
   "metadata": {},
   "source": [
    "Although this file format is very simple there are many\n",
    "useful things we could do with this kind of data.\n",
    "Also, although the meaning is fairly obvious, there are various\n",
    "issues that could arise and may complicate the interpretation of\n",
    "the data.\n",
    "\n",
    "Have a look at the example above and think about what issues\n",
    "might occur.\n",
    "\n",
    "<p>\n",
    "<details>\n",
    "    <summary>\n",
    "        <b>Click here to see some possible issues.</b>\n",
    "    </summary>\n",
    "    <ul>\n",
    "        <li>We need to be aware that the first line of the CSV is not\n",
    "            actual data about music tracks but is rather <i>meta data</i>,\n",
    "          which means that it tells us about what the data is. Specifically,\n",
    "          in the case of CSV files, the first line usually consists of\n",
    "          column titles which indicate the nature of the data in each\n",
    "          column. However, we also need to be aware that CSV files do\n",
    "            not always contain headers.</li>\n",
    "        <li>There is a space before the album title MAYA. The space is not\n",
    "          actually part of the album title but could possibly be included\n",
    "          in the string representation of the album title, when we read\n",
    "            it from this file.</li>\n",
    "        <li>There is actually another space right at the end after the '18:03'\n",
    "            which could be very difficult to spot.</li>\n",
    "        <li>There could be some issues with the time representation. We will\n",
    "            look at this below.</li>\n",
    "        <li>In the given playlist none of the textual data includes commas. But\n",
    "          commas might be present in the track and album names or artists of\n",
    "          other tracks. In such cases we would need some way of distinguishing\n",
    "          them from the commas used to separate the fields. The standard way\n",
    "            is to enclose text fields in quotation marks.</li>\n",
    "    </ul>\n",
    "</details>\n",
    "</p>\n",
    "\n",
    "Let us now consider what kinds of uses we might make of a \n",
    "playlist CSV file (or a collection of these files) and how we might \n",
    "implement these. You may be surprised by the large number\n",
    "of uses that these quite simple files could have.\n",
    "\n",
    "Some uses and functionalities that could be provided by\n",
    "playlist files:\n",
    "\n",
    "* Display a playlist (or set of playlists) in an attractive and \n",
    "  informative way, so a user can browse the tracks and perhaps\n",
    "  select a track they want to play.\n",
    "\n",
    "* Find the total playing time of the playlist, so that a user\n",
    "  can create a list to fill a certain time interval.\n",
    "\n",
    "* Enable users to create new playlists, perhaps by selecting from\n",
    "  existing playlists.\n",
    "  \n",
    "* Link playlists to actual music files (e.g. `MP3` files), in order \n",
    "  that tracks can be played. (Perhaps also warn if there a tracks\n",
    "  in the playlist for which music files cannot be found.\n",
    "  \n",
    "* Generate HTML search query links from the playlist data.\n",
    "\n",
    "* Find shared tracks or other connections between different playlists.\n",
    "\n",
    "* Find correlations between a person's playlist selections and other\n",
    "  data about the person, such as age, gender, nationality, items they\n",
    "  have bought etc.\n",
    "  \n",
    "* Use playlists from different people to suggest new music that someone may like."
   ]
  },
  {
   "cell_type": "markdown",
   "metadata": {},
   "source": [
    "### Extracting Data from a Playlist File\n",
    "\n",
    "We can quite easily extract data from a CSV file in the form of a _list of lists_. I call this a _datalist_.\n",
    "The following code defines a function\n",
    "`get_datalist_from_csv`, which reads a CSV file and\n",
    "returns a datalist. In this function I am using a `csv.reader` object, from the `csv` module, which is imported. This makes things a bit easier tha reading the raw text of the file (which we could also do)."
   ]
  },
  {
   "cell_type": "code",
   "execution_count": null,
   "metadata": {},
   "outputs": [],
   "source": [
    "## Import module for handling csv files.\n",
    "import csv\n",
    "\n",
    "def get_datalist_from_csv( filename ):\n",
    "    ## Create a 'file object' f, for accessing the file\n",
    "    with open( filename ) as f:\n",
    "        reader = csv.reader(f)     # create a 'csv reader' from the file object\n",
    "        datalist = list( reader )  # create a list from the reader\n",
    "    return datalist"
   ]
  },
  {
   "cell_type": "markdown",
   "metadata": {},
   "source": [
    "We can test this function with the following code. Here we are using a global variable, `DATA` to store the contents of the example `csv` file in _datalist_\n",
    "format and then simply printing out each element of `DATA` which is a list\n",
    "fo data items:"
   ]
  },
  {
   "cell_type": "code",
   "execution_count": null,
   "metadata": {},
   "outputs": [],
   "source": [
    "DATA = get_datalist_from_csv(\"music_for_programmers.csv\")\n",
    "for row in DATA: \n",
    "    print(row)"
   ]
  },
  {
   "cell_type": "markdown",
   "metadata": {},
   "source": [
    "Representing the playlist information as a list of strings makes it a bit easier to see the extra spaces in the data."
   ]
  },
  {
   "cell_type": "markdown",
   "metadata": {},
   "source": [
    "### Finding the total playing time\n",
    "\n",
    "A quite simple but useful data extraction task we can do on the playlist\n",
    "is to extract the total playing time. This will illustrate some basic\n",
    "data manipulation operations.\n",
    "\n",
    "One thing to note is that the first item is not a data record but is\n",
    "a header specification that contains strings that describe the content\n",
    "of each part of  following data records. We can easily strip this off with the following code:"
   ]
  },
  {
   "cell_type": "code",
   "execution_count": null,
   "metadata": {},
   "outputs": [],
   "source": [
    "DATA = DATA[1:]"
   ]
  },
  {
   "cell_type": "markdown",
   "metadata": {},
   "source": [
    "It is now straightforward to extract a list of just the string representing the playing time from each of the records in the datalist:"
   ]
  },
  {
   "cell_type": "code",
   "execution_count": null,
   "metadata": {},
   "outputs": [],
   "source": [
    "time_strings = [record[3] for record in DATA]\n",
    "time_strings"
   ]
  },
  {
   "cell_type": "markdown",
   "metadata": {},
   "source": [
    "Of course we cannot simply add up these times, since they are represented as charater strings rather than numbers.  Also, they are written in the form `'m:s'`, where `m` is a number of minutes and `s` is a number of seconds.\n",
    "\n",
    "### Converting a time string representation to a number of seconds\n",
    "Given that converting these time strings to a numerical form, such as a number of seconds is a meaningful component of the processing we want to do, it is a good idea to define this operation as a function. We could define this as follows:"
   ]
  },
  {
   "cell_type": "code",
   "execution_count": null,
   "metadata": {},
   "outputs": [],
   "source": [
    "def time_string_to_seconds(s):\n",
    "    m_s = s.split(':')\n",
    "    mins = int(m_s[0]) \n",
    "    secs = int(m_s[1])\n",
    "    return mins*60 + secs"
   ]
  },
  {
   "cell_type": "markdown",
   "metadata": {},
   "source": [
    "Then we can test this on the `time_strings` data that was extracted from the playlist `.csv` file."
   ]
  },
  {
   "cell_type": "code",
   "execution_count": null,
   "metadata": {},
   "outputs": [],
   "source": [
    "times = [time_string_to_seconds(s) for s in time_strings]\n",
    "times"
   ]
  },
  {
   "cell_type": "markdown",
   "metadata": {},
   "source": [
    "Note that in carrying out this transformation, we were lucky that the string '18:03 ' was processed correctly. This is because Python's type conversion operation \n",
    "`int('03 ')` ignores the extra space. Data quality issues are often difficult to\n",
    "detect and may or may not cause problems, depending on the kind of operations we\n",
    "apply. \n",
    "\n",
    "Suppose that we had implemented the time string conversion function\n",
    "as follows:"
   ]
  },
  {
   "cell_type": "code",
   "execution_count": null,
   "metadata": {},
   "outputs": [],
   "source": [
    "def alt_time_string_to_seconds(s):\n",
    "    mins = int(s[0])\n",
    "    secs = int(s[-2:])\n",
    "    return mins*60 + secs\n",
    "\n",
    "## Test:\n",
    "times = [alt_time_string_to_seconds(s) for s in time_strings]\n",
    "times"
   ]
  },
  {
   "cell_type": "markdown",
   "metadata": {},
   "source": [
    "This may appear at first sight to have worked as no error has occurred. However, if we check the values, we see that the value for the time of the final track is incorrect. In fact, as well as the problem with the data (the time string having an extra space), there is also a problem with the code.\n",
    "\n",
    "\n",
    "<p>\n",
    "<details>\n",
    "    <summary>\n",
    "        <b>What is the bug in the code?</b> (Click to reveal)\n",
    "    </summary>\n",
    "    <ul>\n",
    "        <li>In this second definition of <code>time_string_to_seconds</code> the programmer has assumed\n",
    "    that the minutes part of the time string always consists of one digit, whereas it could consist of two digits.\n",
    "        </li>\n",
    "    </ul>\n",
    "</details>\n",
    "</p>\n"
   ]
  },
  {
   "cell_type": "markdown",
   "metadata": {},
   "source": [
    "### A better solution\n",
    "Having seen how different forms of time string could occur, depending on the length\n",
    "of a track, we realise that we really need a more general function that can cope\n",
    "with time strings that could consist of only a number of seconds, or minutes and seconds, or hours, minutes and seconds (I guess we can assume we won't have tracks\n",
    "lasting more than a day. If we did they could still be represented in terms of\n",
    "hours, minutes and seconds.)\n",
    "Here is a new function definition that can take care of all these possible \n",
    "formats."
   ]
  },
  {
   "cell_type": "code",
   "execution_count": null,
   "metadata": {},
   "outputs": [],
   "source": [
    "def time_string_to_seconds(s):\n",
    "    parts = s.split(':')\n",
    "    parts = [int(p) for p in parts]\n",
    "    if len(parts) == 1:\n",
    "        return parts[0]\n",
    "    if len(parts) == 2:\n",
    "        return parts[0]*60 + parts[1]\n",
    "    if len(parts) == 3:\n",
    "        return parts[0]*60*60 + parts[1]*60 + parts[2]\n",
    "    print( \"!!! ERROR: time_string_to_seconds: incorrect format:\", s)\n",
    "    return False"
   ]
  },
  {
   "cell_type": "markdown",
   "metadata": {},
   "source": [
    "### Testing the function\n",
    "To be sure our function is working as intended, it is an extremely\n",
    "good idea to test it on a variety of different possible inputs.\n",
    "In fact the following test tries all the allowed formats, and\n",
    "also one that is not allowed:"
   ]
  },
  {
   "cell_type": "code",
   "execution_count": null,
   "metadata": {},
   "outputs": [],
   "source": [
    "for s in [\"5\", \"12\", \"3:1\",    \"3:12\",  \"10:12\", \n",
    "          \"1:3:1\",   \"1:3:12\", \"1:10:12\", \"10:1:1\", \n",
    "          \"10:1:12\", \"10:12:12\", \"9:9:9:9\"]:\n",
    "    print(time_string_to_seconds(s))"
   ]
  },
  {
   "cell_type": "markdown",
   "metadata": {},
   "source": [
    "### Finding the total playing time\n",
    "\n",
    "The time strings have now been converted to a simple and uniform \n",
    "numerical form (the number of seconds); so the total playing time (in seconds) \n",
    "is just the sum of these values:"
   ]
  },
  {
   "cell_type": "code",
   "execution_count": null,
   "metadata": {},
   "outputs": [],
   "source": [
    "times = [time_string_to_seconds(s) for s in time_strings]\n",
    "total_time = sum(times)\n",
    "total_time"
   ]
  },
  {
   "cell_type": "markdown",
   "metadata": {},
   "source": [
    "### Putting it together in a function\n",
    "Now that we have successfully implemented the stages of processing\n",
    "required to extract the total playing time of a playlist, it is a good\n",
    "idea to package up the required processing steps into a function.\n",
    "This will enable us to use the function to directly get the length\n",
    "of a playlist the CSV file without having to remember and recode\n",
    "all the steps.\n",
    "The following function definition does this job.\n",
    "Notice that we make use of the previously defined functions\n",
    "`get_datalist_from_csv` and `time_string_to_seconds` within\n",
    "our new function `get_playlist_length`. This illustrates how the\n",
    "use of small functions with a clear meaning and purpose can help\n",
    "us to "
   ]
  },
  {
   "cell_type": "code",
   "execution_count": null,
   "metadata": {},
   "outputs": [],
   "source": [
    "def get_playlist_length(filename):\n",
    "    data = get_datalist_from_csv(filename)\n",
    "    tracks = data[1:]\n",
    "    time_strings = [record[3] for record in tracks]\n",
    "    playtimes = [time_string_to_seconds(ts) for ts in time_strings]\n",
    "    return sum(playtimes)"
   ]
  },
  {
   "cell_type": "markdown",
   "metadata": {},
   "source": [
    "Let us test `get_playlist_length` on our two example files. The following code\n",
    "returns a tuple containing the values from each of the files."
   ]
  },
  {
   "cell_type": "code",
   "execution_count": null,
   "metadata": {},
   "outputs": [],
   "source": [
    "( get_playlist_length(\"music_for_programmers.csv\"),\n",
    "  get_playlist_length(\"snake-music.csv\")\n",
    ")"
   ]
  },
  {
   "cell_type": "markdown",
   "metadata": {},
   "source": [
    "### Converting seconds back to hours, minutes and seconds\n",
    "\n",
    "A time length given in seconds is not so easy for humans interpret. Hence, we may want to conver into hours, minutes and seconds to display the total time. \n",
    "\n",
    "We shall take this opportunity to advocate a very powerful method that top grade\n",
    "programmers often adopt. When they need to solve a specific\n",
    "problem, they consider whether it is a special case of a more general problem.\n",
    "If so, it may be easier to solve the more general problem. This has the added\n",
    "advantage that they can potentially use the solution again if a similar\n",
    "type of coding problem arises."
   ]
  },
  {
   "cell_type": "code",
   "execution_count": null,
   "metadata": {},
   "outputs": [],
   "source": [
    "def convert_to_mixed_base( n, bases ):\n",
    "    quantities = []            # Build up a list of quantities for each factor\n",
    "    for f in bases[::-1]:      # go through the bases in reverse order\n",
    "        quantities.append(n%f) # add remainder from smallest base to the list\n",
    "        n = n//f               # divide number by the base (// ignores remainder)\n",
    "    quantities.append(n)       # Add what left (the quantity of the highest base)\n",
    "    quantities.reverse()       # reverse to give higest base quantity first\n",
    "    return quantities"
   ]
  },
  {
   "cell_type": "markdown",
   "metadata": {},
   "source": [
    "We can test this by, for example, considering the Imperial system of weights, where there are 14 _pounds_ in a _stone_, and 16 _ounces_ in a _pound_.\n",
    "Hence to convert 1000 ounces to stones, bounds and ounces we could use the\n",
    "following function call:"
   ]
  },
  {
   "cell_type": "code",
   "execution_count": null,
   "metadata": {},
   "outputs": [],
   "source": [
    "convert_to_mixed_base( 1000, [14,16])"
   ]
  },
  {
   "cell_type": "markdown",
   "metadata": {},
   "source": [
    "This output tells us that 1000 ounces is equal to 4 stone, 6 pounds and 8 ounces. (You can see why many people prefer the metric system. Why do we not use a base 10 system for time measurements?)\n",
    "\n",
    "We can now easily write a function for turning a number of seconds back to a time representation string of the sort used in the playlist files:"
   ]
  },
  {
   "cell_type": "code",
   "execution_count": null,
   "metadata": {},
   "outputs": [],
   "source": [
    "def seconds_to_time_string(s):\n",
    "    h_m_s = convert_to_mixed_base( s, [60,60] )\n",
    "    h_m_s_strings = [str(x) for x in h_m_s]\n",
    "    return \":\".join(h_m_s_strings)"
   ]
  },
  {
   "cell_type": "code",
   "execution_count": null,
   "metadata": {},
   "outputs": [],
   "source": [
    "seconds_to_time_string(10000)"
   ]
  },
  {
   "cell_type": "markdown",
   "metadata": {},
   "source": [
    "When programming, it is usually best to double check that all is as expected, so let us try converting that back to seconds with a simple calculation:"
   ]
  },
  {
   "cell_type": "code",
   "execution_count": null,
   "metadata": {},
   "outputs": [],
   "source": [
    "2*60*60 + 46*60 + 40 "
   ]
  },
  {
   "cell_type": "markdown",
   "metadata": {},
   "source": [
    "Great. That seems to work. (Though when programming a real application testing just one case is not enough.)"
   ]
  },
  {
   "cell_type": "markdown",
   "metadata": {},
   "source": [
    "###  Playing times and `timedelta` objects\n",
    "\n",
    "We have seen how we can manipulate time information by low level operations on string\n",
    "reprentations. This is a good illustration of the kinds of data conversion one \n",
    "may need to implement. However, since handling time information is a common \n",
    "requirement of many programming tasks, Python actually provides standard modules\n",
    "that support much easier ways of working with time information. In particular\n",
    "the module `datetime` enables one to create objects corresponding to time points,\n",
    "dates, time periods and even time-zones; and these objects support a variety\n",
    "of useful operations that one may want to perform with temporal information.\n",
    "\n",
    "[Python3 datetime module documentation](https://docs.python.org/3/library/datetime.html)\n",
    "\n",
    "\n",
    "Using the `datetime` package, it is easy to create `timedelta` objects, which store\n",
    "time period measurements in a very flexible way. This is illustrated by the\n",
    "following code example:"
   ]
  },
  {
   "cell_type": "code",
   "execution_count": null,
   "metadata": {},
   "outputs": [],
   "source": [
    "import datetime\n",
    "\n",
    "dt1 = datetime.timedelta( hours=1, minutes=20)\n",
    "dt2 = datetime.timedelta( minutes=90)\n",
    "dt3 = datetime.timedelta( minutes=5, seconds=5)\n",
    "\n",
    "print( \"dt1 < dt2 ?\", dt1 < dt2 )\n",
    "\n",
    "print( \"dt1 < dt3 ?\", dt1 < dt3 )\n",
    "\n",
    "dt4 = dt1 + dt2 + dt3\n",
    "\n",
    "dt4"
   ]
  },
  {
   "cell_type": "markdown",
   "metadata": {},
   "source": [
    "### A word of caution\n",
    "\n",
    "Working with data that involves dates and times can often be difficult, in part because of the different ways that times and dates can be represented (e.g. the order in which days and months are displayed) and because times and dates are different in different places. The source of a lot of problems with dates and times is the fact that there are not an integer number of days in a year and the length of the year changes slightly each year. So if you ever have to work with data that involves dates and times, take extra care, consider possible issues with the data (such as whether it is formated in a consistent way) and check everything you do very carefully."
   ]
  },
  {
   "cell_type": "markdown",
   "metadata": {},
   "source": [
    "# Exercise Task\n",
    "\n",
    "Now you have seen some coding examples of basic data extraction in \n",
    "relation to the CSV-based playlist format your should try the following\n",
    "exercises:\n",
    "\n",
    "* Reimplement the calculation of total playing time and its output\n",
    "  in human-readable format using `datetime.timedelta` objects.\n",
    "  \n",
    "* Examine the file [big_song_track_dataset.csv](big_song_track_dataset.csv).\n",
    "  This contains similar data to what is in our playlist format but also has\n",
    "  a lot of additional information.\n",
    "  Write a function that can read data from this file and extract \n",
    "  a very large playlist datalist from it in the format used above.\n",
    "  (Do not include information that is not required for our playlist format\n",
    "  and convert the duration information into a form that can be used by\n",
    "  your function to calculate the total duration of a playlist.)\n",
    "  \n",
    "* Write a function that given a time duration as an input parameter\n",
    "  can generate a playlist of tracks picked randomly from\n",
    "  big_song_track_dataset.csv, such that the total playtime is \n",
    "  approximately the same as the time duration parameter.\n",
    "  (You should consider various options of how to fulfill the requirement of the duration being approximately the same. Imagine how this function\n",
    "  might be used. Should it sometimes give a playlist that is slightly\n",
    "  longer or slightly shorter. Is it possible to fill time periods\n",
    "  exactly, or optimally? Perhaps it should have different options\n",
    "  that can be given as an additional parametar.\n",
    "\n"
   ]
  },
  {
   "cell_type": "code",
   "execution_count": null,
   "metadata": {},
   "outputs": [],
   "source": []
  }
 ],
 "metadata": {
  "kernelspec": {
   "display_name": "Python 3 (ipykernel)",
   "language": "python",
   "name": "python3"
  },
  "language_info": {
   "codemirror_mode": {
    "name": "ipython",
    "version": 3
   },
   "file_extension": ".py",
   "mimetype": "text/x-python",
   "name": "python",
   "nbconvert_exporter": "python",
   "pygments_lexer": "ipython3",
   "version": "3.8.13"
  }
 },
 "nbformat": 4,
 "nbformat_minor": 4
}
