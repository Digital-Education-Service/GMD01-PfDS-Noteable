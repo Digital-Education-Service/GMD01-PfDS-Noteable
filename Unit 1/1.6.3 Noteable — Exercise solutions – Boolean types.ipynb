{
 "cells": [
  {
   "cell_type": "markdown",
   "id": "fda24729",
   "metadata": {},
   "source": [
    "# Exercise Solutions - Booleans"
   ]
  },
  {
   "cell_type": "markdown",
   "id": "50f0702f",
   "metadata": {},
   "source": [
    "### Exercise"
   ]
  },
  {
   "cell_type": "code",
   "execution_count": 1,
   "id": "8296e939",
   "metadata": {},
   "outputs": [
    {
     "name": "stdout",
     "output_type": "stream",
     "text": [
      "I'm too hot!\n"
     ]
    }
   ],
   "source": [
    "temp=22\n",
    "wearing_coat=True\n",
    "if temp > 27 or (temp > 20 and wearing_coat) :\n",
    "    print( \"I'm too hot!\" )"
   ]
  },
  {
   "cell_type": "markdown",
   "id": "20888c6a",
   "metadata": {},
   "source": [
    "In the example code above, experiment with the numerical value of the variable `temp` and the Boolean value of the variable `wearing_coat` to see when \"I'm too hot!\" is printed.\n",
    "\n",
    "#### Solution\n",
    "\n",
    "You should try changing the values, for example, you could make `temp=27` and `wearing_coat=False`, which produces no output:"
   ]
  },
  {
   "cell_type": "code",
   "execution_count": 2,
   "id": "3283a547",
   "metadata": {},
   "outputs": [],
   "source": [
    "temp=27\n",
    "wearing_coat=False\n",
    "if temp > 27 or (temp > 20 and wearing_coat) :\n",
    "    print( \"I'm too hot!\" )"
   ]
  },
  {
   "cell_type": "markdown",
   "id": "84b15e48",
   "metadata": {},
   "source": [
    "### Exercise\n",
    "\n",
    "How can the or operator be produced from a combination of the not and and operators? Hint: copy the code above to the cell below and replace A or B in the f-string in the print statement with combinations of not and and with the variables A and B, using brackets if necessary. Hint: compare the truth table for A or B with the truth table for A and B.\n",
    "\n",
    "#### Solution\n",
    "\n",
    "The truth table for `or` (which is given) is:"
   ]
  },
  {
   "cell_type": "code",
   "execution_count": 3,
   "id": "cd22c90d",
   "metadata": {},
   "outputs": [
    {
     "name": "stdout",
     "output_type": "stream",
     "text": [
      "A\tB\tA or B\n",
      "------------------------\n",
      "False\tFalse\tFalse\n",
      "False\tTrue\tTrue\n",
      "True\tFalse\tTrue\n",
      "True\tTrue\tTrue\n"
     ]
    }
   ],
   "source": [
    "print(f'A\\tB\\tA or B')\n",
    "print('-'*3*8)\n",
    "for A in [False,True]:\n",
    "    for B in [False,True]:\n",
    "        print(f'{A}\\t{B}\\t{A or B}')"
   ]
  },
  {
   "cell_type": "markdown",
   "id": "22fda900",
   "metadata": {},
   "source": [
    "Changing this to `and` gives:"
   ]
  },
  {
   "cell_type": "code",
   "execution_count": 4,
   "id": "a86efb8e",
   "metadata": {},
   "outputs": [
    {
     "name": "stdout",
     "output_type": "stream",
     "text": [
      "A\tB\tA or B\n",
      "------------------------\n",
      "False\tFalse\tFalse\n",
      "False\tTrue\tFalse\n",
      "True\tFalse\tFalse\n",
      "True\tTrue\tTrue\n"
     ]
    }
   ],
   "source": [
    "print(f'A\\tB\\tA or B')\n",
    "print('-'*3*8)\n",
    "for A in [False,True]:\n",
    "    for B in [False,True]:\n",
    "        # We only need to change or to and in the print statement: \n",
    "        print(f'{A}\\t{B}\\t{A and B}')"
   ]
  },
  {
   "cell_type": "markdown",
   "id": "09db535b",
   "metadata": {},
   "source": [
    "We see that this is the opposite of what we want, so if we apply `not` to the result of `A and B`, we will get the truth table for `or`. "
   ]
  },
  {
   "cell_type": "code",
   "execution_count": 5,
   "id": "8aa3237a",
   "metadata": {},
   "outputs": [
    {
     "name": "stdout",
     "output_type": "stream",
     "text": [
      "A\tB\tA or B\n",
      "------------------------\n",
      "False\tFalse\tTrue\n",
      "False\tTrue\tTrue\n",
      "True\tFalse\tTrue\n",
      "True\tTrue\tFalse\n"
     ]
    }
   ],
   "source": [
    "print(f'A\\tB\\tA or B')\n",
    "print('-'*3*8)\n",
    "for A in [False,True]:\n",
    "    for B in [False,True]:\n",
    "        print(f'{A}\\t{B}\\t{not (A and B)}')"
   ]
  }
 ],
 "metadata": {
  "kernelspec": {
   "display_name": "Python 3 (ipykernel)",
   "language": "python",
   "name": "python3"
  },
  "language_info": {
   "codemirror_mode": {
    "name": "ipython",
    "version": 3
   },
   "file_extension": ".py",
   "mimetype": "text/x-python",
   "name": "python",
   "nbconvert_exporter": "python",
   "pygments_lexer": "ipython3",
   "version": "3.8.13"
  }
 },
 "nbformat": 4,
 "nbformat_minor": 5
}
