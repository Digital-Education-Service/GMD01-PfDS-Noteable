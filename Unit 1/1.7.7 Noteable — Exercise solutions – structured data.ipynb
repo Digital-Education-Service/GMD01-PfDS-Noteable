{
 "cells": [
  {
   "cell_type": "markdown",
   "id": "fda24729",
   "metadata": {},
   "source": [
    "# Exercise Solutions - Structured Data"
   ]
  },
  {
   "cell_type": "markdown",
   "id": "864bcf1f",
   "metadata": {},
   "source": [
    "### Exercise\n",
    "\n",
    "Try out some different index values to access items in `list_of_numbers` defined below. Check that the items you access match their position in the list."
   ]
  },
  {
   "cell_type": "code",
   "execution_count": 1,
   "id": "9f36900b",
   "metadata": {},
   "outputs": [
    {
     "data": {
      "text/plain": [
       "1"
      ]
     },
     "execution_count": 1,
     "metadata": {},
     "output_type": "execute_result"
    }
   ],
   "source": [
    "list_of_numbers = [1, 3, 7, 9, 12, 10, 2]\n",
    "list_of_numbers[0]"
   ]
  },
  {
   "cell_type": "markdown",
   "id": "0faf0879",
   "metadata": {},
   "source": [
    "#### Solution\n",
    "\n",
    "You should find that using index 0 returns 1, index 1 returns 3, etc.\n",
    "\n",
    "### Exercise (Modifying a list)\n",
    "\n",
    "Use the commands above to modify `list_of_numbers` so that the resulting list has two copies of `list_of_numbers`, then insert a 0 between these copies and finally replace the 11th entry (i.e. index 10) with -1.\n",
    "\n",
    "#### Solution\n",
    "\n",
    "We can use `extend`, `insert` and indexing to achieve this:"
   ]
  },
  {
   "cell_type": "code",
   "execution_count": 2,
   "id": "574e4dc1",
   "metadata": {},
   "outputs": [
    {
     "name": "stdout",
     "output_type": "stream",
     "text": [
      "[1, 3, 7, 9, 12, 10, 2, 0, 1, 3, -1, 9, 12, 10, 2]\n"
     ]
    }
   ],
   "source": [
    "list_of_numbers = [1, 3, 7, 9, 12, 10, 2]\n",
    "list_of_numbers.extend(list_of_numbers)\n",
    "list_of_numbers.insert(7,0)\n",
    "list_of_numbers[10]=-1\n",
    "print(list_of_numbers)"
   ]
  },
  {
   "cell_type": "code",
   "execution_count": null,
   "id": "0c31c54f",
   "metadata": {},
   "outputs": [],
   "source": []
  }
 ],
 "metadata": {
  "kernelspec": {
   "display_name": "Python 3 (ipykernel)",
   "language": "python",
   "name": "python3"
  },
  "language_info": {
   "codemirror_mode": {
    "name": "ipython",
    "version": 3
   },
   "file_extension": ".py",
   "mimetype": "text/x-python",
   "name": "python",
   "nbconvert_exporter": "python",
   "pygments_lexer": "ipython3",
   "version": "3.9.18"
  }
 },
 "nbformat": 4,
 "nbformat_minor": 5
}
