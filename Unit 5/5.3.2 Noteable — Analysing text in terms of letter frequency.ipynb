{
 "cells": [
  {
   "cell_type": "markdown",
   "metadata": {},
   "source": [
    "# Analysing Text in terms of Letter Frequency\n",
    "\n",
    "This notebook illustrates the use of a vector feature representation\n",
    "of data samples in order to calculate a measure of similarity, which\n",
    "could be used for classification or clustering of text samples.\n",
    "\n",
    "In order to run the functions yourself, you will need to download\n",
    "and unzip the `books.zip` file and also `myhtml.py`. Ensure\n",
    "that the `books` folder and `myhtml.py` are in the same folder\n",
    "as this notebook file.\n",
    "\n",
    "Let us start by writing a function that will, given any string, \n",
    "return a dictionary giving the count of the number of occurrences\n",
    "of each letter of the alphabet in that string. This is done by\n",
    "the code below. Non letter characters will be ignored and\n",
    "upper and lower case characters will be counted together --- i.e.\n",
    "it is case insensitive."
   ]
  },
  {
   "cell_type": "code",
   "execution_count": null,
   "metadata": {},
   "outputs": [],
   "source": [
    "import math\n",
    "\n",
    "alphabet = \"abcdefghijklmnopqrstuvwxyz\"\n",
    "\n",
    "def get_string_letter_counts( string ):\n",
    "    string = string.lower()\n",
    "    counts = {}\n",
    "    for letter in alphabet:\n",
    "        counts[letter] = 0\n",
    "    for letter in string:\n",
    "        if letter in counts:\n",
    "            counts[letter] += 1  \n",
    "    return counts"
   ]
  },
  {
   "cell_type": "markdown",
   "metadata": {},
   "source": [
    "We can test this on an example string:"
   ]
  },
  {
   "cell_type": "code",
   "execution_count": null,
   "metadata": {},
   "outputs": [],
   "source": [
    "get_string_letter_counts(\"Hello, I'm a string.\")"
   ]
  },
  {
   "cell_type": "markdown",
   "metadata": {},
   "source": [
    "To analyse text files, it will be useful to code up a similar function\n",
    "where the argument is a file name and the output is a dictionary of\n",
    "letter counts for the contents of the file:"
   ]
  },
  {
   "cell_type": "code",
   "execution_count": null,
   "metadata": {},
   "outputs": [],
   "source": [
    "def get_file_letter_counts( file_name ):\n",
    "    with open( file_name) as f:\n",
    "        contents = f.read()\n",
    "    return get_string_letter_counts(contents)\n",
    "\n",
    "get_file_letter_counts(\"books/Gadsby.txt\")"
   ]
  },
  {
   "cell_type": "markdown",
   "metadata": {},
   "source": [
    "It may be useful to visualise the relative frequency of each letter.\n",
    "One could, of course, use `matplotlib`, but here I illustrate some more\n",
    "basic Python programming that will display a simple text-based chart\n",
    "showing the letter frequencies in decreasing order:"
   ]
  },
  {
   "cell_type": "code",
   "execution_count": null,
   "metadata": {},
   "outputs": [],
   "source": [
    "def sort_keys_by_value( dictionary ):\n",
    "    return sorted( dictionary.keys(),\n",
    "                   key = lambda x: dictionary[x])        \n",
    "                 \n",
    "def display_file_letter_counts( filename ):\n",
    "    percent_per_star = 0.2\n",
    "    counts = get_file_letter_counts( filename)\n",
    "    total = sum( counts.values() )             \n",
    "    for letter in sort_keys_by_value(counts):\n",
    "        count = counts[letter]\n",
    "        percent = 100*(count/total)\n",
    "        num_stars = int( percent / percent_per_star)\n",
    "        percent_str = \"({}%)\".format(round(percent,2)) \n",
    "        print( letter, \"*\" * num_stars, count, percent_str )\n",
    "        \n",
    "display_file_letter_counts(\"books/Dracula.txt\")"
   ]
  },
  {
   "cell_type": "markdown",
   "metadata": {},
   "source": [
    "# Letter Frequency Vectors¶\n",
    "\n",
    "When comparing different text samples, it is likely that we will want to\n",
    "compare samples of different lengths. In this case, we will probably want\n",
    "to characterise the samples in terms of letter frequency rather than\n",
    "total letter counts.\n",
    "\n",
    "I define the letter frequency of a text string as a vector with 26 components,\n",
    "where each of the components is the frequency of that letter given as\n",
    "a decimal fraction of the total number of letters in the text. We can easily\n",
    "calculate this from the letter count dictionary that we computed above:"
   ]
  },
  {
   "cell_type": "code",
   "execution_count": null,
   "metadata": {},
   "outputs": [],
   "source": [
    "def letter_frequency_vector( string ):\n",
    "    counts = get_string_letter_counts( string )\n",
    "    total = sum( counts.values() )\n",
    "    return [ counts[letter]/total for letter in alphabet ]"
   ]
  },
  {
   "cell_type": "markdown",
   "metadata": {},
   "source": [
    "And again, for analysing text files, it will convenient to define a version\n",
    "of this function which takes a file name argument rather than a string:"
   ]
  },
  {
   "cell_type": "code",
   "execution_count": null,
   "metadata": {},
   "outputs": [],
   "source": [
    "def file_letter_frequency_vector( file_name ):\n",
    "    with open(file_name) as f:\n",
    "        contents = f.read()\n",
    "    return letter_frequency_vector( contents )"
   ]
  },
  {
   "cell_type": "markdown",
   "metadata": {},
   "source": [
    "#### 'Distance' between letter frequency vectors\n",
    "A measure of 'distance' between two vectors may be defined using Pythagoras\n",
    "theorem.\n",
    "The frequency of each letter may be considered as a distance in a particular\n",
    "dimension of a 'space' of letter frequences. To calculate the 'distance', \n",
    "$\\delta(f_1, f_2)$, between\n",
    "letter frequencies $f_1$ and $f_2$, we can use the following equation:\n",
    "\n",
    "$$\n",
    "\\delta(f_1, f_2) = \\sqrt{\\sum_{l \\in \\textbf{Alphabet}} (f_1(l) - f_2(l))^2}\n",
    "$$\n",
    "\n",
    "Using Python, we can calculate this as follows:"
   ]
  },
  {
   "cell_type": "code",
   "execution_count": null,
   "metadata": {},
   "outputs": [],
   "source": [
    "def vector_distance( V1, V2 ): \n",
    "    diffs = [ x-y for (x,y) in zip(V1,V2)]\n",
    "    sum_of_squares = sum( [ x**2 for x in diffs ] )\n",
    "    return math.sqrt(sum_of_squares)"
   ]
  },
  {
   "cell_type": "markdown",
   "metadata": {},
   "source": [
    "## Systematic Comparison of Texts\n",
    "\n",
    "Suppose we have a set of samples and can compute some measure of 'distance' between\n",
    "each pair of samples. A simple and systematic way to investigate this distance measure\n",
    "is to compute the distance between every pair of samples and record and/or display\n",
    "this in the form of a table.\n",
    "\n",
    "Since Python allows us to have functions as the values of variables, and hence to\n",
    "pass functions as parameters to functions, we can address this requirement in\n",
    "a very general way. The function defined below can\n",
    "be given any binary function and set of input values. From this it computes\n",
    "a matrix (a list of lists) giving the value of that function from any pair\n",
    "of inputs taken from the input set:"
   ]
  },
  {
   "cell_type": "code",
   "execution_count": null,
   "metadata": {},
   "outputs": [],
   "source": [
    "def matrix_of_binary_function( function, inputs ):\n",
    "       return [  [ function(i1, i2) for i2 in inputs]\n",
    "                 for i1 in inputs\n",
    "              ]"
   ]
  },
  {
   "cell_type": "markdown",
   "metadata": {},
   "source": [
    " The use of `matrix_of_binary_function` may be illustrated as follows:"
   ]
  },
  {
   "cell_type": "code",
   "execution_count": null,
   "metadata": {},
   "outputs": [],
   "source": [
    "def f(x,y):\n",
    "    return x + y**2\n",
    "\n",
    "matrix_of_binary_function( f, [0,1,2,3] )"
   ]
  },
  {
   "cell_type": "markdown",
   "metadata": {},
   "source": [
    "Building on the above, we can augment the matrix obtained by adding the input values\n",
    "as indices for the rows and columns of the matrix, so we get a more readable table\n",
    "view of the matrix. The code also requires a label parameter which will go in the top left\n",
    "of the table to describe the table content."
   ]
  },
  {
   "cell_type": "code",
   "execution_count": null,
   "metadata": {},
   "outputs": [],
   "source": [
    "def table_of_binary_function( label, function, inputs ):\n",
    "    matrix = matrix_of_binary_function( function, inputs )\n",
    "    table = [ [label] + inputs ] # header row\n",
    "    for i in range(len(inputs)):\n",
    "        table.append( [inputs[i]] + matrix[i] )\n",
    "    return table"
   ]
  },
  {
   "cell_type": "markdown",
   "metadata": {},
   "source": [
    "### Now we make a letter frequency vector distance table for some books\n",
    "If we have a selection of text files (e.g. books from \n",
    "[Project Gutenburg](https://www.gutenberg.org/)), we can now calculate\n",
    "the letter frequency vectors for each of these, with code such as the following:"
   ]
  },
  {
   "cell_type": "code",
   "execution_count": null,
   "metadata": {},
   "outputs": [],
   "source": [
    "BOOK_LIST = [ \"Romeo+Juliet\",\n",
    "              \"Midsummer-Nights-Dream\",\n",
    "              \"Wuthering-Heights\",\n",
    "              \"Jane-Eyre\",\n",
    "              \"Dracula\",\n",
    "              \"Jewel-of-Seven-Stars\",\n",
    "              \"Gadsby\"\n",
    "            ]\n",
    "\n",
    "## Calculate the Letter Frequency Vectors of all the books\n",
    "## and store in a dictionary (key is book name)\n",
    "LFVs = {}\n",
    "for b in BOOK_LIST:\n",
    "    LFVs[b] = file_letter_frequency_vector( \"books/\" + b + \".txt\")"
   ]
  },
  {
   "cell_type": "markdown",
   "metadata": {},
   "source": [
    "Given any two book names in `BOOK_LIST` we can now calculate the 'distance' between them\n",
    "by the following function:"
   ]
  },
  {
   "cell_type": "code",
   "execution_count": null,
   "metadata": {},
   "outputs": [],
   "source": [
    "def book_distance(b1,b2):\n",
    "    return vector_distance( LFVs[b1], LFVs[b2] )"
   ]
  },
  {
   "cell_type": "markdown",
   "metadata": {},
   "source": [
    "Or if we want to round the distance measure down to, say, 4 decimal places (so\n",
    "it is more easily displayed and read), we could define:"
   ]
  },
  {
   "cell_type": "code",
   "execution_count": null,
   "metadata": {},
   "outputs": [],
   "source": [
    "def rounded_book_distance(b1,b2):\n",
    "    return round( vector_distance( LFVs[b1], LFVs[b2] ), 4 ) "
   ]
  },
  {
   "cell_type": "markdown",
   "metadata": {},
   "source": [
    "So, now that we have defined a suitable distance function between book samples,\n",
    "we can use `table_of_binary_function` to get a table giving the distances for\n",
    "all pairs:"
   ]
  },
  {
   "cell_type": "code",
   "execution_count": null,
   "metadata": {},
   "outputs": [],
   "source": [
    "DIST_TABLE = table_of_binary_function( \"LFV distance\", \n",
    "                                       rounded_book_distance, \n",
    "                                       BOOK_LIST )"
   ]
  },
  {
   "cell_type": "markdown",
   "metadata": {},
   "source": [
    "### Displaying a List of Lists using Pandas DataFrame\n",
    "Using pandas, we can easily convert the table created above, as a list of lists, into a DataFrame, which we can easily display.\n",
    "Notice that in the resulting DataFrame the row and column names that were in the list of lists representation are not treated as index labels\n",
    "but as data within the DataFrame. We could reset the column names and index labels to get a nicer table. Also, the name of the function now appears in the (0,0) position of the DataFrame and there is no obvious way to attach this to the DataFrame object without it being considered as data. Hence, even going from the list of lists format to a DataFrame presents some small problems in preserving the content of the stored information."
   ]
  },
  {
   "cell_type": "code",
   "execution_count": null,
   "metadata": {},
   "outputs": [],
   "source": [
    "from pandas import DataFrame\n",
    "df = DataFrame(DIST_TABLE)\n",
    "display(df)"
   ]
  },
  {
   "cell_type": "markdown",
   "metadata": {},
   "source": [
    "#### Displaying a Table using HTML\n",
    "Another way to display a table nicely is by encoding it into HTML format.\n",
    "This does have some advantages, in that we have more control over the format of the table. But it does require somwhat complex encoding. Hence, I have created a  function `display_datalist_as_html_table` in my own module `myhtml` which I import in order to produce an HTML version of the table. Using that we can display the table as follows:"
   ]
  },
  {
   "cell_type": "code",
   "execution_count": null,
   "metadata": {},
   "outputs": [],
   "source": [
    "import myhtml\n",
    "myhtml.display_datalist_as_html_table( DIST_TABLE )"
   ]
  },
  {
   "cell_type": "markdown",
   "metadata": {},
   "source": [
    "This table shows of course that the distance between each book and itself is 0, and that the distance measure is symmetrical. We also see that the closest two books are _Romeo and Juliet_ and _Midsummer Night's Dream_ which are both plays by William Shakespeare. The next closest pairs are: _Dracula_ and _Jewel of Seven Stars_, both witten by Bram Stoker; and\n",
    "_Wuthering Heights_ and _Jane Eyre_, written by sisters Emily and Charlotte Bronte.\n",
    "We also see that the book _Gadsby_ has a greater distance from every other book than there is between all other pairs. Why is this? "
   ]
  },
  {
   "cell_type": "markdown",
   "metadata": {},
   "source": [
    "## Using letter frequencies to categorise text\n",
    "\n",
    "I conclude with a small experiment to test whether we may be able to identify the\n",
    "source of some text, just by comparing the letter frequency of small samples of text.\n",
    "The following code defines a function that makes a random selection of lines from\n",
    "a file. Following that, a recognition test is defined. It picks a random book from\n",
    "`BOOK_LIST` selects 10 random lines from that book and calculates the letter frequency\n",
    "vector for those lines. It then calculates the distance of that letter frequence vector\n",
    "from the vectors that have been previously calculated from each of the books.\n",
    "Based on these distances it selects the closest book.\n",
    "\n",
    "Following that, 100 tests are carried out, and the percentage of those for which the\n",
    "correct book source was found is printed."
   ]
  },
  {
   "cell_type": "code",
   "execution_count": null,
   "metadata": {},
   "outputs": [],
   "source": [
    "import random\n",
    "\n",
    "def random_lines_from_file( filename, n ):\n",
    "    with open(filename) as f:\n",
    "        lines = f.readlines()\n",
    "    return [ random.choice(lines) for _ in range(n) ]\n",
    "        \n",
    "def random_recognition_test(num_sample_lines = 20):   \n",
    "    random_book = random.choice(BOOK_LIST)\n",
    "    print(\"Testing\", num_sample_lines, \"random lines from\", random_book)\n",
    "    lines = random_lines_from_file( \"books/\" + \n",
    "                                    random_book + \".txt\",\n",
    "                                    num_sample_lines )\n",
    "    text = \"\\n\".join(lines)\n",
    "    line_lfv = letter_frequency_vector(text)\n",
    "    distances = [ (vector_distance(line_lfv, LFVs[book]), book) \n",
    "                  for book in BOOK_LIST ]\n",
    "    distances.sort()\n",
    "    nearest_book = distances[0][1]\n",
    "    print(\"Nearest book:\", nearest_book )\n",
    "    if random_book == nearest_book:\n",
    "        print(\"Correct\")\n",
    "        return True\n",
    "    else:\n",
    "        print(\"Wrong\")\n",
    "        return False\n",
    "\n",
    "correct = 0\n",
    "for _ in range(100):\n",
    "    if random_recognition_test():\n",
    "        correct += 1\n",
    "        \n",
    "print( \"Percentage of correct tests:\", correct)"
   ]
  },
  {
   "cell_type": "markdown",
   "metadata": {},
   "source": [
    "### Evaluating the Test\n",
    "Having conducted an analysis experiment such as the one carried out by the previous code cell, we need to carefully consider both the results and the nature of the test that has been performed. We should try to form a clear view not only of what the results may tell us, but also of what are the limitations of the experiment. Could it be unreliable, misleading or incomplete? We will then be in a position to draw reasonable conclusions and also to envisage further tests that might yield more interesting or useful findings.\n",
    "\n",
    "So to sum up you should consider the following:\n",
    "* What does the test recognition experiment tell us?\n",
    "* Might the test be unreliable or misleading?\n",
    "* What are the limitations of the test?\n",
    "* What similar tests might be more revealing or useful?\n",
    "* And, why is text from the book _Gadsby_ so easy to identify?"
   ]
  },
  {
   "cell_type": "code",
   "execution_count": null,
   "metadata": {},
   "outputs": [],
   "source": []
  }
 ],
 "metadata": {
  "kernelspec": {
   "display_name": "Python 3",
   "language": "python",
   "name": "python3"
  },
  "language_info": {
   "codemirror_mode": {
    "name": "ipython",
    "version": 3
   },
   "file_extension": ".py",
   "mimetype": "text/x-python",
   "name": "python",
   "nbconvert_exporter": "python",
   "pygments_lexer": "ipython3",
   "version": "3.7.6"
  }
 },
 "nbformat": 4,
 "nbformat_minor": 2
}
