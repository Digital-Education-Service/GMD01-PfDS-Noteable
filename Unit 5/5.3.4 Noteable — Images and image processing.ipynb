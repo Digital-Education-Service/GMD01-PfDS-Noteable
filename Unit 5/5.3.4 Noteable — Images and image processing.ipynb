{
 "cells": [
  {
   "cell_type": "markdown",
   "metadata": {},
   "source": [
    "# Images and Image Processing\n",
    "\n",
    "This notebook will enable you to gain basic knowledge of\n",
    "image manipulation using Python and give you a taster of\n",
    "more complex types of image processing, the likes of which are\n",
    "explored in the Computer Vision sub-field of AI.\n",
    "\n",
    "There are several methods and tools available that provide\n",
    "different but overlapping image handling capabilities.\n",
    "Here we shall look at:\n",
    "\n",
    "* Displaying images in markdown cells\n",
    "* Using `IPython.display` to load and display images in Jupyter\n",
    "* Using the Python Image Library, `PIL`\n",
    "* Basic usage of `OpenCV`, a powerful library supporting advanced\n",
    "  image processing operations\n",
    "* Displaying images using `matplotlib`"
   ]
  },
  {
   "cell_type": "markdown",
   "metadata": {},
   "source": [
    "## Loading and displaying images\n",
    "\n",
    "#### Displaying an image in markdown\n",
    "\n",
    "We can display an image directly in a Jupyter markdown cell using\n",
    "the following form of syntax:\n",
    "```md\n",
    "![The Yew Bush on the Knot](images/Yew-bush-on-the-Knot.jpg)\n",
    "```\n",
    "Here, `images/Yew-bush-on-the-Knot.jpg` is the path (in this case\n",
    "a relative path) to the image file, which has been uploaded to the same directory that contains this notebook. Assuming the image file can be found by means of this path, the image should display as follows:\n",
    "\n",
    "![The Yew Bush on the Knot](images/Yew-bush-on-the-Knot.jpg)\n",
    "\n",
    "\n",
    "If the image is not found the alternative text, enclosed in the\n",
    "square brackets in the markdown image syntax, will be displayed instead of the image."
   ]
  },
  {
   "cell_type": "markdown",
   "metadata": {},
   "source": [
    "#### Displaying an image in markdown via HTML\n",
    "\n",
    "We can also display an image in markdown using an HTML `img` element.\n",
    "This has the advantage that we can alter the size at which the image\n",
    "is displayed by specifying a `width` attribute:\n",
    "\n",
    "```md\n",
    "<img src=\"images/my_caterpillar.jpg\" width=\"250\">\n",
    "```\n",
    "\n",
    "<img src=\"images/my_caterpillar.jpg\" width=\"250\">\n"
   ]
  },
  {
   "cell_type": "markdown",
   "metadata": {},
   "source": [
    "#### Loading and displaying images using IPython.display\n",
    "The `IPython.display` module provides some convenient functionality\n",
    "for loading and displaying images using Python running within the Jupyter environment.\n",
    "This is illustrated in the following code cell:"
   ]
  },
  {
   "cell_type": "code",
   "execution_count": null,
   "metadata": {},
   "outputs": [],
   "source": [
    "from IPython.display import Image\n",
    "image = Image('images/mushrooms-skipton-woods.jpg', width=400)\n",
    "display(image)"
   ]
  },
  {
   "cell_type": "markdown",
   "metadata": {},
   "source": [
    "## PIL: the Python Image Library\n",
    "\n",
    "The Python Image Library (PIL) is currently packaged under the\n",
    "name `pillow`. To use it on your own machine, you may need to install it. If using `conda` in a shell you would enter the command:\n",
    "```\n",
    "conda install pillow\n",
    "```\n",
    "\n",
    "The following code cell illustrates reading a PIL image from\n",
    "a file and displaying it using Jupyter's `display` funcition.\n",
    "The `reduce` method of PIL images has also been used to make\n",
    "the image smaller (by a factor of 10)."
   ]
  },
  {
   "cell_type": "code",
   "execution_count": null,
   "metadata": {},
   "outputs": [],
   "source": [
    "import PIL.Image\n",
    "pil_image = PIL.Image.open(\"images/my_caterpillar.jpg\")\n",
    "display(pil_image.reduce(10))\n",
    "#display(pil_image)"
   ]
  },
  {
   "cell_type": "markdown",
   "metadata": {},
   "source": [
    "#### Displaying PIL images using `matplotlib`\n",
    "A nice feature of PIL images is that you can display them directly \n",
    "using the `matplotlib.pyplot.imshow` function. \n",
    "The way it does this is by using the `numpy.array`\n",
    "function, which works with many types of data object. But you don't need\n",
    "to worry about that to display a PIL image because it is done automatically. It also automatically scales the image to fit the\n",
    "plot display. The following code illustrates this:"
   ]
  },
  {
   "cell_type": "code",
   "execution_count": null,
   "metadata": {},
   "outputs": [],
   "source": [
    "import matplotlib.pyplot as plt\n",
    "plt.imshow(pil_image)"
   ]
  },
  {
   "cell_type": "markdown",
   "metadata": {},
   "source": [
    "## OpenCV\n",
    "\n",
    "Whereas PIL is aimed at providing convenient tools for \n",
    "converting between different image formats, and basic image\n",
    "manipulation functionality, [OpenCV](https://opencv.org/) is a \n",
    "much more elaborate\n",
    "software library designed to support the developement of\n",
    "AI computer vision systems.\n",
    "\n",
    "OpenCV is written in C++ but has become a cross-platform system\n",
    "with interfaces available for several other languages, including\n",
    "Python. Although Python is for many purposes slower than C++ and\n",
    "image processing involves intensive computation, the Python interface\n",
    "makes use of `numpy` data structures and other C++\n",
    "components that can be embedded within Python. Hence, OpenCV operations\n",
    "carried out via Python can be as efficient as when run in  C++.\n",
    "\n",
    "To run the following code, you will need to install the `opencv` package:\n",
    "```\n",
    "conda install opencv\n",
    "```"
   ]
  },
  {
   "cell_type": "markdown",
   "metadata": {},
   "source": [
    "#### OpenCV Images are `numpy` arrays\n",
    "In the following code we import an image from a file into an OpenCV image datastructure, using `cv2.imread`. We then print its type as well as the image object itself. We see that the image is just an n-dimensional `numpy` array. The code `cv2_image.shape` is using the `shape` attribute,\n",
    "which all `numpy.array` objects have. This gives the size of each dimension of the array, in this case `(3000, 4000, 3)`.  This corresponds\n",
    "to the image being `3000 * 4000` pixels in size, with each pixel being represented by three pixels, one for each of the three primary colours."
   ]
  },
  {
   "cell_type": "code",
   "execution_count": null,
   "metadata": {
    "scrolled": true
   },
   "outputs": [],
   "source": [
    "import cv2\n",
    "cv2_image = cv2.imread(\"images/my_caterpillar.jpg\")\n",
    "print(\"Type:\", type(cv2_image))\n",
    "print(\"Array shape:\", cv2_image.shape)\n",
    "print(cv2_image)"
   ]
  },
  {
   "cell_type": "markdown",
   "metadata": {},
   "source": [
    "### Displaying OpenCV in Matplotlib\n",
    "Since OpenCVs image format is an array format, OpenCV images can also\n",
    "be displayed directly using `matplotlib`. However, there is a slight\n",
    "problem, which is shown by the code below:"
   ]
  },
  {
   "cell_type": "code",
   "execution_count": null,
   "metadata": {},
   "outputs": [],
   "source": [
    "import cv2\n",
    "import matplotlib.pyplot as plt\n",
    "\n",
    "pil_image = PIL.Image.open(\"images/Parkinson-Building-glowing.jpg\")\n",
    "cv2_image = cv2.imread(\"images/Parkinson-Building-glowing.jpg\")\n",
    "\n",
    "fig, axs = plt.subplots(1,2, figsize =(10,10))\n",
    "axs[0].imshow(pil_image) \n",
    "axs[1].imshow(cv2_image)"
   ]
  },
  {
   "cell_type": "markdown",
   "metadata": {},
   "source": [
    "Clearly the images look a lot different in terms of colour.\n",
    "This is because OpenCV uses a different colour representation\n",
    "from PIL. Whereas PIL uses the widely used ordering of red, green, blue\n",
    "in its colour representation, OpenCV actually uses the order blue, green and\n",
    "red. Matplotlibs `imshow` just processes images in terms of an array of pixels and assumes the more common red, green, blue ordering. \n",
    "Hence, the image displayed in the right hand plot has the red and blue\n",
    "colour values swapped over. Thus, the red brick of the Great Hall in the University of Leeds looks blue, and the blue-grey sky looks redish-brown."
   ]
  },
  {
   "cell_type": "markdown",
   "metadata": {},
   "source": [
    "#### Swapping red and blue color values\n",
    "Given that we are programmers and the images are just array datastructures, it is actually fairly easy for us to swap the\n",
    "blue and red colour values in the image representation.\n",
    "\n",
    "One could actually do it quite easily with a for loop. However,\n",
    "OpenCV provides `split` and `merge` operations, which are a \n",
    "give us a convenient way to split up and rearange the colour\n",
    "channels:"
   ]
  },
  {
   "cell_type": "code",
   "execution_count": null,
   "metadata": {},
   "outputs": [],
   "source": [
    "def swap_b_r( image ):\n",
    "    b,g,r = cv2.split(image)\n",
    "    return  cv2.merge((r,g,b))"
   ]
  },
  {
   "cell_type": "markdown",
   "metadata": {},
   "source": [
    "However, the way of conversion used in the code below is often suggested,  and is said to be faster. The code makes use of a rather cryptic but very Pythonic slicing operator. The comma\n",
    "separated parts of the slice operation represent slices on the three\n",
    "dimensions of the array (rows, columns, colour-values). `:` is the\n",
    "unbounded slice giving all elemnents, `::-1` also gives all elements\n",
    "but orders them backwards. This means that the three colour values\n",
    "will be reversed in order."
   ]
  },
  {
   "cell_type": "code",
   "execution_count": null,
   "metadata": {},
   "outputs": [],
   "source": [
    "def swap_b_r( image ):\n",
    "    return image[:,:, ::-1]\n",
    "    "
   ]
  },
  {
   "cell_type": "code",
   "execution_count": null,
   "metadata": {},
   "outputs": [],
   "source": [
    "import cv2\n",
    "import matplotlib.pyplot as plt\n",
    "\n",
    "pil_image = PIL.Image.open(\"images/Parkinson-Building-glowing.jpg\")\n",
    "cv2_image = cv2.imread(\"images/Parkinson-Building-glowing.jpg\")\n",
    "swapped_cv2_image = swap_b_r(cv2_image)\n",
    "\n",
    "fig, axs = plt.subplots(1,2, figsize =(10,10))\n",
    "axs[0].imshow(pil_image) \n",
    "axs[1].imshow(swapped_cv2_image)"
   ]
  },
  {
   "cell_type": "markdown",
   "metadata": {},
   "source": [
    "#### Converting between PIL and OpenCV Formats\n",
    "\n",
    "##### OpenCV to PIL\n",
    "We can convert an OpenCV image to a PIL image object by using the function `PIL.Image.fromarray` which creates PIL image from an\n",
    "image stored as an array (such as an OpenCV image). This is illustrated\n",
    "by the code below. Note that we are here using `swap_b_r` to swap over\n",
    "the blue and red colour values:"
   ]
  },
  {
   "cell_type": "code",
   "execution_count": null,
   "metadata": {},
   "outputs": [],
   "source": [
    "import numpy\n",
    "cv2_image = cv2.imread(\"images/Bee-on-Blossom.jpg\")\n",
    "cv2_image = swap_b_r(cv2_image)\n",
    "pil_image = PIL.Image.fromarray(cv2_image)\n",
    "\n",
    "display( pil_image.reduce(15) )"
   ]
  },
  {
   "cell_type": "markdown",
   "metadata": {},
   "source": [
    "Since OpenCV is convenient for manipulating images but PIL has advantages\n",
    "for viewing them in Jupyter, it will be useful to define the following\n",
    "conversion function. Here there is an optional scale argument\n",
    "to resize the image, as well as using the `swap_b_r` function."
   ]
  },
  {
   "cell_type": "code",
   "execution_count": null,
   "metadata": {},
   "outputs": [],
   "source": [
    "def convert_cv2_to_pil(cv2_image, scale=1):\n",
    "    height, width = cv2_image.shape[0:2]\n",
    "    newsize = (int(width*scale), int(height*scale))\n",
    "    cv2_image = cv2.resize( cv2_image, newsize )\n",
    "    cv2_image = swap_b_r(cv2_image)\n",
    "    pil_image = PIL.Image.fromarray(cv2_image)\n",
    "    return pil_image"
   ]
  },
  {
   "cell_type": "markdown",
   "metadata": {},
   "source": [
    "##### PIL to OpenCV\n",
    "To convert the other way, from PIL to OpenCV format, we can explicitly use the `numpy.array` fucntion, which will turn a PIL image into an OpenCV compatible array format. We should also swap the blue and red colour chanels so that the colours are represented in the way used by OpenCV.\n",
    "This is illustrated as follows:"
   ]
  },
  {
   "cell_type": "code",
   "execution_count": null,
   "metadata": {},
   "outputs": [],
   "source": [
    "pil_image = PIL.Image.open(\"images/Bee-on-Blossom.jpg\")\n",
    "pil_image = pil_image.reduce(15)\n",
    "cv2_image = numpy.array(pil_image)\n",
    "cv2_image = swap_b_r(cv2_image)\n",
    "\n",
    "plt.imshow(cv2_image)"
   ]
  },
  {
   "cell_type": "markdown",
   "metadata": {},
   "source": [
    "So why have the colours turned creepy? This just because `imshow` does not interpret the OpenCV colour representation correctly."
   ]
  },
  {
   "cell_type": "markdown",
   "metadata": {},
   "source": [
    "### Colour Analysis: what is grey?\n",
    "Although _colour_ is not a property that is often investigated in data, consideration of the concept of colour can be very instructive for a data scientist. This is because, although colour may appear to be a simple and intuitive type of data, the nature of colour is extremely complex. To understand it fully one would need to consider\n",
    "aspects involving many fields of knowledge including physics, biology\n",
    "psychology and more. All these aspects could have some bearing on\n",
    "representation and analysis of colour.\n",
    "\n",
    "Here we shall just look at one relatively simple issue, which is\n",
    "the relationship between colour and grey scale images; and specifically,\n",
    "how to create a grey scale image from a colour image.\n",
    "\n",
    "One thing we may know is that gray scale images can be represented\n",
    "by just one number representing the brightness of each pixel.\n",
    "However, in a red, green, blue (or blue, green, red) representation\n",
    "we have three different values. Thus, if an image is grey we may\n",
    "suppose that we should have the same number for each of these\n",
    "values. Is this true? If so why?\n",
    "\n",
    "Well, actually it is true, but the reason is not simple.\n",
    "There is no clear reason why grey should result from equal \n",
    "quantities of red, green and blue; and it is not even clear\n",
    "what would be meant by equal quantities of different colours\n",
    "(do we mean the same number of photons, or maybe the same\n",
    "energy content in the different colours). What even is grey?\n",
    "Is it really a colour? You don't see it in rainbows. But\n",
    "clouds can definitely be grey.\n",
    "\n",
    "If we assume that the colour values of each of the\n",
    "three colour components make equal contribution to the\n",
    "brightness of the image, that would imply that the\n",
    "equivalent value of a pixel in a corresponding grey\n",
    "image would simply be the average of the three colour\n",
    "components. This idea is implemented in the following\n",
    "code. Notice that the code expression `(b+g+r)//3`\n",
    "makes use of the fact that the `b`, `g` and `r` chanels\n",
    "that are split out of the image are in fact `numpy.array`\n",
    "vectors. Hence, the operations `+` and `//`, are applied to \n",
    "the arrays as a whole, so we do not need to iterate over individual\n",
    "items of the arays. `//` is used rather than `/` to ensure that\n",
    "the resulting grey value array contains integers, which is what\n",
    "is required for the image representation."
   ]
  },
  {
   "cell_type": "code",
   "execution_count": null,
   "metadata": {},
   "outputs": [],
   "source": [
    "def make_grey1( image ):\n",
    "    b,g,r = cv2.split(image)\n",
    "    av = (b+g+r)//3\n",
    "    return  cv2.merge((av,av,av))\n",
    "\n",
    "image = cv2_image\n",
    "grey_image1 = make_grey1( image )\n",
    "plt.imshow(grey_image1)"
   ]
  },
  {
   "cell_type": "markdown",
   "metadata": {},
   "source": [
    "Well, that is not a pretty sight. The resulting image is certainly grey, but it looks very dark and weird.\n",
    "\n",
    "The reason for this, is that the hypothesis that grey level\n",
    "is made up equally from the intensity values of the three component colours is wrong. Actually things that look grey are, in terms of\n",
    "the red, green, values, much more blue than they are green.  Hence,\n",
    "to go from a colour image to a realistic grey image, we need to\n",
    "scale down the blue and scale up the green.\n",
    "\n",
    "The following unequal scaling equation that can be used to transform red, green, blue values to a grey scale:\n",
    "```\n",
    "grey = (0.3 * red) + (0.59 * green) + (0.11 * blue)\n",
    "```\n",
    "The code below implements this weighted sum calculation for\n",
    "the grey scale vale.\n",
    "The output plot compares the grey image obtained from each\n",
    "of the caluclutions. It confirms that the weighted sum gives\n",
    "a much more natural seeming grey image."
   ]
  },
  {
   "cell_type": "code",
   "execution_count": null,
   "metadata": {},
   "outputs": [],
   "source": [
    "def make_grey2( image ):\n",
    "    b,g,r = cv2.split(image)\n",
    "    grey = ((0.3 * r) + (0.59 * g) + (0.11 * b))/256\n",
    "    return  cv2.merge( (grey,grey,grey) )\n",
    "\n",
    "image = cv2_image\n",
    "grey_image1 = make_grey1( image )\n",
    "grey_image2 = make_grey2( image )\n",
    "\n",
    "fig, axs = plt.subplots(1,2, figsize =(10,10))\n",
    "axs[0].imshow( grey_image1 ) \n",
    "axs[1].imshow( grey_image2 )"
   ]
  },
  {
   "cell_type": "markdown",
   "metadata": {},
   "source": [
    "## Edge Detection using OpenCV\n",
    "Finally we shall take a quick look at one of the image processing techniques that is often used in the Computer Vision sub-field of Artificial Intelligence: in particular, edge detection using the\n",
    "[Canny Edge Detector](https://en.wikipedia.org/wiki/Canny_edge_detector)\n",
    "method."
   ]
  },
  {
   "cell_type": "code",
   "execution_count": null,
   "metadata": {},
   "outputs": [],
   "source": [
    "cv2_image = cv2.imread(\"images/my_caterpillar.jpg\")\n",
    "image = swap_b_r(cv2_image)\n",
    "# image = cv2_image\n",
    "\n",
    "## Use OpenCVs built in colour representation mapping\n",
    "## to get a grey scale image.\n",
    "grey_cv2_image = cv2.cvtColor(image, cv2.COLOR_BGR2GRAY)\n",
    "\n",
    "## Use the standard OpenCV Canny edge detector:\n",
    "edge_cv2_image = cv2.Canny( grey_cv2_image, 50, 100)\n",
    "\n",
    "## This line inverts the image to give black lines on white\n",
    "edge_cv2_image = 255 - edge_cv2_image\n",
    "\n",
    "edge_pil_image = PIL.Image.fromarray( edge_cv2_image)\n",
    "display( edge_pil_image )"
   ]
  },
  {
   "cell_type": "markdown",
   "metadata": {},
   "source": [
    "## Resources for further study of Image Processing\n",
    "\n",
    "A lot of ideas regarding image processing with Python came from the following two tutorial resources. Note that they are not using exactly the Python3/Jupyter setup that we are using in this module, so some of the code had to be modified. But they give a good idea of what is possible.\n",
    "\n",
    "* [Making a simple GUI for image processing using Python's tikinter and cv2 packages](https://www.pyimagesearch.com/2016/05/23/opencv-with-tkinter/)\n",
    "\n",
    "* [Video Analysis using OpenCV and Python](https://people.revoledu.com/kardi/tutorial/Python/Video+Analysis+using+OpenCV-Python.html)"
   ]
  },
  {
   "cell_type": "code",
   "execution_count": null,
   "metadata": {},
   "outputs": [],
   "source": []
  }
 ],
 "metadata": {
  "kernelspec": {
   "display_name": "Python 3 (ipykernel)",
   "language": "python",
   "name": "python3"
  },
  "language_info": {
   "codemirror_mode": {
    "name": "ipython",
    "version": 3
   },
   "file_extension": ".py",
   "mimetype": "text/x-python",
   "name": "python",
   "nbconvert_exporter": "python",
   "pygments_lexer": "ipython3",
   "version": "3.11.9"
  }
 },
 "nbformat": 4,
 "nbformat_minor": 2
}
