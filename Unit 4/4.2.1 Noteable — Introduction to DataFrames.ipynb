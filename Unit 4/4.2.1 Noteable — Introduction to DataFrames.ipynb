{
 "cells": [
  {
   "cell_type": "markdown",
   "metadata": {},
   "source": [
    "# Introduction to DataFrames"
   ]
  },
  {
   "cell_type": "markdown",
   "metadata": {},
   "source": [
    "In this workbook we introduce a popular Python library called pandas that makes loading and saving data in different formats trivial. It's also very powerful for data manipulation, and thus selection.\n",
    "\n",
    "We'll start with an example with the data in Python, we'll then look at loading and saving various common formats you're likely to encounter.\n",
    "\n",
    "To use pandas we need to import it. By convention pandas is referred to by the abbreviation ``pd`` -- this isn't required but it's very common. "
   ]
  },
  {
   "cell_type": "code",
   "execution_count": null,
   "metadata": {},
   "outputs": [],
   "source": [
    "import pandas as pd"
   ]
  },
  {
   "cell_type": "markdown",
   "metadata": {},
   "source": [
    "## Pandas DataFrames\n",
    "\n",
    "In pandas, data are stored in a structure it calls a DataFrame. \n",
    "Conceptually you can think of it as a table, with column headings and numbered rows, although DataFrames also function like data bases.\n",
    "\n",
    "DataFrame is a class in Python, so we create a DataFrame object by calling the constructor.\n",
    "We'll use a few books for our data.\n",
    "``df`` is a common variable name for a DataFrame."
   ]
  },
  {
   "cell_type": "code",
   "execution_count": null,
   "metadata": {},
   "outputs": [],
   "source": [
    "df = pd.DataFrame({\n",
    "    \"title\": [\"Tangled Web\",\n",
    "              \"Close Up\",\n",
    "              \"Foundations\",\n",
    "              \"Professional Secrets\",\n",
    "              \"5 Times 5\"],\n",
    "    \"author\": [\"Eric Mead\",\n",
    "               \"David Stone\",\n",
    "               \"Eberhard Riese\",\n",
    "               \"Geoffrey Durham\",\n",
    "               \"Richard Kaufman\"],\n",
    "    \"price\": [40, 23.1, 70, 295, 34.65]\n",
    "})\n",
    "\n",
    "df"
   ]
  },
  {
   "cell_type": "markdown",
   "metadata": {},
   "source": [
    "You can clearly see the table like structure above.\n",
    "What looks like a column is actually a `Series` in `pandas`.\n",
    "The column names are taken from the dictionary that was passed into the constructor function.\n",
    "Notice that row numbers have been added automatically and start from 0. \n",
    "This is the index.\n",
    "It's possible to specify different row labels when constructing the DataFrame by passing in a value for the optional parameter ``index``.\n",
    "The index is an instance attribute of the DataFrame so it can be accessed using the dot notation.\n",
    "Column names can be accessed in a similar way."
   ]
  },
  {
   "cell_type": "code",
   "execution_count": null,
   "metadata": {},
   "outputs": [],
   "source": [
    "df.index"
   ]
  },
  {
   "cell_type": "code",
   "execution_count": null,
   "metadata": {},
   "outputs": [],
   "source": [
    "df.columns"
   ]
  },
  {
   "cell_type": "markdown",
   "metadata": {},
   "source": [
    "A column Series is selected using square brackets and the column name.\n",
    "For example:"
   ]
  },
  {
   "cell_type": "code",
   "execution_count": null,
   "metadata": {
    "scrolled": true
   },
   "outputs": [],
   "source": [
    "df[\"title\"]"
   ]
  },
  {
   "cell_type": "markdown",
   "metadata": {},
   "source": [
    "Notice that the row labels are also extracted with the requested column.\n",
    "To get a single item from the Series use the square bracket notation and the row label, for example:"
   ]
  },
  {
   "cell_type": "code",
   "execution_count": null,
   "metadata": {},
   "outputs": [],
   "source": [
    "df[\"title\"][1]"
   ]
  },
  {
   "cell_type": "markdown",
   "metadata": {},
   "source": [
    "A few useful DataFrame methods for inspecting your data:\n",
    "- ``head()`` shows the first few rows of data. By default it will show five rows or you can specify how many.\n",
    "- ``tail()`` is like ``head()`` but shows the last few rows of data.\n",
    "- ``describe()`` gives some summary statistics about the numerical columns.\n",
    "-  ``info()`` returns information such as the column names and their data types.\n",
    "\n",
    "The ``shape`` of a DataFrame (or Series) is its dimension, the number of rows and columns it has."
   ]
  },
  {
   "cell_type": "code",
   "execution_count": null,
   "metadata": {},
   "outputs": [],
   "source": [
    "df.head(2)"
   ]
  },
  {
   "cell_type": "code",
   "execution_count": null,
   "metadata": {},
   "outputs": [],
   "source": [
    "df.describe()"
   ]
  },
  {
   "cell_type": "code",
   "execution_count": null,
   "metadata": {},
   "outputs": [],
   "source": [
    "df.info()"
   ]
  },
  {
   "cell_type": "code",
   "execution_count": null,
   "metadata": {},
   "outputs": [],
   "source": [
    "df.shape"
   ]
  },
  {
   "cell_type": "markdown",
   "metadata": {},
   "source": [
    "## Iterating Over DataFrames\n",
    "A Pandas Series and a Pandas DataFrame are both iterable. That means we can use them in loops. Let's look at a Series first. For the purposes of a loop, a Series can be treated like a list. "
   ]
  },
  {
   "cell_type": "code",
   "execution_count": null,
   "metadata": {},
   "outputs": [],
   "source": [
    "title_series = df[\"title\"]\n",
    "\n",
    "for i in title_series:\n",
    "    print('The title of this book is {}'.format(i))"
   ]
  },
  {
   "cell_type": "markdown",
   "metadata": {},
   "source": [
    "Iterating over a DataFrame directly will only give us the column names."
   ]
  },
  {
   "cell_type": "code",
   "execution_count": null,
   "metadata": {},
   "outputs": [],
   "source": [
    "for i in df:\n",
    "    print(i)"
   ]
  },
  {
   "cell_type": "markdown",
   "metadata": {},
   "source": [
    "The ``items()`` method allows us to loop through the columns in turn. Each column is provided as a Series, so we can also loop through the data in the column. "
   ]
  },
  {
   "cell_type": "code",
   "execution_count": null,
   "metadata": {},
   "outputs": [],
   "source": [
    "for col_name, col_data in df.items():\n",
    "    print('**New column: {}**'.format(col_name))\n",
    "    for i in col_data:\n",
    "        print(i)"
   ]
  },
  {
   "cell_type": "markdown",
   "metadata": {},
   "source": [
    "To iterate through the rows instead of the columns use ``iterrows()``. "
   ]
  },
  {
   "cell_type": "code",
   "execution_count": null,
   "metadata": {},
   "outputs": [],
   "source": [
    "for row_name, row_data in df.iterrows():\n",
    "    print(\"**New row: {}**\".format(row_name))\n",
    "    for i in row_data:\n",
    "        print(i)"
   ]
  },
  {
   "cell_type": "markdown",
   "metadata": {},
   "source": [
    "Another way to iterate through the rows is with ``itertuples()``, which returns a tuple for each row (remember that a tuple is the same as a list except that it can't be modified once it's created). "
   ]
  },
  {
   "cell_type": "code",
   "execution_count": null,
   "metadata": {},
   "outputs": [],
   "source": [
    "for row in df.itertuples(name=\"Book\"):\n",
    "    print(row)"
   ]
  },
  {
   "cell_type": "markdown",
   "metadata": {},
   "source": [
    "Now we can access a piece of data from each row using the column name. It could also be useful as an intermediate step to creating an object from each of the rows in the DataFrame. "
   ]
  },
  {
   "cell_type": "code",
   "execution_count": null,
   "metadata": {},
   "outputs": [],
   "source": [
    "for row in df.itertuples(name=\"Book\"):\n",
    "    print(row.title)"
   ]
  },
  {
   "cell_type": "markdown",
   "metadata": {},
   "source": [
    "## DataFrame Selecting\n",
    "\n",
    "We've already looked at how to select a Series (`df[\"title\"]`), but now we'll get fancy with our selects.\n",
    "\n",
    "First, you can select any columns you'd like in any order (you can even repeat the columns selected), just pass a list of column titles to the indexing `[]` syntax.\n",
    "This returns a new DataFrame.\n",
    "The original DataFrame is not affected."
   ]
  },
  {
   "cell_type": "code",
   "execution_count": null,
   "metadata": {
    "scrolled": true
   },
   "outputs": [],
   "source": [
    "df[[\"author\", \"title\"]]"
   ]
  },
  {
   "cell_type": "markdown",
   "metadata": {},
   "source": [
    "To select specific rows, use `iloc` with a slicing syntax:"
   ]
  },
  {
   "cell_type": "code",
   "execution_count": null,
   "metadata": {},
   "outputs": [],
   "source": [
    "df.iloc[2:-1]"
   ]
  },
  {
   "cell_type": "markdown",
   "metadata": {},
   "source": [
    "We can mix them too:"
   ]
  },
  {
   "cell_type": "code",
   "execution_count": null,
   "metadata": {},
   "outputs": [],
   "source": [
    "df.iloc[2:-1][\"title\"]"
   ]
  },
  {
   "cell_type": "markdown",
   "metadata": {},
   "source": [
    "Rather than selecting blocks of rows, more often you'll find you'll need to filter them based upon some condition. We do this like so:"
   ]
  },
  {
   "cell_type": "code",
   "execution_count": null,
   "metadata": {},
   "outputs": [],
   "source": [
    "df[df[\"price\"] > 50]"
   ]
  },
  {
   "cell_type": "markdown",
   "metadata": {},
   "source": [
    "You can use any of the numerical comparators (`= != > >= < <=`). The Series also provides an `isin` function, and a `notna` function. `isin` is a membership check, `notna` filters out `na` values."
   ]
  },
  {
   "cell_type": "code",
   "execution_count": null,
   "metadata": {},
   "outputs": [],
   "source": [
    "df[df[\"title\"].isin([\"Foundations\", \"Close Up\"])]"
   ]
  },
  {
   "cell_type": "markdown",
   "metadata": {},
   "source": [
    "Note, this is a dataframe returned, so you can stack further selectors or filters onto it like so:"
   ]
  },
  {
   "cell_type": "code",
   "execution_count": null,
   "metadata": {},
   "outputs": [],
   "source": [
    "df[df[\"price\"] > 50][\"author\"]"
   ]
  },
  {
   "cell_type": "code",
   "execution_count": null,
   "metadata": {},
   "outputs": [],
   "source": [
    "expensive = df[df[\"price\"] > 50]\n",
    "not_too_expensive = expensive[expensive[\"price\"] < 100]\n",
    "not_too_expensive"
   ]
  },
  {
   "cell_type": "markdown",
   "metadata": {},
   "source": [
    "## Exercise 1\n",
    "\n",
    "### 1a\n",
    "The next cell contains some information about the 20 highest-grossing movies. \n",
    "At the moment, we have a dictionary for each movie showing the rank, title, the money made (in US $), and the year that the film was released. \n",
    "\n",
    "In order to create a DataFrame, we need the data in a different format, namely, a dictionary of lists. \n",
    "\n",
    "Write some code to create lists for each type of information (ranking, title, etc.) and use these to create the DataFrame. Give the columns the same names as the current dictionary keys. \n",
    "\n",
    "Notice that the ranking, worldwide gross and year data are all presented here as strings. These columns should be converted to integers. "
   ]
  },
  {
   "cell_type": "code",
   "execution_count": null,
   "metadata": {},
   "outputs": [],
   "source": [
    "movies = [\n",
    "    {'Ranking': '1', 'Title': 'Avengers: Endgame', 'Worldwide gross ($)': '2797800564', 'Year': '2019'}, \n",
    "    {'Ranking': '2', 'Title': 'Avatar', 'Worldwide gross ($)': '2790439000', 'Year': '2009'}, \n",
    "    {'Ranking': '3', 'Title': 'Titanic', 'Worldwide gross ($)': '2194439542', 'Year': '1997'},\n",
    "    {'Ranking': '4', 'Title': 'Star Wars: The Force Awakens', 'Worldwide gross ($)': '2068223624', 'Year': '2015'},\n",
    "    {'Ranking': '5', 'Title': 'Avengers: Infinity War', 'Worldwide gross ($)': '2048359754', 'Year': '2018'},\n",
    "    {'Ranking': '6', 'Title': 'Jurassic World', 'Worldwide gross ($)': '1671713208', 'Year': '2015'},\n",
    "    {'Ranking': '7', 'Title': 'The Lion King', 'Worldwide gross ($)': '1656943394', 'Year': '2019'},\n",
    "    {'Ranking': '8', 'Title': 'The Avengers', 'Worldwide gross ($)': '1518812988', 'Year': '2012'},\n",
    "    {'Ranking': '9', 'Title': 'Furious 7', 'Worldwide gross ($)': '1516045911', 'Year': '2015'},\n",
    "    {'Ranking': '10', 'Title': 'Frozen II', 'Worldwide gross ($)': '1450026933', 'Year': '2019'},\n",
    "    {'Ranking': '11', 'Title': 'Avengers: Age of Ultron', 'Worldwide gross ($)': '1402805868', 'Year': '2015'},\n",
    "    {'Ranking': '12', 'Title': 'Black Panther', 'Worldwide gross ($)': '1347280838', 'Year': '2018'},\n",
    "    {'Ranking': '13', 'Title': 'Harry Potter and the Deathly Hallows – Part 2', 'Worldwide gross ($)': '1342025430', 'Year': '2011'},\n",
    "    {'Ranking': '14', 'Title': 'Star Wars: The Last Jedi', 'Worldwide gross ($)': '1332539889', 'Year': '2017'},\n",
    "    {'Ranking': '15', 'Title': 'Jurassic World: Fallen Kingdom', 'Worldwide gross ($)': '1309484461', 'Year': '2018'},\n",
    "    {'Ranking': '16', 'Title': 'Frozen', 'Worldwide gross ($)': '1290000000', 'Year': '2013'},\n",
    "    {'Ranking': '17', 'Title': 'Beauty and the Beast', 'Worldwide gross ($)': '1263521126', 'Year': '2017'},\n",
    "    {'Ranking': '18', 'Title': 'Incredibles 2', 'Worldwide gross ($)': '1242805359', 'Year': '2018'},\n",
    "    {'Ranking': '19', 'Title': 'The Fate of the Furious', 'Worldwide gross ($)': '1238764765', 'Year': '2017'},\n",
    "    {'Ranking': '20', 'Title': 'Iron Man 3', 'Worldwide gross ($)': '1214811252', 'Year': '2013'}\n",
    "]"
   ]
  },
  {
   "cell_type": "markdown",
   "metadata": {},
   "source": [
    "### 1b\n",
    "Select the rows for movies from 2017\n"
   ]
  },
  {
   "cell_type": "code",
   "execution_count": null,
   "metadata": {},
   "outputs": [],
   "source": [
    "\n"
   ]
  },
  {
   "cell_type": "markdown",
   "metadata": {},
   "source": [
    "### 1c\n",
    "Select the rows which made at least $1300000000 and were released before 2018.\n"
   ]
  },
  {
   "cell_type": "code",
   "execution_count": null,
   "metadata": {},
   "outputs": [],
   "source": [
    "\n"
   ]
  },
  {
   "cell_type": "markdown",
   "metadata": {},
   "source": [
    "### 1d\n",
    "Create a new DataFrame by selecting the 'Title' and 'Worldwide gross' columns for films released before 2018."
   ]
  },
  {
   "cell_type": "code",
   "execution_count": null,
   "metadata": {},
   "outputs": [],
   "source": []
  },
  {
   "cell_type": "markdown",
   "metadata": {},
   "source": [
    "## Loading, Converting, and Saving Data\n",
    "\n",
    "We've already seen in previous lessons how to load data from a CSV file, and pandas also provides a set of functions to load data from a CSV file directly into a DataFrame. \n",
    "\n",
    "The function `read_csv()` takes the names of a CSV file and creates a DataFrame. This DataFrame will take column names from the CSV file automatically, or you can override this behaviour by setting the optional parameters ``header`` to `0` and ``names`` to a list of the column names you would like to use instead. "
   ]
  },
  {
   "cell_type": "markdown",
   "metadata": {},
   "source": [
    "If you need to load data from an online source, just replace the file name with the URL of the data, pandas is smart enough to know what to do. "
   ]
  },
  {
   "cell_type": "code",
   "execution_count": null,
   "metadata": {},
   "outputs": [],
   "source": [
    "df = pd.read_csv('https://raw.githubusercontent.com/pandas-dev/pandas/main/pandas/tests/io/data/csv/tips.csv')\n",
    "df"
   ]
  },
  {
   "cell_type": "markdown",
   "metadata": {},
   "source": [
    "This has downloaded a csv file from the pandas github page. \n",
    "To save a DataFrame as a CSV use ``to_csv()``. We set ``index=False`` so that the row numbers aren't included in the new file. "
   ]
  },
  {
   "cell_type": "code",
   "execution_count": null,
   "metadata": {},
   "outputs": [],
   "source": [
    "df.to_csv(\"tips.csv\", index=False)"
   ]
  },
  {
   "cell_type": "markdown",
   "metadata": {},
   "source": [
    "But what if you need that data in a completely different format? Well `pandas` offers a surprising number of alternative formats. Let's convert it to JSON, if we don't provide a file name to write to, it'll just return the conversion, which is handy for JSON:"
   ]
  },
  {
   "cell_type": "code",
   "execution_count": null,
   "metadata": {},
   "outputs": [],
   "source": [
    "df.to_json(orient=\"records\")"
   ]
  },
  {
   "cell_type": "markdown",
   "metadata": {},
   "source": [
    "## Exercise 2\n",
    "To be able to follow this exercise you will need a csv file contianing data about the passengers aboarded the famous Titanic ship on its first and only journey. The data for this exercise is available at https://raw.githubusercontent.com/pandas-dev/pandas/master/doc/data/titanic.csv."
   ]
  },
  {
   "cell_type": "markdown",
   "metadata": {},
   "source": [
    "### 2a\n",
    "Load the CSV file into a DataFrame called 'titanic'."
   ]
  },
  {
   "cell_type": "code",
   "execution_count": null,
   "metadata": {},
   "outputs": [],
   "source": []
  },
  {
   "cell_type": "markdown",
   "metadata": {},
   "source": [
    "### 2b \n",
    "Inspect the data - view the first 10 rows"
   ]
  },
  {
   "cell_type": "code",
   "execution_count": null,
   "metadata": {},
   "outputs": [],
   "source": []
  },
  {
   "cell_type": "markdown",
   "metadata": {},
   "source": [
    "### 2c\n",
    "Create a DataFrame called 'titanic_age_sex' which only contains the age and sex of the passengers."
   ]
  },
  {
   "cell_type": "code",
   "execution_count": null,
   "metadata": {},
   "outputs": [],
   "source": []
  },
  {
   "cell_type": "markdown",
   "metadata": {},
   "source": [
    "### 2d\n",
    "Get the subset of data which relates to adults (age greater than or equal to 18), call the new DataFrame 'titanic_adults'.\n",
    "Check how many rows are in this new DataFrame and compare to the original titanic DataFrame."
   ]
  },
  {
   "cell_type": "code",
   "execution_count": null,
   "metadata": {},
   "outputs": [],
   "source": []
  },
  {
   "cell_type": "markdown",
   "metadata": {},
   "source": [
    "## How to Find Out More\n",
    "\n",
    "The last thing you need to know is how to discover these functions and how to read their docs so you can read, convert, and write many more formats. There are [docs online](https://pandas.pydata.org/pandas-docs/stable/index.html), or you can make use of `dir` and `help` functions, which is handy to know so you can data-science on your Antarctic expedition, or while flying to meet a client, or when you just don't have a good internet connection.\n",
    "\n",
    "`dir` lists all the methods of a class, `help` shows the documentation."
   ]
  },
  {
   "cell_type": "code",
   "execution_count": null,
   "metadata": {},
   "outputs": [],
   "source": [
    "# list all the methods in pandas that begin with \"read_\"\n",
    "list(filter(lambda m: m.startswith(\"read_\"), dir(pd)))"
   ]
  },
  {
   "cell_type": "code",
   "execution_count": null,
   "metadata": {},
   "outputs": [],
   "source": [
    "# list all the methods of DataFrame that begin with \"to_\"\n",
    "list(filter(lambda m: m.startswith(\"to_\"), dir(df)))"
   ]
  },
  {
   "cell_type": "code",
   "execution_count": null,
   "metadata": {},
   "outputs": [],
   "source": [
    "# print the documentation about the read_csv fundtion in pandas\n",
    "help(pd.read_csv)"
   ]
  },
  {
   "cell_type": "code",
   "execution_count": null,
   "metadata": {},
   "outputs": [],
   "source": [
    "# print the documentation about the to_csv method of DataFrame\n",
    "help(df.to_csv)"
   ]
  },
  {
   "cell_type": "markdown",
   "metadata": {},
   "source": [
    "# Solutions to Exercises\n",
    "## 1\n",
    "### 1a"
   ]
  },
  {
   "cell_type": "code",
   "execution_count": null,
   "metadata": {},
   "outputs": [],
   "source": [
    "movies = [\n",
    "    {'Ranking': '1', 'Title': 'Avengers: Endgame', 'Worldwide gross ($)': '2797800564', 'Year': '2019'}, \n",
    "    {'Ranking': '2', 'Title': 'Avatar', 'Worldwide gross ($)': '2790439000', 'Year': '2009'}, \n",
    "    {'Ranking': '3', 'Title': 'Titanic', 'Worldwide gross ($)': '2194439542', 'Year': '1997'},\n",
    "    {'Ranking': '4', 'Title': 'Star Wars: The Force Awakens', 'Worldwide gross ($)': '2068223624', 'Year': '2015'},\n",
    "    {'Ranking': '5', 'Title': 'Avengers: Infinity War', 'Worldwide gross ($)': '2048359754', 'Year': '2018'},\n",
    "    {'Ranking': '6', 'Title': 'Jurassic World', 'Worldwide gross ($)': '1671713208', 'Year': '2015'},\n",
    "    {'Ranking': '7', 'Title': 'The Lion King', 'Worldwide gross ($)': '1656943394', 'Year': '2019'},\n",
    "    {'Ranking': '8', 'Title': 'The Avengers', 'Worldwide gross ($)': '1518812988', 'Year': '2012'},\n",
    "    {'Ranking': '9', 'Title': 'Furious 7', 'Worldwide gross ($)': '1516045911', 'Year': '2015'},\n",
    "    {'Ranking': '10', 'Title': 'Frozen II', 'Worldwide gross ($)': '1450026933', 'Year': '2019'},\n",
    "    {'Ranking': '11', 'Title': 'Avengers: Age of Ultron', 'Worldwide gross ($)': '1402805868', 'Year': '2015'},\n",
    "    {'Ranking': '12', 'Title': 'Black Panther', 'Worldwide gross ($)': '1347280838', 'Year': '2018'},\n",
    "    {'Ranking': '13', 'Title': 'Harry Potter and the Deathly Hallows – Part 2', 'Worldwide gross ($)': '1342025430', 'Year': '2011'},\n",
    "    {'Ranking': '14', 'Title': 'Star Wars: The Last Jedi', 'Worldwide gross ($)': '1332539889', 'Year': '2017'},\n",
    "    {'Ranking': '15', 'Title': 'Jurassic World: Fallen Kingdom', 'Worldwide gross ($)': '1309484461', 'Year': '2018'},\n",
    "    {'Ranking': '16', 'Title': 'Frozen', 'Worldwide gross ($)': '1290000000', 'Year': '2013'},\n",
    "    {'Ranking': '17', 'Title': 'Beauty and the Beast', 'Worldwide gross ($)': '1263521126', 'Year': '2017'},\n",
    "    {'Ranking': '18', 'Title': 'Incredibles 2', 'Worldwide gross ($)': '1242805359', 'Year': '2018'},\n",
    "    {'Ranking': '19', 'Title': 'The Fate of the Furious', 'Worldwide gross ($)': '1238764765', 'Year': '2017'},\n",
    "    {'Ranking': '20', 'Title': 'Iron Man 3', 'Worldwide gross ($)': '1214811252', 'Year': '2013'}\n",
    "]\n",
    "\n",
    "ranking = [int(m[\"Ranking\"]) for m in movies]\n",
    "title = [m[\"Title\"] for m in movies]\n",
    "money = [int(m[\"Worldwide gross ($)\"]) for m in movies]\n",
    "year = [int(m[\"Year\"]) for m in movies]\n",
    "\n",
    "df = pd.DataFrame({\n",
    "    \"Ranking\": ranking,\n",
    "    \"Title\": title,\n",
    "    \"Worldwide gross ($)\": money,\n",
    "    \"Year\": year\n",
    "})\n",
    "\n",
    "df"
   ]
  },
  {
   "cell_type": "markdown",
   "metadata": {},
   "source": [
    "### 1b"
   ]
  },
  {
   "cell_type": "code",
   "execution_count": null,
   "metadata": {},
   "outputs": [],
   "source": [
    "df[df[\"Year\"]==2019]"
   ]
  },
  {
   "cell_type": "markdown",
   "metadata": {},
   "source": [
    "### 1c"
   ]
  },
  {
   "cell_type": "code",
   "execution_count": null,
   "metadata": {},
   "outputs": [],
   "source": [
    "df2 = df[df[\"Worldwide gross ($)\"] >= 1300000000]\n",
    "df2[df2[\"Year\"] < 2018]"
   ]
  },
  {
   "cell_type": "markdown",
   "metadata": {},
   "source": [
    "### 1d"
   ]
  },
  {
   "cell_type": "code",
   "execution_count": null,
   "metadata": {},
   "outputs": [],
   "source": [
    "df3 = df[df[\"Year\"] < 2018][['Title', 'Worldwide gross ($)']]\n",
    "df3"
   ]
  },
  {
   "cell_type": "markdown",
   "metadata": {},
   "source": [
    "## 2\n",
    "### 2a"
   ]
  },
  {
   "cell_type": "code",
   "execution_count": null,
   "metadata": {},
   "outputs": [],
   "source": [
    "titanic = pd.read_csv('https://raw.githubusercontent.com/pandas-dev/pandas/master/doc/data/titanic.csv')"
   ]
  },
  {
   "cell_type": "markdown",
   "metadata": {},
   "source": [
    "### 2b"
   ]
  },
  {
   "cell_type": "code",
   "execution_count": null,
   "metadata": {},
   "outputs": [],
   "source": [
    "titanic.head(10)"
   ]
  },
  {
   "cell_type": "markdown",
   "metadata": {},
   "source": [
    "### 2c"
   ]
  },
  {
   "cell_type": "code",
   "execution_count": null,
   "metadata": {},
   "outputs": [],
   "source": [
    "titanic_age_sex = titanic[['Age', 'Sex']]\n",
    "titanic_age_sex.head()"
   ]
  },
  {
   "cell_type": "markdown",
   "metadata": {},
   "source": [
    "### 2d"
   ]
  },
  {
   "cell_type": "code",
   "execution_count": null,
   "metadata": {},
   "outputs": [],
   "source": [
    "titanic_adults = titanic[titanic['Age'] >= 18]\n",
    "\n",
    "# get the number of records in the new DF and original\n",
    "titanic.shape , titanic_adults.shape"
   ]
  },
  {
   "cell_type": "code",
   "execution_count": null,
   "metadata": {},
   "outputs": [],
   "source": []
  }
 ],
 "metadata": {
  "kernelspec": {
   "display_name": "Python 3",
   "language": "python",
   "name": "python3"
  },
  "language_info": {
   "codemirror_mode": {
    "name": "ipython",
    "version": 3
   },
   "file_extension": ".py",
   "mimetype": "text/x-python",
   "name": "python",
   "nbconvert_exporter": "python",
   "pygments_lexer": "ipython3",
   "version": "3.7.6"
  }
 },
 "nbformat": 4,
 "nbformat_minor": 4
}
