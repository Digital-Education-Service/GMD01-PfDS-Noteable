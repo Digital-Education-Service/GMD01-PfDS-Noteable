{
 "cells": [
  {
   "cell_type": "markdown",
   "id": "79bcf526",
   "metadata": {},
   "source": [
    "# The elements of a plot\n",
    "\n",
    "We start by importing the various packages that we will need."
   ]
  },
  {
   "cell_type": "code",
   "execution_count": null,
   "id": "48fb916f",
   "metadata": {},
   "outputs": [],
   "source": [
    "import matplotlib.pyplot as plt\n",
    "import numpy as np\n",
    "import pandas as pd\n",
    "\n",
    "%matplotlib inline"
   ]
  },
  {
   "cell_type": "markdown",
   "id": "3586acc5",
   "metadata": {},
   "source": [
    "Recall the first plot we made:"
   ]
  },
  {
   "cell_type": "code",
   "execution_count": null,
   "id": "efc57b42",
   "metadata": {},
   "outputs": [],
   "source": [
    "fig, ax = plt.subplots()\n",
    "\n",
    "ax.plot([1,2,3,4,5], [2,8,9,1,3], label='line 1')\n",
    "ax.plot([1,2,3,4,5], [1,4,9,16,25], label='line 2')\n",
    "\n",
    "ax.set_xlabel('x axis')\n",
    "ax.set_ylabel('y axis')\n",
    "ax.set_title(\"Example\")\n",
    "\n",
    "ax.legend(title='Legend')"
   ]
  },
  {
   "cell_type": "markdown",
   "id": "a87c113b",
   "metadata": {},
   "source": [
    "## Legend\n",
    "The legend displays a label for different elements in the plot.\n",
    "The labels should be set when the relevant data is plotted, and are added with the Axes method `legend()`, as in the plot above.\n",
    "Provide a title for your legend with the optional `title` argument.\n",
    "There are various parameters to control the appearance and location of the legend. As with the other plotting functions, the matplotlib documentation contains details about the parameters for each method.\n",
    "\n",
    "## Axis Labels and plot title\n",
    "The Axes methods `set_xlabel()`, `set_ylabel()`, `set_title()` are fairly self-explanatory and can be seen in the example above.\n",
    "\n",
    "Optional parameters allow some control over the appearance of these titles, the following example shows some of the ways that text can be modified: the size, colour, transparency, weight, style, and locations can all be altered, as shown.\n",
    "The example also shows how LaTeX can be used where text requires mathematical symbols.\n",
    "\n",
    "The full list of formatting possibilities is available in the <a target=\"_blank\" href=\"https://matplotlib.org/stable/api/text_api.html#matplotlib.text.Text\">documentation</a>."
   ]
  },
  {
   "cell_type": "code",
   "execution_count": null,
   "id": "c5900925",
   "metadata": {},
   "outputs": [],
   "source": [
    "fig, ax = plt.subplots()\n",
    "ax.plot([1,2,3,4,5], [1,4,9,16,25], label=\"a blue line\")\n",
    "\n",
    "ax.set_title(\"Example 1\", fontstyle='italic', fontsize=16,  loc='left')\n",
    "ax.set_xlabel('$x$', backgroundcolor='yellow', fontweight='bold')\n",
    "ax.set_ylabel('$y = x^2$', color='purple', alpha=0.4, fontsize=16,rotation=0,labelpad=40)\n",
    "ax.legend(title='Legend', fontsize=10, title_fontsize=30, loc='lower right');"
   ]
  },
  {
   "cell_type": "markdown",
   "id": "3777a883",
   "metadata": {},
   "source": [
    "Note that matplotlib has correctly interpretted the LaTex command and used a superscript in $x^2$. However, it has still used a sans-serif font, which isn't how latex would format an equation by default. We can render the equation using Tex by setting the following parameter parameter:"
   ]
  },
  {
   "cell_type": "code",
   "execution_count": null,
   "id": "857bb3ba",
   "metadata": {},
   "outputs": [],
   "source": [
    "plt.rcParams['text.usetex'] = True"
   ]
  },
  {
   "cell_type": "markdown",
   "id": "3d1aec87",
   "metadata": {},
   "source": [
    "Using this option may mean that the figure could take longer to be created by Python, but the equations will be formatted in Tex. Re-run the last plot cell - you should see that the axes labels now use a serif font, as is common when writing mathematics. This difference may seem small, but it's something that mathematicians tend to notice, so formating with Tex can add a little mathematical polish to your plots. However, this may not always be the best choice, as serif fonts can be difficult for some people to read."
   ]
  },
  {
   "cell_type": "markdown",
   "id": "c5916967",
   "metadata": {},
   "source": [
    "## Axis ticks and grid-lines\n",
    "The ticks on an axis are the small lines which indicate the values along the axis.\n",
    "The actual numbers are the tick labels.\n",
    "The ticks are automatically added and values are chosen according to the data you're plotting.\n",
    "Often the default behaviour is fine, but if you need to change the range of values along an axis or the interval between ticks there are methods to allow you to do so.\n",
    "In between the ticks we can also display minor ticks to show smaller increments.\n",
    "Minor ticks are not labelled.\n",
    "\n",
    "The Axes method ``grid()`` modifies the grid-lines.\n",
    "By default, grid-lines are not displayed.\n",
    "Calling `grid()` without arguments toggles whether the grid-lines are displayed or not.\n",
    "The method accepts a large number of optional arguments to specify the exact style of grid-lines, a selection of these are demonstrated in the following example.\n"
   ]
  },
  {
   "cell_type": "code",
   "execution_count": null,
   "id": "e19ff0b9",
   "metadata": {},
   "outputs": [],
   "source": [
    "fig, axs = plt.subplots(1,2, figsize=(12,4))\n",
    "\n",
    "axs[0].plot([1,2,3,4,5], [1,4,9,16,25])\n",
    "axs[0].set_ylim(-6, 41) # the y axis now ranges from -6 to 41\n",
    "axs[0].set_yticks(range(-5, 41, 6)) # tick marks start at -5, end by 41, with 6 between adjacent ticks\n",
    "axs[0].minorticks_on()\n",
    "axs[0].grid(axis='both', linestyle='--', color='red') # dashed red grid lines for major ticks\n",
    "\n",
    "axs[1].plot([1,2,3,4,5], [1,2,3,4,5])\n",
    "axs[1].set_ylim(0,10)\n",
    "axs[1].set_yticks([0,1,3,4,5,7,8,9]) # irregularly spaced ticks\n",
    "axs[1].minorticks_on()\n",
    "axs[1].grid(axis='y') # grid lines for major ticks on y axis\n",
    "axs[1].grid(axis='x', which='both') # grid lines for minor ticks as well as major on x axis"
   ]
  },
  {
   "cell_type": "markdown",
   "id": "d2f55acc",
   "metadata": {},
   "source": [
    "The diagram below highlights several different objects within a plot and is based on one in the matplotlib documentation. It may be a useful reference to help you become familiar with the various names used within matplotlib.\n",
    "\n",
    "![A plot graph showing the different objects within a plot. There objects shown are major tick, minor tick, major and minor tick labels, y and x axis labels, figure, axes, spines, line (line plot), markers (scatter plot), title, legend and grid.](./PFDS_matplotlib_anatomy.png)\n",
    "\n",
    "The [code to produce this figure](https://matplotlib.org/stable/gallery/showcase/anatomy.html) is also included in the matplotlib documentation.\n",
    "\n",
    "### Error bars\n",
    "It is sometimes useful to add error bars onto the measurements.\n",
    "This is done through the Axes method ``errorbars()``.\n",
    "The first parameters of this method are the x and y values.\n",
    "If adding error bars to an existing plot these will match the x and y values of the main plot.\n",
    "The parameter ``yerr`` is given first the negative error for each bar and then the positive error for each bar.\n",
    "If the negative and positive error are the same then just one list or array can be passed in, or if the error is the same for every bar then you can pass in just a single number."
   ]
  },
  {
   "cell_type": "code",
   "execution_count": null,
   "id": "cb2442c3",
   "metadata": {},
   "outputs": [],
   "source": [
    "fig, axs = plt.subplots(1, 2, figsize=(10,4))\n",
    "\n",
    "# create a bar chart\n",
    "axs[0].bar([1,2,3,4,5], [2,3,9,7,3])\n",
    "\n",
    "# add error bars\n",
    "axs[0].errorbar(\n",
    "    [1,2,3,4,5],\n",
    "    [2,3,9,7,3],\n",
    "    yerr=[[0.5, 1, 0, 1, 2],[0.1, 0.1, 0.5, 3, 3]],\n",
    "    linestyle='',\n",
    "    color='black',\n",
    "    capsize=5)\n",
    "\n",
    "#create a scatter plot\n",
    "axs[1].scatter(\n",
    "    [1,2,3,4,5],\n",
    "    [4,7,15,12,3]\n",
    ")\n",
    "\n",
    "# add error bars\n",
    "axs[1].errorbar(\n",
    "    [1,2,3,4,5],\n",
    "    [4,7,15,12,3],\n",
    "    yerr=[[0.5, 1, 0, 1, 2],[0.1, 0.1, 0.5, 3, 3]],\n",
    "    linestyle='',\n",
    "    color='grey',\n",
    "    capsize=5)"
   ]
  },
  {
   "cell_type": "markdown",
   "id": "d5947c41",
   "metadata": {},
   "source": [
    "## Scaling\n",
    "Either axis can be rescaled using the Axes methods ``set_xscale()`` and ``set_yscale()``.\n",
    "The default is for both x and y axis to use a linear scale."
   ]
  },
  {
   "cell_type": "code",
   "execution_count": null,
   "id": "29987e78",
   "metadata": {},
   "outputs": [],
   "source": [
    "fig, axs = plt.subplots(1, 2, figsize=(10,4))\n",
    "\n",
    "x = np.linspace(0,9.9,100) # 100 evenly spaced numbers between 0 and 10\n",
    "y = np.exp2(x) # calculate 2**i for each element of x\n",
    "\n",
    "axs[0].plot(x, y)\n",
    "axs[0].set_title('Linear scale')\n",
    "\n",
    "axs[1].plot(x,y)\n",
    "axs[1].set_yscale('log') # set the y axis to a log scale\n",
    "axs[1].set_title('Log scale')"
   ]
  },
  {
   "cell_type": "markdown",
   "id": "92d4462b",
   "metadata": {},
   "source": [
    "## Colours\n",
    "We've already seen how to set the colour of many parts of a plot.\n",
    "In addition, the background of the figure and each Axes can be coloured.\n",
    "\n",
    "In general, where colours are used they can be specified with a name from the colour names listed in the <a target=\"_blank\" href=\"https://matplotlib.org/stable/gallery/color/named_colors.html\">documentation</a>.\n",
    "This is how we have specified colours in the examples so far.\n",
    "Alternatively, colours can be specified using a hex string or RBG tuple.\n",
    "This gives access to a much wider variety of colours and is important if you're working on a project that requires you to use a particular colour scheme.\n"
   ]
  },
  {
   "cell_type": "code",
   "execution_count": null,
   "id": "75e1dd42",
   "metadata": {},
   "outputs": [],
   "source": [
    "fig, ax = plt.subplots(facecolor='lightblue') # named colour, set background of figure\n",
    "ax.set_facecolor((0.56,0.93,0.56)) # rgb , set background color on Axes (green)\n",
    "ax.set_xlabel('x axis label', color='#FF0000') # hex string (red)"
   ]
  },
  {
   "cell_type": "markdown",
   "id": "7e0034d0",
   "metadata": {},
   "source": [
    "Instead of specifying the colours for each element we can use a colormap.\n",
    "A colour map is a sequence of colours.\n",
    "Matplotlib provides several options for <a target=\"_blank\" href=\"https://matplotlib.org/stable/tutorials/colors/colormaps.html\">choosing colour maps in Matplotlib</a>.\n",
    "The following example shows how to use a colormap in a scatter plot.\n",
    "Previously we passed a list of colour names to the parameter `c`, now we pass in a list of numbers and provide a colormap name.\n",
    "The colours are selected from the colormap according to the provided numbers."
   ]
  },
  {
   "cell_type": "code",
   "execution_count": null,
   "id": "f43ff057",
   "metadata": {},
   "outputs": [],
   "source": [
    "fig, ax = plt.subplots()\n",
    "\n",
    "scatter_plot = ax.scatter(\n",
    "    [1,2,3,4,5],\n",
    "    [1,4,8,2,7],\n",
    "    c=[1,2,2,1,3],\n",
    "    s=[100]*5,\n",
    "    cmap='tab10'\n",
    ")"
   ]
  },
  {
   "cell_type": "markdown",
   "id": "31076dfd",
   "metadata": {},
   "source": [
    "## Creating a figure with multiple Axes\n",
    "It's possible to create a figure without any Axes and add new Axes to an existing figure using the ``subplots()`` method on the figure object.\n",
    "However, it is most common to create a figure and all the Axes within it at the same time - this is what every example so far in the lesson has done.\n",
    "\n",
    "The pyplot function ``subplots()`` creates a figure and (one or several) Axes and returns references to all of these in a numpy array.\n",
    "List indexing allows access to individual Axes.\n",
    "If there are multiple Axes they are arranged in a grid pattern.\n",
    "\n",
    "There are no required parameters for ``subplots()`` but lots of optional parameters which allow fine control.\n",
    "Some of these optional parameters have been seen already in this lesson, the most important are described in the following table and demonstrated in the example that follows.\n",
    "\n",
    "|parameter|value type|meaning|must be keyword|\n",
    "|---|---|---|---|\n",
    "|nrows|int|the number of rows of Axes|no|\n",
    "|ncols|int|the number of columns of Axes|no|\n",
    "|sharex|Bool|should Axes in the same column use the same x axis|no|\n",
    "|sharey|Bool|should Axes in the same row use the same y axis|no|\n",
    "|figsize|(int,int)|the (width, height) in inches of the figure|yes|\n"
   ]
  },
  {
   "cell_type": "code",
   "execution_count": null,
   "id": "d570fd5c",
   "metadata": {},
   "outputs": [],
   "source": [
    "# nrow=3 ncols=2 sharey=False (default)\n",
    "fig, axs = plt.subplots(3 , 2, sharex=True, figsize=(10,6))\n",
    "\n",
    "for i in range(3):\n",
    "    for j in range(2):\n",
    "        axs[i][j].set_title('Axes {row}, {col}'.format(row=i+1,col=j+1))\n",
    "\n",
    "fig.tight_layout(h_pad=1, w_pad=2)"
   ]
  },
  {
   "cell_type": "markdown",
   "id": "44e0ed57",
   "metadata": {},
   "source": [
    "Sometimes the layout of the subplots is not perfect, with titles and Axes overlapping or axis labels falling outside of the figure area.\n",
    "The figure method ``tight_layout()`` can help with the following parameters:\n",
    "\n",
    "|parameter|value type|meaning|must be keyword|\n",
    "|---|---|---|---|\n",
    "|pad|float|the padding around the border of the figure|yes|\n",
    "|h_pad|float|horizontal padding between subplots|yes|\n",
    "|w_pad|float|width padding between subplots|yes|\n",
    "\n",
    "Without any arguments, ``tight_layout()`` will attempt to automatically optimise the layout of the figure, and often this is sufficient to fix any problems.\n",
    "\n",
    "The following example shows how multiple Axes can be added to a figure without using the grid pattern of ``subplots()``.\n",
    "The method ``add_axes()`` on the figure object takes a list of floats as its first parameter, this specifies the position of the new Axes within the figure.\n",
    "The values are a fraction of the total figure width or height and give, in order, the position of the left of the Axes, the bottom of the Axes, its width, and its height.\n",
    "For example, \\[0.5, 0.25, 0.3, 0.2\\] indicates an Axes whose bottom, left corner is positioned half way along the width of the figure, a quarter of the way along the height of the figure.\n",
    "The Axes width is 0.3 of the total width of the figure and its height it 0.2 of the total height of the figure.\n",
    "\n",
    "Being able to specify the exact position that the Axes is placed within the figure gives a great deal of control.\n",
    "Axes will overlap if necessary."
   ]
  },
  {
   "cell_type": "code",
   "execution_count": null,
   "id": "73621155",
   "metadata": {},
   "outputs": [],
   "source": [
    "fig = plt.figure()\n",
    "\n",
    "ax1 = fig.add_axes([0, 0, 0.6, 0.5])\n",
    "ax2 = fig.add_axes([0.4, 0.3, 0.3, 0.3])\n",
    "\n",
    "xrange = [1,2,3,4,5,6,7]\n",
    "values = [4,7,15,12,3,0,0]\n",
    "\n",
    "ax1.bar(xrange, values)\n",
    "\n",
    "ax2.plot(xrange[:-2], values[:-2])\n",
    "ax2.scatter(xrange[:-2], values[:-2])"
   ]
  },
  {
   "cell_type": "markdown",
   "id": "63bcf967",
   "metadata": {},
   "source": [
    "For a result which is somewhere between the strict grid layout of `subplots()` and the completely freeform layouts which are possible when directly adding Axes to a figure, we can use `gridspec`.\n",
    "We again create a grid, but now it's possible to have an Axes which spans multiple spaces in the grid.\n",
    "\n",
    "Having created a figure, create a `GridSpec` object for this figure by passing in the number of columns and rows in the grid.\n",
    "Each Axes is added to the figure using the figure method `add_subplot()` with an argument specifying which of the cells of the grid this Axes should cover.\n",
    "The syntax to identify the correct cells from the `GridSpec` object is similar to that for list slicing.\n",
    "For example, `gs[2, 0:2]` selects the third row (2 specifies the third row because of zero indexing), and the first and second columns.\n",
    "When passed to `add_subplot()` this will create an Axes which starts at the first cell of the third column and is two cells wide.\n",
    "\n",
    "Study the following example to see how it works:\n"
   ]
  },
  {
   "cell_type": "code",
   "execution_count": null,
   "id": "bc44320d",
   "metadata": {},
   "outputs": [],
   "source": [
    "from matplotlib.gridspec import GridSpec\n",
    "\n",
    "fig = plt.figure(figsize=(10,4))\n",
    "\n",
    "gs = GridSpec(3, 4, figure=fig)\n",
    "\n",
    "# gs[0, :] - first (top) row, all columns\n",
    "ax1 = fig.add_subplot(gs[0, :])\n",
    "ax1.set_title('ax1')\n",
    "\n",
    "# gs[1, :-1] - second (middle) row, from start until last-but-one column\n",
    "ax2 = fig.add_subplot(gs[1, :-1])\n",
    "ax2.set_title('ax2')\n",
    "\n",
    "# gs[1:, -1] - from second until last row, last column\n",
    "ax3 = fig.add_subplot(gs[1:, -1])\n",
    "ax3.set_title('ax3')\n",
    "\n",
    "# gs[2, 0:2] - third (bottom) row, from first until second column\n",
    "ax4 = fig.add_subplot(gs[2, 0:2])\n",
    "ax4.set_title('ax4')\n",
    "\n",
    "# gs[-1, -2] - last (bottom) row, last-but-one column\n",
    "ax5 = fig.add_subplot(gs[-1, -2])\n",
    "ax5.set_title('ax5')\n",
    "\n",
    "# allow enough space between each Axes to avoid overlap\n",
    "fig.tight_layout()"
   ]
  },
  {
   "cell_type": "markdown",
   "id": "ac452bcc",
   "metadata": {},
   "source": [
    "## Drawing shapes\n",
    "\n",
    "Matplotlib patches provide a simple way to add shapes to an Axes.\n",
    "This might be used to highlight some part of a plot, for example.\n",
    "\n",
    "For example,\n",
    "- a `Circle()` is defined by the x and y coordinates of its centre, and a radius.\n",
    "- a `Polygon()` is defined by the x and y coordinates of its vertices."
   ]
  },
  {
   "cell_type": "code",
   "execution_count": null,
   "id": "181a8734",
   "metadata": {},
   "outputs": [],
   "source": [
    "import matplotlib.patches as patches\n",
    "\n",
    "fig, ax = plt.subplots()\n",
    "\n",
    "c = patches.Circle((0,0), radius=3, alpha=0.5)\n",
    "ax.add_patch(c)\n",
    "\n",
    "p = patches.Polygon(((1,1),(3,5),(7,2)), color='orange', alpha=0.5)\n",
    "ax.add_patch(p)\n",
    "\n",
    "ax.set_xlim(-5,10)\n",
    "ax.set_ylim(-10,10)"
   ]
  },
  {
   "cell_type": "markdown",
   "id": "52c91e3a",
   "metadata": {},
   "source": [
    "## Object oriented style vs. state-based style\n",
    "\n",
    "In every example in this lesson, we have begun by creating a figure and (a number of) Axes, then used Axes methods to add some kind of plot or otherwise make any changes.\n",
    "Several of these methods are also available from pyplot directly.\n",
    "Recall our very first example in this lesson, drawing a simple line plot."
   ]
  },
  {
   "cell_type": "code",
   "execution_count": null,
   "id": "2e846069",
   "metadata": {},
   "outputs": [],
   "source": [
    "fig, ax = plt.subplots()\n",
    "\n",
    "ax.plot([1,2,3,4,5], [2,8,9,1,3], label='line 1')\n",
    "ax.plot([1,2,3,4,5], [1,4,9,16,25], label='line 2')\n",
    "ax.legend(title='Legend')"
   ]
  },
  {
   "cell_type": "markdown",
   "id": "4a3b293b",
   "metadata": {},
   "source": [
    "Instead of explicitly creating the figure and Axes using `subplot()` and then using `ax.plot()`, we could simply call `plt.plot()` and pyplot would know that it needs to make a figure and Axes to put the line onto."
   ]
  },
  {
   "cell_type": "code",
   "execution_count": null,
   "id": "f47fb7f9",
   "metadata": {},
   "outputs": [],
   "source": [
    "plt.plot([1,2,3,4,5], [2,8,9,1,3], label='line 1')\n",
    "plt.plot([1,2,3,4,5], [1,4,9,16,25], label='line 2')\n",
    "plt.legend(title='Legend')"
   ]
  },
  {
   "cell_type": "markdown",
   "id": "0e2c9acd",
   "metadata": {},
   "source": [
    "This is just an alternative way of plotting the same thing, both approaches are valid.\n",
    "For simple tasks this saves a line or two of code.\n",
    "`plt.plot()` adds the line to the _current_ Axes, in the _current_ figure.\n",
    "The first line of code created a figure and Axes because none existed already, the second line added to that Axes.\n",
    "There is a method in pyplot to get the current Axes, `gca()` (similarly `gcf()` gets the current figure).\n",
    "When calling `plt.plot()` pyplot essentially uses `gca()` to get the current Axes and then calls the Axes method `plot()` on this.\n",
    "The same pattern is used for many other Axes methods, all will affect the current Axes when called in this way.\n",
    "\n",
    "Overall, the object oriented style used throughout this lesson gives clarity about which object is being modified by any line of code, and allows for an easier transition from very simple to more complicated plots.\n",
    "The reason for mentioning the alternative style is that you may prefer it for simple tasks and many examples on the web use this style.\n",
    "Working through examples from online resources is an excellent way to practise and develop what you've learned, being aware of these two different ways of using matplotlib will hopefully mean you're not confused if an example uses the other approach.\n",
    "\n",
    "There is one other way of using matplotlib, which is to import pylab.\n",
    "Pylab is a module that includes matplotlib.pyplot, numpy, and other useful functions, all within a single namespace.\n",
    "Its purpose was to allow easy access to a variety of functionality in a single place but using pylab is now generally discouraged because importing so much functionality into the global namespace can result in unexpected behaviour.\n",
    "\n",
    "As well as a current figure there may be other figures in memory.\n",
    "At the start of the lesson we said that `plt.show()` displays all open figures.\n",
    "To see which figures are open use the pyplot function `get_fignums()`.\n",
    "The function `close()` will close the current figure if called without arguments, or you can pass in a figure number, or 'all' to close all the open figures.\n",
    "This can be useful for managing memory.\n"
   ]
  },
  {
   "cell_type": "code",
   "execution_count": null,
   "id": "78863909",
   "metadata": {},
   "outputs": [],
   "source": []
  }
 ],
 "metadata": {
  "kernelspec": {
   "display_name": "Python 3 (ipykernel)",
   "language": "python",
   "name": "python3"
  },
  "language_info": {
   "codemirror_mode": {
    "name": "ipython",
    "version": 3
   },
   "file_extension": ".py",
   "mimetype": "text/x-python",
   "name": "python",
   "nbconvert_exporter": "python",
   "pygments_lexer": "ipython3",
   "version": "3.8.13"
  }
 },
 "nbformat": 4,
 "nbformat_minor": 5
}
