{
 "cells": [
  {
   "cell_type": "markdown",
   "id": "28996128",
   "metadata": {},
   "source": [
    "# Introduction to matplotlib\n",
    "\n",
    "Data visualisation is useful for exploring data and communicating things that you discover. A graph comparing two variables can give a quick intuitive understanding of how the variables are related and so help to direct your research.\n",
    "A graphical representation of the relationships present in data is often invaluable to explain and support the conclusions of your research.\n",
    "\n",
    "In this lesson we will introduce the popular Python library `matplotlib` and provide a conceptual understanding of how it works. Matplotlib is a huge library and allows very fine control over the appearance of plots produced. You should expect to refer regularly to the official <a target=\"_blank\" href=\"https://matplotlib.org/stable/index.html\">documentation</a> to work out how to achieve exactly the output you want rather than trying to memorise every possible parameter of every function in advance.\n",
    "The documentation is extensive, searchable, and includes a large number of helpful <a target=\"_blank\" href=\"https://matplotlib.org/stable/gallery/index.html\">examples</a> and <a target=\"_blank\" href=\"https://matplotlib.org/stable/tutorials/index.html\">tutorials</a>. However, it isn't perfect and it can sometimes be difficult to find out how the particular thing you may be interested in works.\n",
    "\n",
    "In order to begin plotting, we need to import `pyplot` from matplotlib. Jupyter Notebooks support in-line plotting, where plots will appear below the corresponding code cell, but to make use of this we need to tell matplotlib to plot in-line as follows:"
   ]
  },
  {
   "cell_type": "code",
   "execution_count": null,
   "id": "86b6752f",
   "metadata": {},
   "outputs": [],
   "source": [
    "import matplotlib.pyplot as plt\n",
    "%matplotlib inline"
   ]
  },
  {
   "cell_type": "markdown",
   "id": "ccb739d7",
   "metadata": {},
   "source": [
    "We will also occasionally use NumPy and pandas in this lesson, so we need to import these as well. Note that pandas is not generally required to use matplotlib, but since pandas is so useful for storing and manipulating the data we want to represent it is common that they are used together."
   ]
  },
  {
   "cell_type": "code",
   "execution_count": null,
   "id": "530a184c",
   "metadata": {},
   "outputs": [],
   "source": [
    "import numpy as np\n",
    "import pandas as pd"
   ]
  },
  {
   "cell_type": "markdown",
   "id": "c661531a",
   "metadata": {},
   "source": [
    "Our first example shows how to create a simple plot containing two lines.\n",
    "We will explore all of the methods used in more detail below."
   ]
  },
  {
   "cell_type": "code",
   "execution_count": null,
   "id": "c95963da",
   "metadata": {},
   "outputs": [],
   "source": [
    "fig, ax = plt.subplots()\n",
    "\n",
    "ax.plot([1,2,3,4,5], [2,8,9,1,3], label='line 1')\n",
    "ax.plot([1,2,3,4,5], [1,4,9,16,25], label='line 2')\n",
    "\n",
    "ax.set_xlabel('x axis')\n",
    "ax.set_ylabel('y axis')\n",
    "ax.set_title(\"Example\")\n",
    "\n",
    "ax.legend(title='Legend')"
   ]
  },
  {
   "cell_type": "markdown",
   "id": "ec23c232",
   "metadata": {},
   "source": [
    "The first line of this example, `fig, ax = plt.subplots()`, creates a new figure for us to work with.\n",
    "\n",
    "The simplest type of plot to create is a line chart.\n",
    "The method `plot()` takes the values for the x-axis (the horizontal axis) followed by the values for the y-axis (the vertical axis).\n",
    "The number of values must match since it's not possible to plot data with more x than y values, or vice versa.\n",
    "\n",
    "Inspecting this first example, you can see the functions used to set labels for the x axis and y axis and to set the title and create a legend.\n",
    "The values for the x-axis and y-axis are automatically set as appropriate for the data.\n",
    "The colours of the two lines have also been chosen automatically.\n",
    "It is possible to override any of these choices.\n",
    "\n",
    "If you are programming in an environment where in-line plotting is not supported, it is necessary to call the function `plt.show()` to make your plot appear.\n",
    "This function causes all open figures to be displayed. However, since we are able to plot in-line in this notebook, we do not need to use it.\n",
    "\n",
    "## Saving plots as image files\n",
    "\n",
    "A figure can be saved using the method `savefig()` with a filename:"
   ]
  },
  {
   "cell_type": "code",
   "execution_count": null,
   "id": "53d1012d",
   "metadata": {},
   "outputs": [],
   "source": [
    "fig.savefig('testfig.png')"
   ]
  },
  {
   "cell_type": "markdown",
   "id": "dd652c85",
   "metadata": {},
   "source": [
    "Here the filename is `testfig.png`, and a file with this name should appear in the same directory as this notebook once you've run the cell. Running it again will overwrite the file, so take care, for example when you're preparing figures in Python for a report.\n",
    "\n",
    "The format of the figure is automatically determined by the extension used in the file name, which in this case was png. It is also possible to specify the format using the `format` parameter, but note that the file name will be whatever is specified, so these should match.\n",
    "\n",
    "The resolution of the saved figure can be changed using the parameter `dpi` (i.e. dots per square inch)."
   ]
  },
  {
   "cell_type": "code",
   "execution_count": null,
   "id": "ec784cf8",
   "metadata": {},
   "outputs": [],
   "source": [
    "fig.savefig('testfig.pdf',format='pdf',dpi=200)"
   ]
  },
  {
   "cell_type": "markdown",
   "id": "75121e96",
   "metadata": {},
   "source": [
    "The default resolution is 100, which is quite low (but equally, the file size will be relatively small); a reasonable resolution is about 300 and a relatively high resolution is 600, although it will depend how big your figure is and whether you scale it up or down in size."
   ]
  },
  {
   "cell_type": "markdown",
   "id": "0055fad4",
   "metadata": {},
   "source": [
    "## The most important matplotlib objects\n",
    "\n",
    "To use matplotlib effectively it's important to understand the different parts of a plot and the terms used for each of these.\n",
    "\n",
    "### Figure\n",
    "The very first line in the above example is `fig, ax = plt.subplots()`.\n",
    "The variable `fig` holds the **figure** which was returned by the `subplots()` function.\n",
    "Think of the figure as the container for everything else, the whole image being drawn by matplotlib.\n",
    "As usual, the choice of variable name is not important, but it happens that fig is very common, including in the official documentation.\n",
    "The size of the figure is set automatically, but can be modified by passing a tuple of the width and height in inches to the ``figsize``keyword parameter when ``subplots()`` is called.\n",
    "The next example illustrates this.\n",
    "\n",
    "### Axes\n",
    "In our example, the variable `ax` holds an **Axes**, also returned by the `subplots()` function.\n",
    "An Axes is essentially a single plot and contains all the components of that plot.\n",
    "An Axes is contained within a figure, a figure typically contains at least one Axes and could contain many, as in the following example."
   ]
  },
  {
   "cell_type": "code",
   "execution_count": null,
   "id": "672a8cce",
   "metadata": {},
   "outputs": [],
   "source": [
    "fig, axs = plt.subplots(1,2, figsize=(12,4))\n",
    "\n",
    "axs[0].set_title(\"Axes 1\")\n",
    "axs[0].plot([1,2,3,4,5], [2,8,9,1,3])\n",
    "\n",
    "axs[1].set_title(\"Axes 2\")\n",
    "axs[1].plot([1,2,3,4,5], [1,4,9,16,25])"
   ]
  },
  {
   "cell_type": "markdown",
   "id": "41fce6fd",
   "metadata": {},
   "source": [
    "In this example, we passed parameters to the ``subplots()`` function to say that we want a 1 by 2 grid of Axes.\n",
    "A single figure is returned, but now a NumPy array containing two Axes objects is returned.\n",
    "The two Axes both belong to the same figure.\n",
    "Each individual Axes is accessed with its index.\n",
    "A title and legend belong to an Axes, and the data is plotted onto an Axes.\n",
    "\n",
    "### Axis\n",
    "An axis is not the same as an Axes.\n",
    "This is slightly confusing terminology but it's worth understanding the distinction from the beginning.\n",
    "An axis is a single number line, such as the x-axis, or the-y axis.\n",
    "Each axis has a number of **ticks** and **tick labels** that show the values represented by the axis.\n",
    "An axis may also have a label.\n",
    "An Axes contains two axis objects (or three, for 3D plotting).\n",
    "\n",
    "\n",
    "## Plotting\n",
    "We've seen already how to plot a line comparing two variables and matplotlib is capable of drawing many other types of plots as well.\n",
    "For every type of plot there are numerous possibilities for customisation.\n",
    "In this lesson, we will briefly describe a variety of plots and you will have a chance to further explore the relevant methods in the exercises that follow.\n",
    "\n",
    "### plot()\n",
    "The first two parameters passed into the ``plot()`` method are the x and y data.\n",
    "The data is expected to be in the form of a list or numpy array, and there must be the same number of data points for the x and y data.\n",
    "It's possible to draw several lines on an Axes with only one call to the ``plot()`` method, by simply passing in more x and y data, but there is no particular benefit to doing this.\n",
    "\n",
    "The colour and style of the line can be set when plotting either by using keyword arguments or in a shorthand formatting string.\n",
    "Using the shorthand string supports fewer options but is quick and convenient for those it does support.\n",
    "Alternatively, the ``plot()`` method returns a list of the line objects it has drawn and there are methods on the line object for modifying how it's displayed.\n",
    "\n",
    "The following example shows three ways of specifying red dashed lines with circles at the data points.\n",
    "Choose the one that you like best.\n",
    "There are a huge number of formatting possibilities but you'll probably find you use just a few favourite styles most of the time.\n",
    "\n",
    "It's common in matplotlib that there are multiple ways of achieving the same thing.\n",
    "This can be a little confusing at first but adds a lot of convenience once you're used to it.\n",
    "\n"
   ]
  },
  {
   "cell_type": "code",
   "execution_count": null,
   "id": "915b16dc",
   "metadata": {},
   "outputs": [],
   "source": [
    "fig, axs = plt.subplots(1,3, figsize=(14,4))\n",
    "\n",
    "# shorthand forrmatting string: marker linestyle color\n",
    "axs[0].plot([1,2,3,4,5], [1,4,9,16,25], 'o--r')\n",
    "\n",
    "# keyword arguments\n",
    "axs[1].plot([1,2,3,4,5], [1,4,9,16,25], color='red', linestyle='--', marker='o')\n",
    "\n",
    "# methods on the line object\n",
    "lines = axs[2].plot([1,2,3,4,5], [1,4,9,16,25])\n",
    "lines[0].set_color('red')\n",
    "lines[0].set_linestyle('--')\n",
    "lines[0].set_marker('o')"
   ]
  },
  {
   "cell_type": "markdown",
   "id": "7615839b",
   "metadata": {},
   "source": [
    "If you have data in a pandas DataFrame a slightly different way of using the ``plot()`` method is convenient.\n",
    "In this case, the first two arguments are the column names for the x and y data, the third argument is the DataFrame containing the data."
   ]
  },
  {
   "cell_type": "code",
   "execution_count": null,
   "id": "80671152",
   "metadata": {},
   "outputs": [],
   "source": [
    "squares = pd.DataFrame({\n",
    "    \"x data\": [1,2,3,4,5],\n",
    "    \"y data\": [1,4,9,16,25]\n",
    "})\n",
    "\n",
    "fig, ax = plt.subplots()\n",
    "ax.plot('x data', 'y data', data=squares)"
   ]
  },
  {
   "cell_type": "markdown",
   "id": "37bdcd07",
   "metadata": {},
   "source": [
    "Pandas DataFrames also inherit some of the matplotlib plotting functionality, so you can plot directly from a DataFrame:"
   ]
  },
  {
   "cell_type": "code",
   "execution_count": null,
   "id": "8b626832",
   "metadata": {},
   "outputs": [],
   "source": [
    "ax=squares.plot('x data','y data')"
   ]
  },
  {
   "cell_type": "markdown",
   "id": "b4e9e361",
   "metadata": {},
   "source": [
    "In the figure above, if we had more data points then the line would look smoother.\n",
    "To draw mathematical functions it's often convenient to use numpy to generate data to plot.\n",
    "This is where the numpy function `linspace()` is very useful.\n",
    "Remember that NumPy is great for applying the same function to a collection of numbers, so you could use thousands or even tens of thousands of points within your plot to make your line really smooth (but this may be unnecessary, for example a straight line only really needs two points - the start and end).\n",
    "In the example below, we generate data by creating a NumPy array of values and then calculating the square of each of them. "
   ]
  },
  {
   "cell_type": "code",
   "execution_count": null,
   "id": "71177387",
   "metadata": {},
   "outputs": [],
   "source": [
    "fig, ax = plt.subplots()\n",
    "\n",
    "x = np.linspace(0.0, 5.0, 500) # 500 equally spaced values between 0 and 5\n",
    "y = np.square(x) # calculate the square of every value\n",
    "\n",
    "ax.plot(x, y)"
   ]
  },
  {
   "cell_type": "markdown",
   "id": "6d171da6",
   "metadata": {},
   "source": [
    "### scatter()\n",
    "Similarly to ``plot()``, the first two arguments we pass to the ``scatter()`` method for drawing a scatter plot are the x and y data.\n",
    "\n",
    "The size and colour can be set individually for each point by passing in a list of values.\n",
    "Pass in a single value for these two parameters to set the same size and colour for all points.\n",
    "The parameter `alpha` also sets how transparent the colours are (on a scale from 0 to 1 where 0 is fully transparent).\n",
    "\n",
    "By default the points will display as circles, but this can be altered with the parameter ``marker`` (you can find a full list of the possible marker shapes in the matplotlib documentation).\n"
   ]
  },
  {
   "cell_type": "code",
   "execution_count": null,
   "id": "f20dbc39",
   "metadata": {},
   "outputs": [],
   "source": [
    "fig, ax = plt.subplots()\n",
    "\n",
    "ax.scatter(\n",
    "    [1,2,3,4,5],\n",
    "    [4,7,15,12,3],\n",
    "    s=[20,200,100,500,50],\n",
    "    c=['crimson', 'blue', 'green', 'orange', 'purple'],\n",
    "    alpha=0.4,\n",
    "    marker='^'\n",
    ")"
   ]
  },
  {
   "cell_type": "markdown",
   "id": "d06c2149",
   "metadata": {},
   "source": [
    "As with ``plot()``, you can use a DataFrame to supply the data.\n",
    "In this case, the first two arguments should be the column names of the x and y data in the DataFrame.\n",
    "Any extra columns in the DataFrame are ignored."
   ]
  },
  {
   "cell_type": "code",
   "execution_count": null,
   "id": "acb98abc",
   "metadata": {},
   "outputs": [],
   "source": [
    "scatter_data = pd.DataFrame({\n",
    "    \"x data\": [1,2,3,4,5],\n",
    "    \"y data\": [4,7,15,12,3],\n",
    "    \"unused data\": [1,1,1,1,1],\n",
    "})\n",
    "\n",
    "fig, ax = plt.subplots()\n",
    "ax.scatter('x data', 'y data', data=scatter_data)"
   ]
  },
  {
   "cell_type": "markdown",
   "id": "53ae0744",
   "metadata": {},
   "source": [
    "### bar()\n",
    "The first argument is the x axis, the second argument is the height of the bars. Alternatively, ``barh()`` works similarly to create a horizontal bar plot."
   ]
  },
  {
   "cell_type": "code",
   "execution_count": null,
   "id": "850a44d8",
   "metadata": {},
   "outputs": [],
   "source": [
    "fig, ax = plt.subplots()\n",
    "\n",
    "ax.bar([1,2,3,4,5], [2,3,9,7,3])"
   ]
  },
  {
   "cell_type": "markdown",
   "id": "de096b04",
   "metadata": {},
   "source": [
    "As before, we can provide data to ``bar()`` by passing in x and y column names with a pandas DataFrame instead.\n",
    "\n",
    "By default, calling ``bar()`` multiple times on the same Axes will create overlapping bars.\n",
    "To create bars side-by-side we can tell matplotlib the width of each bar and where to position the middle of it."
   ]
  },
  {
   "cell_type": "code",
   "execution_count": null,
   "id": "a26f3206",
   "metadata": {},
   "outputs": [],
   "source": [
    "fig, ax = plt.subplots()\n",
    "x = np.array([1,2,3,4,5])\n",
    "\n",
    "bar_width = 0.4\n",
    "ax.bar(x-0.2, [2,3,9,7,3], bar_width)\n",
    "ax.bar(x+0.2, [3,3,5,1,7], bar_width)"
   ]
  },
  {
   "cell_type": "markdown",
   "id": "ab4baa96",
   "metadata": {},
   "source": [
    "The width of the bars can be modified with the ``width`` parameter (either a value for each bar or a single value that is applied to all bars), and the starting height of the bar can be modified with the parameter ``bottom``.\n",
    "Changing the start height of bars allows us to create stacked bar charts, with different categories of data showing in different colours and stacked one on top of the other.\n",
    "\n",
    "The spines of an Axes are the four lines forming the outline of the plot area.\n",
    "The bottom and left spines have the x and y-axis drawn on them (by default).\n",
    "In the example below, the two plots show the same data but in the right-hand plot the x axis has been made to display in the middle, along the line y=0, by changing the position of the bottom spine."
   ]
  },
  {
   "cell_type": "code",
   "execution_count": null,
   "id": "25b5ca3b",
   "metadata": {},
   "outputs": [],
   "source": [
    "fig, axs = plt.subplots(1,2, figsize=(10,4))\n",
    "x = np.array([1,2,3,4,5])\n",
    "y1=[2,3,9,7,3] # First set of y data\n",
    "y2=[-3,-3,-5,-1,-7] # Second set of y data\n",
    "\n",
    "axs[0].bar(x, y1)\n",
    "axs[0].bar(x, y2)\n",
    "# Notice how x is a NumPy array and y is a list\n",
    "\n",
    "axs[1].bar(x, y1)\n",
    "axs[1].bar(x, y2)\n",
    "\n",
    "# get the bottom spine and move it to y=0\n",
    "axs[1].spines['bottom'].set_position('zero')\n",
    "# remove top and right spines\n",
    "axs[1].spines['right'].set_color('none')\n",
    "axs[1].spines['top'].set_color('none')"
   ]
  },
  {
   "cell_type": "markdown",
   "id": "37ebcb66",
   "metadata": {},
   "source": [
    "As usual, there are many more optional arguments to control every aspect of the plot's appearance.\n",
    "You can find a full list of these in the documentation for the `bar()` method.\n",
    "\n",
    "### pie()\n",
    "To make a pie chart, the first parameter gives values for each category (it is assumed that the categories are appropriate for representation as a pie chart), the parameter `labels` takes a list of the category names.\n",
    "Optional parameters allow the appearance to be modified, some of these parameters are specified in the following table.\n",
    "\n",
    "|parameter|value type|meaning|\n",
    "|---|---|---|\n",
    "|colors|list|specify a color for each wedge|\n",
    "|startangle|float|the angle in degrees to start drawing the pie|\n",
    "|counterclock|Boolean|if true then draw the wedges counter-clockwise|"
   ]
  },
  {
   "cell_type": "code",
   "execution_count": null,
   "id": "d997ccfb",
   "metadata": {},
   "outputs": [],
   "source": [
    "fig, ax = plt.subplots()\n",
    "\n",
    "ax.pie(\n",
    "    [4,7,15,12,3],\n",
    "    labels=[\"these\", \"are\", \"the\", \"pie\", \"slices\"],\n",
    "    counterclock=False\n",
    ")"
   ]
  },
  {
   "cell_type": "markdown",
   "id": "a96c73e2",
   "metadata": {},
   "source": [
    "In many of the examples we've seen so far, some text is printed above the plot. This is because the methods used in the last lines of these cells return a tuple of one or more objects that were not asigned to variables, so it is printed to screen. In the example above, the tuple prints quite a lot of text to screen. We might not need the objects returned, so we might want to supress this output, which we can do by either asigning the output to a dummy (i.e. unused) variable, or by putting a semi-colon, `;`, after the last function call. Try each of these in the cell above."
   ]
  },
  {
   "cell_type": "markdown",
   "id": "7fcf6225",
   "metadata": {},
   "source": [
    "### stackplot()\n",
    "\n",
    "A stacked area plot with a single set of (x,y) data is like a line graph but the area under the curve is filled in.\n",
    "When multiple values for y are supplied the values are stacked on top of each other.\n",
    "This is useful for displaying categories of data, for example we might show the profit made in each month over different product lines, and by stacking these values on top of each other we can see the total profit in each month. We may need to use transparency so that all of the areas are visible.\n",
    "\n",
    "Using a DataFrame to supply the data is similar to previous types of plot but we can name multiple columns for the y data."
   ]
  },
  {
   "cell_type": "code",
   "execution_count": null,
   "id": "65e4fbf6",
   "metadata": {},
   "outputs": [],
   "source": [
    "fig, ax = plt.subplots(figsize=(10, 4))\n",
    "\n",
    "df = pd.DataFrame({\n",
    "    'x': [1,2,3,4,5,6,7,8,9,10],\n",
    "    'y1': [1,3,5,7,1,3,5,7,1,3],\n",
    "    'y2': [4,4,4,4,5,3,3,3,3,3]\n",
    "})\n",
    "\n",
    "# add a third data set such that y1+y2+y3 = 12 for all values of x\n",
    "df['y3'] = 12 - (df['y1']+df['y2'])\n",
    "\n",
    "ax.stackplot(\n",
    "    'x',\n",
    "    'y1',\n",
    "    'y2',\n",
    "    'y3',\n",
    "    data=df,\n",
    "    colors=['lightblue', 'purple', 'pink'],\n",
    "    alpha=0.5\n",
    ")"
   ]
  },
  {
   "cell_type": "markdown",
   "id": "b9cc8651",
   "metadata": {},
   "source": [
    "Note that `stackplot()` adds up the y data. Try making some of the values in the `'y1'` column above negative. What how does this affect the shading? \n",
    "\n",
    "If you want to fill an area on a graph, bounded by curves and/or the y-axis, then a better method than `stackplot()` is `fill_between` - see the matplotlib documentation for more details."
   ]
  },
  {
   "cell_type": "markdown",
   "id": "472fc439",
   "metadata": {},
   "source": [
    "### boxplot()\n",
    "A box plot summarises the distribution of the data.\n",
    "The value of the upper and lower quartiles (Q3 and Q1) and the median (Q2) are shown as the 'box' and a line within the box.\n",
    "Extending beyond the box are 'whiskers' which show the range of the data values.\n",
    "By default, the whiskers extend no further than Q3+1.5(Q3-Q1) and Q1-1.5(Q3-Q1).\n",
    "Any values outside of this are shown with dots as outliers.\n",
    "Because a box plot is a summary of the data, some information is lost and we can get identical plots despite different underlying data distributions."
   ]
  },
  {
   "cell_type": "code",
   "execution_count": null,
   "id": "002d4f1d",
   "metadata": {},
   "outputs": [],
   "source": [
    "fig, ax = plt.subplots()\n",
    "\n",
    "data = [\n",
    "    [1,2,3,4,5,6,7,8,9,10,11],\n",
    "    [1,1,1,3,4,4,4,6,8,8,8,9,9,11,11],\n",
    "    [0,2,3,4,5,5,5,5,5,6,7,8,10],\n",
    "    [1,7,8,9,11,12,14]\n",
    "]\n",
    "\n",
    "datalabels = ['x1', 'x2', 'x3', 'x4']\n",
    "\n",
    "ax.boxplot(data, labels=datalabels); \n",
    "# boxplot returns a dictionary with several objects - these have been supressed above"
   ]
  },
  {
   "cell_type": "code",
   "execution_count": null,
   "id": "400da683",
   "metadata": {},
   "outputs": [],
   "source": []
  }
 ],
 "metadata": {
  "kernelspec": {
   "display_name": "Python 3 (ipykernel)",
   "language": "python",
   "name": "python3"
  },
  "language_info": {
   "codemirror_mode": {
    "name": "ipython",
    "version": 3
   },
   "file_extension": ".py",
   "mimetype": "text/x-python",
   "name": "python",
   "nbconvert_exporter": "python",
   "pygments_lexer": "ipython3",
   "version": "3.8.13"
  }
 },
 "nbformat": 4,
 "nbformat_minor": 5
}
