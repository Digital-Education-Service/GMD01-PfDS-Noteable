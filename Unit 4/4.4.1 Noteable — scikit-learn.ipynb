{
 "cells": [
  {
   "cell_type": "markdown",
   "id": "810dfdd3",
   "metadata": {},
   "source": [
    "# Scikit-learn\n",
    "\n",
    "The scikit-learn package contains a broad range of open source computational tools for data science and predictive analytics. The scikit-learn package is built on NumPy, SciPy and matplotlib and includes functions and methods for classification, regression, clustering, neural networks and data transformations, as well as many other forms of stistical machine learning. Rather than try to cover lots of different tools, we will focus on a simple example and try to demonstrate how you can go about learning how to use the tools in scikit-learn independently.\n",
    "\n",
    "The scikit-learn package has good documentation, which includes descriptions of the statistics as well as examples of code. In this notebook, we will look at how to fit a regression model to data using the [Linear Regression Example](https://scikit-learn.org/stable/auto_examples/linear_model/plot_ols.html). In linear regression, the response variable (or target value) is assumed to be a linear combination of the explanatory variables (features) plus random, normally distributed noise. If there is only one explanatory variable, then we are trying to fit a straight line to data.\n",
    "\n",
    "The [Linear Regression Example](https://scikit-learn.org/stable/auto_examples/linear_model/plot_ols.html) includes the following code (which should run quickly, although it may take longer the first time you use the scikit-learn pacakge):"
   ]
  },
  {
   "cell_type": "code",
   "execution_count": 1,
   "id": "1fb59328",
   "metadata": {},
   "outputs": [
    {
     "name": "stdout",
     "output_type": "stream",
     "text": [
      "Coefficients: \n",
      " [938.23786125]\n",
      "Mean squared error: 2548.07\n",
      "Coefficient of determination: 0.47\n"
     ]
    },
    {
     "data": {
      "image/png": "[encoded data removed]",
      "text/plain": [
       "<Figure size 640x480 with 1 Axes>"
      ]
     },
     "metadata": {},
     "output_type": "display_data"
    }
   ],
   "source": [
    "# Code source: Jaques Grobler\n",
    "# License: BSD 3 clause\n",
    "\n",
    "import matplotlib.pyplot as plt\n",
    "import numpy as np\n",
    "\n",
    "from sklearn import datasets, linear_model\n",
    "from sklearn.metrics import mean_squared_error, r2_score\n",
    "\n",
    "# Load the diabetes dataset\n",
    "diabetes_X, diabetes_y = datasets.load_diabetes(return_X_y=True)\n",
    "\n",
    "# Use only one feature\n",
    "diabetes_X = diabetes_X[:, np.newaxis, 2]\n",
    "\n",
    "# Split the data into training/testing sets\n",
    "diabetes_X_train = diabetes_X[:-20]\n",
    "diabetes_X_test = diabetes_X[-20:]\n",
    "\n",
    "# Split the targets into training/testing sets\n",
    "diabetes_y_train = diabetes_y[:-20]\n",
    "diabetes_y_test = diabetes_y[-20:]\n",
    "\n",
    "# Create linear regression object\n",
    "regr = linear_model.LinearRegression()\n",
    "\n",
    "# Train the model using the training sets\n",
    "regr.fit(diabetes_X_train, diabetes_y_train)\n",
    "\n",
    "# Make predictions using the testing set\n",
    "diabetes_y_pred = regr.predict(diabetes_X_test)\n",
    "\n",
    "# The coefficients\n",
    "print(\"Coefficients: \\n\", regr.coef_)\n",
    "# The mean squared error\n",
    "print(\"Mean squared error: %.2f\" % mean_squared_error(diabetes_y_test, diabetes_y_pred))\n",
    "# The coefficient of determination: 1 is perfect prediction\n",
    "print(\"Coefficient of determination: %.2f\" % r2_score(diabetes_y_test, diabetes_y_pred))\n",
    "\n",
    "# Plot outputs\n",
    "plt.scatter(diabetes_X_test, diabetes_y_test, color=\"black\")\n",
    "plt.plot(diabetes_X_test, diabetes_y_pred, color=\"blue\", linewidth=3)\n",
    "\n",
    "plt.xticks(())\n",
    "plt.yticks(())\n",
    "\n",
    "plt.show()"
   ]
  },
  {
   "cell_type": "markdown",
   "id": "760787d7",
   "metadata": {},
   "source": [
    "The output prints the coefficient value, a measure of error, the $R^2$ metric and an illustration of the fit to the data. That was pretty easy! **But are we now able to use the scikit-learn package to do regression?** Probably we need to do a bit more work before we will feel confident applying it in a new setting. \n",
    "\n",
    "In this notebook, it is assumed that you **do not** have a detailed understanding of regression, and while some explanation will be provided, it will not be enough to enable you to apply regression effectively to other situations. Our focus will be how to use the programs, how to find out about there settings, and what effects these have, rather than how the statistical methods (regression in this case) work.\n",
    "\n",
    "So let's dig into this example in a little more detail.\n",
    "\n",
    "The first lines of code are:"
   ]
  },
  {
   "cell_type": "code",
   "execution_count": 2,
   "id": "bb0ef58c",
   "metadata": {},
   "outputs": [],
   "source": [
    "import matplotlib.pyplot as plt\n",
    "import numpy as np\n",
    "\n",
    "from sklearn import datasets, linear_model\n",
    "from sklearn.metrics import mean_squared_error, r2_score"
   ]
  },
  {
   "cell_type": "markdown",
   "id": "07a31235",
   "metadata": {},
   "source": [
    "These import a variety of tools from matplotlib, NumPy and scikit-learn. Usually we wouldn't know in advance what we would need, so we might start with nothing, or perhaps matplotlib and NumPy, then add packages and functions as we require them. The next line of code uses the `datasets` function from `sklearn`:"
   ]
  },
  {
   "cell_type": "code",
   "execution_count": 3,
   "id": "a0635ecf",
   "metadata": {},
   "outputs": [],
   "source": [
    "# Load the diabetes dataset\n",
    "diabetes_X, diabetes_y = datasets.load_diabetes(return_X_y=True)"
   ]
  },
  {
   "cell_type": "markdown",
   "id": "89185533",
   "metadata": {},
   "source": [
    "The [Linear Regression Example](https://scikit-learn.org/stable/auto_examples/linear_model/plot_ols.html) helpfully includes a [link to the documentation](https://scikit-learn.org/stable/modules/generated/sklearn.datasets.load_diabetes.html#sklearn.datasets.load_diabetes) for the `load_diabetes` method. **Have a look at this documentation.** It describes what the `return_X_y` parameter does, as well as what the other parameters are, what they do and what is returned.\n",
    "\n",
    "Note that this documentation is really helpful. It would be really hard to work out how the function works without it. Unfortunately not all documentation is this good, and often when you start using a new package, you may have to spend time searching online through documentation, tutorials and discussion forums to find out how it works. Similarly, you will also benefit from documenting your own work, by writing descriptions of what you've done, what resources you used and where to find them. This is especially important if you share your code online.\n",
    "\n",
    "Since the `return_X_y` parameter is `True`, the `diabetes_X` variable is the (explanatory) data and the `diabetes_y` variable is the target (response). Let's have a look at these."
   ]
  },
  {
   "cell_type": "code",
   "execution_count": 4,
   "id": "642a57a9",
   "metadata": {},
   "outputs": [
    {
     "data": {
      "text/plain": [
       "array([[ 0.03807591,  0.05068012,  0.06169621, ..., -0.00259226,\n",
       "         0.01990749, -0.01764613],\n",
       "       [-0.00188202, -0.04464164, -0.05147406, ..., -0.03949338,\n",
       "        -0.06833155, -0.09220405],\n",
       "       [ 0.08529891,  0.05068012,  0.04445121, ..., -0.00259226,\n",
       "         0.00286131, -0.02593034],\n",
       "       ...,\n",
       "       [ 0.04170844,  0.05068012, -0.01590626, ..., -0.01107952,\n",
       "        -0.04688253,  0.01549073],\n",
       "       [-0.04547248, -0.04464164,  0.03906215, ...,  0.02655962,\n",
       "         0.04452873, -0.02593034],\n",
       "       [-0.04547248, -0.04464164, -0.0730303 , ..., -0.03949338,\n",
       "        -0.00422151,  0.00306441]])"
      ]
     },
     "execution_count": 4,
     "metadata": {},
     "output_type": "execute_result"
    }
   ],
   "source": [
    "diabetes_X"
   ]
  },
  {
   "cell_type": "code",
   "execution_count": 5,
   "id": "1c45fbaa",
   "metadata": {},
   "outputs": [
    {
     "data": {
      "text/plain": [
       "(442, 10)"
      ]
     },
     "execution_count": 5,
     "metadata": {},
     "output_type": "execute_result"
    }
   ],
   "source": [
    "diabetes_X.shape"
   ]
  },
  {
   "cell_type": "code",
   "execution_count": 6,
   "id": "c99f3918",
   "metadata": {},
   "outputs": [
    {
     "data": {
      "text/plain": [
       "array([151.,  75., 141., 206., 135.,  97., 138.,  63., 110., 310., 101.,\n",
       "        69., 179., 185., 118., 171., 166., 144.,  97., 168.,  68.,  49.,\n",
       "        68., 245., 184., 202., 137.,  85., 131., 283., 129.,  59., 341.,\n",
       "        87.,  65., 102., 265., 276., 252.,  90., 100.,  55.,  61.,  92.,\n",
       "       259.,  53., 190., 142.,  75., 142., 155., 225.,  59., 104., 182.,\n",
       "       128.,  52.,  37., 170., 170.,  61., 144.,  52., 128.,  71., 163.,\n",
       "       150.,  97., 160., 178.,  48., 270., 202., 111.,  85.,  42., 170.,\n",
       "       200., 252., 113., 143.,  51.,  52., 210.,  65., 141.,  55., 134.,\n",
       "        42., 111.,  98., 164.,  48.,  96.,  90., 162., 150., 279.,  92.,\n",
       "        83., 128., 102., 302., 198.,  95.,  53., 134., 144., 232.,  81.,\n",
       "       104.,  59., 246., 297., 258., 229., 275., 281., 179., 200., 200.,\n",
       "       173., 180.,  84., 121., 161.,  99., 109., 115., 268., 274., 158.,\n",
       "       107.,  83., 103., 272.,  85., 280., 336., 281., 118., 317., 235.,\n",
       "        60., 174., 259., 178., 128.,  96., 126., 288.,  88., 292.,  71.,\n",
       "       197., 186.,  25.,  84.,  96., 195.,  53., 217., 172., 131., 214.,\n",
       "        59.,  70., 220., 268., 152.,  47.,  74., 295., 101., 151., 127.,\n",
       "       237., 225.,  81., 151., 107.,  64., 138., 185., 265., 101., 137.,\n",
       "       143., 141.,  79., 292., 178.,  91., 116.,  86., 122.,  72., 129.,\n",
       "       142.,  90., 158.,  39., 196., 222., 277.,  99., 196., 202., 155.,\n",
       "        77., 191.,  70.,  73.,  49.,  65., 263., 248., 296., 214., 185.,\n",
       "        78.,  93., 252., 150.,  77., 208.,  77., 108., 160.,  53., 220.,\n",
       "       154., 259.,  90., 246., 124.,  67.,  72., 257., 262., 275., 177.,\n",
       "        71.,  47., 187., 125.,  78.,  51., 258., 215., 303., 243.,  91.,\n",
       "       150., 310., 153., 346.,  63.,  89.,  50.,  39., 103., 308., 116.,\n",
       "       145.,  74.,  45., 115., 264.,  87., 202., 127., 182., 241.,  66.,\n",
       "        94., 283.,  64., 102., 200., 265.,  94., 230., 181., 156., 233.,\n",
       "        60., 219.,  80.,  68., 332., 248.,  84., 200.,  55.,  85.,  89.,\n",
       "        31., 129.,  83., 275.,  65., 198., 236., 253., 124.,  44., 172.,\n",
       "       114., 142., 109., 180., 144., 163., 147.,  97., 220., 190., 109.,\n",
       "       191., 122., 230., 242., 248., 249., 192., 131., 237.,  78., 135.,\n",
       "       244., 199., 270., 164.,  72.,  96., 306.,  91., 214.,  95., 216.,\n",
       "       263., 178., 113., 200., 139., 139.,  88., 148.,  88., 243.,  71.,\n",
       "        77., 109., 272.,  60.,  54., 221.,  90., 311., 281., 182., 321.,\n",
       "        58., 262., 206., 233., 242., 123., 167.,  63., 197.,  71., 168.,\n",
       "       140., 217., 121., 235., 245.,  40.,  52., 104., 132.,  88.,  69.,\n",
       "       219.,  72., 201., 110.,  51., 277.,  63., 118.,  69., 273., 258.,\n",
       "        43., 198., 242., 232., 175.,  93., 168., 275., 293., 281.,  72.,\n",
       "       140., 189., 181., 209., 136., 261., 113., 131., 174., 257.,  55.,\n",
       "        84.,  42., 146., 212., 233.,  91., 111., 152., 120.,  67., 310.,\n",
       "        94., 183.,  66., 173.,  72.,  49.,  64.,  48., 178., 104., 132.,\n",
       "       220.,  57.])"
      ]
     },
     "execution_count": 6,
     "metadata": {},
     "output_type": "execute_result"
    }
   ],
   "source": [
    "diabetes_y"
   ]
  },
  {
   "cell_type": "code",
   "execution_count": 7,
   "id": "4198d37f",
   "metadata": {},
   "outputs": [
    {
     "data": {
      "text/plain": [
       "(442,)"
      ]
     },
     "execution_count": 7,
     "metadata": {},
     "output_type": "execute_result"
    }
   ],
   "source": [
    "diabetes_y.shape"
   ]
  },
  {
   "cell_type": "markdown",
   "id": "8bc7f2ca",
   "metadata": {},
   "source": [
    "Both variables have 442 rows, but `diabetes_X` has 10 columns, whereas `diabetes_y` is one-dimensional; `diabetes_X` seems to contain positive and negative decimals, whereas `diabetes_y` seems to be positive integers.\n",
    "\n",
    "Some natural questions we might ask are where does this data come from? What do the values refer to? Has any scaling been applied to the data? How could we visulalise the data? What might we be able to do with the data?\n",
    "\n",
    "The scikit-learn documentation has [descriptions of the data sets that come with the package](https://scikit-learn.org/stable/datasets/toy_dataset.html#diabetes-dataset), which also has a [link to the diabetes source data](https://www4.stat.ncsu.edu/~boos/var.select/diabetes.html) and [further information](https://hastie.su.domains/Papers/LARS/LeastAngle_2002.pdf) about the diabetes data. The [further information](https://hastie.su.domains/Papers/LARS/LeastAngle_2002.pdf) is a paper that uses the data to demonstrate a statistical method called \"Least Angle Regression\" (LARS). It is worth having a look at the paper, but what you should realise is that it focuses on the LARS method and has very little description about the data, its source and what we might infer from analysing it. However, the web page with the [source data](https://www4.stat.ncsu.edu/~boos/var.select/diabetes.html) does include the [raw data](https://www4.stat.ncsu.edu/~boos/var.select/diabetes.tab.txt). \n",
    "\n",
    "### Exercise 1\n",
    "Experiment with the parameters for `load_diabetes`. What format does the data take when there no parameters are given? Can you get the data as a pandas dataframe? Check that the [raw data](https://www4.stat.ncsu.edu/~boos/var.select/diabetes.tab.txt) online matches up with the data that you get when we call the `load_diabetes` method with the `scaled` parameter set to `False`."
   ]
  },
  {
   "cell_type": "code",
   "execution_count": null,
   "id": "00b38c7e",
   "metadata": {},
   "outputs": [],
   "source": []
  },
  {
   "cell_type": "markdown",
   "id": "ba529b85",
   "metadata": {},
   "source": [
    "The `diabetes_X` variable has 10 columns, and the [scikit-learn documentation](https://scikit-learn.org/stable/datasets/toy_dataset.html#diabetes-dataset) lists these as\n",
    "* age - age in years\n",
    "* sex - this is represented as either 1 or 2\n",
    "* bmi - body mass index\n",
    "* bp - average blood pressure\n",
    "* s1 tc - total serum cholesterol\n",
    "* s2 ldl - low-density lipoproteins\n",
    "* s3 hdl - high-density lipoproteins\n",
    "* s4 tch - total cholesterol / HDL\n",
    "* s5 ltg - possibly log of serum triglycerides level\n",
    "* s6 glu - blood sugar level\n",
    "\n",
    "We might assume that this order corresponds to the order of the columns in the data, but it's a good thing to check. To do this, we might look at the [raw data](https://www4.stat.ncsu.edu/~boos/var.select/diabetes.tab.txt) for example. You'd be surprised how often mistakes like incorrectly labelling data occur, and how much time it can take to find them.\n",
    "\n",
    "Let's continue to work through the example code. The next line is:"
   ]
  },
  {
   "cell_type": "code",
   "execution_count": 8,
   "id": "962b8c36",
   "metadata": {},
   "outputs": [],
   "source": [
    "# Use only one feature\n",
    "diabetes_X = diabetes_X[:, np.newaxis, 2]  # equivalent to diabetes_X[:, 2].reshape(-1, 1)\n",
    "\n",
    "#TRY\n",
    "#diabetes_X[:, 2].shape    # (442,) → 1D array\n",
    "#diabetes_X[:, np.newaxis, 2].shape    # (442, 1)"
   ]
  },
  {
   "cell_type": "markdown",
   "id": "ae73a747",
   "metadata": {},
   "source": [
    "This line reasigns `diabetes_X` to its third column and the `np.newaxis` attribute makes the resulting array two-dimensional:"
   ]
  },
  {
   "cell_type": "code",
   "execution_count": 9,
   "id": "aa43ea5c",
   "metadata": {},
   "outputs": [
    {
     "data": {
      "text/plain": [
       "(442, 1)"
      ]
     },
     "execution_count": 9,
     "metadata": {},
     "output_type": "execute_result"
    }
   ],
   "source": [
    "diabetes_X.shape"
   ]
  },
  {
   "cell_type": "markdown",
   "id": "9c9b3ab2",
   "metadata": {},
   "source": [
    "i.e. it has 442 rows and 1 column. Compare this to if we had just taken the third column of `diabetes_X`:"
   ]
  },
  {
   "cell_type": "code",
   "execution_count": null,
   "id": "60bbeb9b",
   "metadata": {},
   "outputs": [],
   "source": [
    "diabetes_X, diabetes_y = datasets.load_diabetes(return_X_y=True)\n",
    "diabetes_X[:,2].shape"
   ]
  },
  {
   "cell_type": "markdown",
   "id": "a9ccf384",
   "metadata": {},
   "source": [
    "The reason we need `diabetes_X` to be two-dimensional is because the `fit` method that uses this data expects two-dimensional arrays and will produce an error if we give it data without a second dimension.\n",
    "\n",
    "We can also make `diabetes_X` two-dimensional by using `np.newaxis` in the third position (which may seem more intutitive):"
   ]
  },
  {
   "cell_type": "code",
   "execution_count": null,
   "id": "4df742eb",
   "metadata": {},
   "outputs": [],
   "source": [
    "diabetes_X=diabetes_X[:,2,np.newaxis]\n",
    "diabetes_X.shape"
   ]
  },
  {
   "cell_type": "markdown",
   "id": "2c2fa059",
   "metadata": {},
   "source": [
    "The next lines of code divide the data and target up into training and testing sets:"
   ]
  },
  {
   "cell_type": "code",
   "execution_count": null,
   "id": "cfc8db90",
   "metadata": {},
   "outputs": [],
   "source": [
    "# Split the data into training/testing sets\n",
    "diabetes_X_train = diabetes_X[:-20]\n",
    "diabetes_X_test = diabetes_X[-20:]\n",
    "\n",
    "# Split the targets into training/testing sets\n",
    "diabetes_y_train = diabetes_y[:-20]\n",
    "diabetes_y_test = diabetes_y[-20:]"
   ]
  },
  {
   "cell_type": "markdown",
   "id": "3649f600",
   "metadata": {},
   "source": [
    "Here 20 data points have been used as testing data. The training set will be used to fit the model, then the training set will be used to evaluate how good the model fits.\n",
    "\n",
    "The next line of code creates an instance of the `linear_model` class, which has the methods needed to fit the data using a linear model."
   ]
  },
  {
   "cell_type": "code",
   "execution_count": null,
   "id": "8619e13b",
   "metadata": {},
   "outputs": [],
   "source": [
    "# Create linear regression object\n",
    "regr = linear_model.LinearRegression()"
   ]
  },
  {
   "cell_type": "markdown",
   "id": "e83b9782",
   "metadata": {},
   "source": [
    "Again, the [Linear Regression Example](https://scikit-learn.org/stable/auto_examples/linear_model/plot_ols.html) has a link to the [documentation](https://scikit-learn.org/stable/modules/generated/sklearn.linear_model.LinearRegression.html#sklearn.linear_model.LinearRegression) for the `linear_model` class where you can find out about the parameters that can be used, as well as the attributes and methods of the class. Note that many of the attributes only appear once the model has been fitted.\n",
    "\n",
    "The next line fits the linear model to the data."
   ]
  },
  {
   "cell_type": "code",
   "execution_count": null,
   "id": "d1e1bae8",
   "metadata": {},
   "outputs": [],
   "source": [
    "# Train the model using the training sets\n",
    "regr.fit(diabetes_X_train, diabetes_y_train)"
   ]
  },
  {
   "cell_type": "markdown",
   "id": "241ae5b0",
   "metadata": {},
   "source": [
    "You can see the attributes and methods asigned to `regr` by typing `regr.` and pressing the auto-complete button tab:"
   ]
  },
  {
   "cell_type": "code",
   "execution_count": null,
   "id": "1e13a57d",
   "metadata": {},
   "outputs": [],
   "source": [
    "# Add a . after regr and press tab to see the attributes and methods\n",
    "regr"
   ]
  },
  {
   "cell_type": "markdown",
   "id": "9cbeb4c5",
   "metadata": {},
   "source": [
    "Fitting the model to the data has caused a lot of things to happen that we only see the result of, which is why it's important to know the theory that underpins linear regression (which is covered elsewhere in the Data Science (Statistics) programme). However, the package may also make decisions about the best numerical methods to use in a given situation. You may have to find out about these as well if you get errors when you try to apply the method to your data, or if the method takes too long. You may be able to determine this from the documentation, but with open source software, you may have to go to the source code.\n",
    "\n",
    "The next line of code uses the fitted model to predict the target values for the testing data."
   ]
  },
  {
   "cell_type": "code",
   "execution_count": null,
   "id": "8e30821b",
   "metadata": {},
   "outputs": [],
   "source": [
    "# Make predictions using the testing set\n",
    "diabetes_y_pred = regr.predict(diabetes_X_test)"
   ]
  },
  {
   "cell_type": "markdown",
   "id": "67a199e1",
   "metadata": {},
   "source": [
    "The linear model that we have fitted is the straight line through the data that minimises the sum of squared errors. Predictions are then the corresponding points along this line - we will visualise this shortly.\n",
    "\n",
    "The next line prints out the regression coefficient"
   ]
  },
  {
   "cell_type": "code",
   "execution_count": null,
   "id": "4211e0c0",
   "metadata": {},
   "outputs": [],
   "source": [
    "# The coefficients\n",
    "print(\"Coefficients: \\n\", regr.coef_)"
   ]
  },
  {
   "cell_type": "markdown",
   "id": "9ea98a5e",
   "metadata": {},
   "source": [
    "This is the slope of the line. It would also be useful to know the intercept:"
   ]
  },
  {
   "cell_type": "code",
   "execution_count": null,
   "id": "bc71ef18",
   "metadata": {},
   "outputs": [],
   "source": [
    "print(\"Intercept: \\n\",regr.intercept_)"
   ]
  },
  {
   "cell_type": "markdown",
   "id": "15b8b8b9",
   "metadata": {},
   "source": [
    "The next two lines compute the mean squared error between the testing set and the model predictions as well as the $R^2$ value."
   ]
  },
  {
   "cell_type": "code",
   "execution_count": null,
   "id": "80f3cd98",
   "metadata": {},
   "outputs": [],
   "source": [
    "# The mean squared error\n",
    "print(\"Mean squared error: %.2f\" % mean_squared_error(diabetes_y_test, diabetes_y_pred))\n",
    "# The coefficient of determination: 1 is perfect prediction\n",
    "print(\"Coefficient of determination: %.2f\" % r2_score(diabetes_y_test, diabetes_y_pred))"
   ]
  },
  {
   "cell_type": "markdown",
   "id": "b3af0f76",
   "metadata": {},
   "source": [
    "The smaller the mean squared error the better the prediction, but is this value small or large? The mean squared error is computed by taking the mean of the square of the difference between points in the testing set and the corresponding predictions. One comparison we could use is with the mean squared error between the training data and the corresponding predictions. Computing this we get:"
   ]
  },
  {
   "cell_type": "code",
   "execution_count": null,
   "id": "aae81c44",
   "metadata": {},
   "outputs": [],
   "source": [
    "diabetes_y_pred_train = regr.predict(diabetes_X_train)\n",
    "print(f\"Mean squared error of training data: {mean_squared_error(diabetes_y_train, diabetes_y_pred_train):.2f}\")"
   ]
  },
  {
   "cell_type": "markdown",
   "id": "4c657e5f",
   "metadata": {},
   "source": [
    "So the testing error is smaller than this, which may seem like a good thing. However, if our linear model of the data is accurate then really we are just lucky that our (relatively small) training set has smaller error. If it was much different then it might be good to question why - how was the training set chosen? Ideally this would be a random sample of the data. Also, this being a mean squared error, larger errors contribute significantly more to the value of the error metric. Therefore we might also consider other error metrics.\n",
    "\n",
    "We saw above that the $R^2$ was 0.47. The $R^2$, or coefficient of determination, measures how much of the variation in the target variable is predicted by the variation in the data. The $R^2$ varies between 0 and 1, where a perfect fit results in an $R^2$ close to 1, and an $R^2$ equal to Zero suggests that the fit is no better estimate than the average of the data. Here 47% of the variation in the target variable is predicted by the variation in the data, so this isn't a particularly good fit. This will become clearer from plotting the results, as the next lines in the example do."
   ]
  },
  {
   "cell_type": "code",
   "execution_count": null,
   "id": "bc6bf0cf",
   "metadata": {},
   "outputs": [],
   "source": [
    "# Plot outputs\n",
    "plt.scatter(diabetes_X_test, diabetes_y_test, color=\"black\")\n",
    "plt.plot(diabetes_X_test, diabetes_y_pred, color=\"blue\", linewidth=3)\n",
    "\n",
    "plt.xticks(())\n",
    "plt.yticks(())\n",
    "\n",
    "plt.show()"
   ]
  },
  {
   "cell_type": "markdown",
   "id": "1e0c3511",
   "metadata": {},
   "source": [
    "In this plot, the points correspond to the testing data and the line is the model. Note that the predictions have been used to draw this line. In principle we could have used the intercept and coefficient to plot this line, but using the predictions proves convenient here.\n",
    "\n",
    "Given that this plot was used as an example of how to do linear regression in scikit-learn, it perhaps isn't important to include values on the axes or labels. However, in this form it doesn't allow us to infer much from the regression, so there is certainly room to improve how informative this figure is. Below is an alternative plot, and you may consider how this could also be improved."
   ]
  },
  {
   "cell_type": "code",
   "execution_count": null,
   "id": "dac2816d",
   "metadata": {},
   "outputs": [],
   "source": [
    "# Figure parameters\n",
    "# lwt=2 # linewidth\n",
    "ms=20 # marker size\n",
    "\n",
    "# Better to use unscaled bmi.\n",
    "diabetes_X_unscaled, _ = datasets.load_diabetes(return_X_y=True,scaled=False)\n",
    "diabetes_X_unscaled=diabetes_X_unscaled[:,2]\n",
    "diabetes_X_unscaled_train=diabetes_X_unscaled[:-20]\n",
    "diabetes_X_unscaled_test=diabetes_X_unscaled[-20:]\n",
    "\n",
    "plt.scatter(diabetes_X_unscaled_train, diabetes_y_train, s=ms,color=0.9*np.ones(3),zorder=0)\n",
    "for i in range(len(diabetes_X_unscaled_test)):\n",
    "    plt.plot([diabetes_X_unscaled_test[i],diabetes_X_unscaled_test[i]],\n",
    "             [diabetes_y_pred[i],diabetes_y_test[i]],color=\"red\",zorder=1,linewidth=1)\n",
    "plt.plot(diabetes_X_unscaled_train, diabetes_y_pred_train, color=\"blue\", linewidth=2,zorder=2)\n",
    "plt.scatter(diabetes_X_unscaled_test, diabetes_y_test, s=ms, color=\"black\",zorder=3)\n",
    "\n",
    "plt.xlabel('Body Mass Index')\n",
    "plt.ylabel('Disease propagation measure');"
   ]
  },
  {
   "cell_type": "markdown",
   "id": "622008fc",
   "metadata": {},
   "source": [
    "In this figure we can see the training data in light gray markers, as well as the testing data in black markers. The blue line indicates the linear model fit and the red lines indicate the errors (i.e. the difference between the data and the predicted values along the line of best fit). The explanatory variable is body mass index (BMI), and the unscaled values have been plotted. It's not clear exactly what the target variable is, but the reference paper refers to this as \"a measure of disease propagation one year after baseline\".\n",
    "\n",
    "From this figure it should be clear that we might use our linear regression to ask whether BMI could be used to predict disease propagation. The results suggest that BMI is positively correlated with the measure of disease propagation, but the relatively small $R^2$ value suggests that BMI alone is not a strong predictor of disease propagation. In this figure we can see more clearly that the testing data does not represent the variation seen in the training data, and hence why the mean squared error was relatively small."
   ]
  },
  {
   "cell_type": "markdown",
   "id": "4a557e6e",
   "metadata": {},
   "source": [
    "### Exercise 1 solution\n",
    "\n",
    "First load up the data with no parameters:"
   ]
  },
  {
   "cell_type": "code",
   "execution_count": null,
   "id": "62827597",
   "metadata": {},
   "outputs": [],
   "source": [
    "data = datasets.load_diabetes()"
   ]
  },
  {
   "cell_type": "code",
   "execution_count": null,
   "id": "5e5ad4a1",
   "metadata": {},
   "outputs": [],
   "source": [
    "data"
   ]
  },
  {
   "cell_type": "markdown",
   "id": "130f9611",
   "metadata": {},
   "source": [
    "With no parameters, a dictionary-like object called a \"[bunch](https://scikit-learn.org/stable/modules/generated/sklearn.utils.Bunch.html#sklearn.utils.Bunch)\" is returned. This includes, the data, the target, feature names, a description of the data, as well as the data file names."
   ]
  },
  {
   "cell_type": "code",
   "execution_count": null,
   "id": "fb66a27d",
   "metadata": {},
   "outputs": [],
   "source": [
    "data = datasets.load_diabetes(as_frame=True)\n",
    "data['frame']"
   ]
  },
  {
   "cell_type": "markdown",
   "id": "b5e6e00b",
   "metadata": {},
   "source": [
    "If we want to view the data as a pandas dataframe, we should import pandas first."
   ]
  },
  {
   "cell_type": "code",
   "execution_count": null,
   "id": "16d71814",
   "metadata": {},
   "outputs": [],
   "source": [
    "import pandas as pd"
   ]
  },
  {
   "cell_type": "markdown",
   "id": "f9b1cec7",
   "metadata": {},
   "source": [
    "When `as_frame=True`, a bunch is still returned, but the pandas data frame can be accessed via the `frame` attribute.\n",
    "\n",
    "Now let's set remove the scaling."
   ]
  },
  {
   "cell_type": "code",
   "execution_count": null,
   "id": "66e038b0",
   "metadata": {},
   "outputs": [],
   "source": [
    "data = datasets.load_diabetes(as_frame=True,scaled=False)\n",
    "data['frame']"
   ]
  },
  {
   "cell_type": "markdown",
   "id": "d83434f7",
   "metadata": {},
   "source": [
    "The numbers here seem to match up with the [raw data](https://www4.stat.ncsu.edu/~boos/var.select/diabetes.tab.txt)."
   ]
  },
  {
   "cell_type": "code",
   "execution_count": null,
   "id": "107e7138",
   "metadata": {},
   "outputs": [],
   "source": []
  },
  {
   "cell_type": "code",
   "execution_count": null,
   "id": "83bbe821",
   "metadata": {},
   "outputs": [],
   "source": []
  },
  {
   "cell_type": "code",
   "execution_count": null,
   "id": "3c5948b0",
   "metadata": {},
   "outputs": [],
   "source": []
  }
 ],
 "metadata": {
  "kernelspec": {
   "display_name": "Python 3 (ipykernel)",
   "language": "python",
   "name": "python3"
  },
  "language_info": {
   "codemirror_mode": {
    "name": "ipython",
    "version": 3
   },
   "file_extension": ".py",
   "mimetype": "text/x-python",
   "name": "python",
   "nbconvert_exporter": "python",
   "pygments_lexer": "ipython3",
   "version": "3.11.5"
  }
 },
 "nbformat": 4,
 "nbformat_minor": 5
}
