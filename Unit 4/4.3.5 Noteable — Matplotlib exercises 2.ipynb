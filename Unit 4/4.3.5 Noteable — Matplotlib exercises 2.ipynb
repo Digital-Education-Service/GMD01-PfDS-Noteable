{
 "cells": [
  {
   "cell_type": "markdown",
   "metadata": {},
   "source": [
    "# Plotting with matplotlib\n",
    "\n",
    "So far we've been using pretend data to practice plotting. \n",
    "Now let's try to plot something meaningful.\n",
    "To complete these exercises you will need to use what you've learned about handling files, using pandas and plotting data with matplotlib. You will also likely need to search online for hints and use documentation to find appropriate solutions. \n"
   ]
  },
  {
   "cell_type": "code",
   "execution_count": null,
   "metadata": {},
   "outputs": [],
   "source": [
    "import matplotlib.pyplot as plt\n",
    "import pandas as pd\n",
    "import numpy as np"
   ]
  },
  {
   "cell_type": "markdown",
   "metadata": {},
   "source": [
    "## Exercise 1\n",
    "The files 'annual_temperature.csv' and 'annual_sunshine_hours.csv' contain weather data from the [met office website](https://www.metoffice.gov.uk/research/climate/maps-and-data/uk-and-regional-series).\n",
    "We will explore this data visually using matplotlib. \n",
    "\n",
    "### Part a\n",
    "Plot the average annual temperature (column 'ann' in 'annual_temperature.csv') for each year in a line plot. \n",
    "On the same Axes, plot the five year rolling average temperature. \n",
    "That is, for each year, instead of plotting the annual temperature of that year only, plot the average temperature from that year and the past four. \n",
    "This is a way of smoothing the data to reduce noise and highlight trends.\n",
    "\n",
    "Do the same for the average winter and summer temperature.\n",
    "Create a figure with all three plots.\n",
    "Add suitable labels and titles."
   ]
  },
  {
   "cell_type": "code",
   "execution_count": null,
   "metadata": {},
   "outputs": [],
   "source": []
  },
  {
   "cell_type": "markdown",
   "metadata": {},
   "source": [
    "### Part b\n",
    "Draw a bar chart showing the amount of sun in May (column 'may' in 'annual_sunshine_hours.csv') for every year and over this, sharing the same x axis, draw a line plot showing the temperature in May in each year.\n",
    "The two plots each require a different y axis.\n",
    "If you search online for how to do this you should soon find that the Axes method `twinx()` is needed. \n",
    "Look for examples and read the documentation to work out how to use it. \n",
    "Scale the y axis for the two plots so that the temperature line is close to the top of the bars. \n",
    "The aim is to get a visual impression of whether the temperature is higher in years when the amount of sun is greater. \n",
    "Notice that there are fewer sunshine than temperature records. \n",
    "Only plot the years in the range for which both data are available."
   ]
  },
  {
   "cell_type": "code",
   "execution_count": null,
   "metadata": {},
   "outputs": [],
   "source": []
  },
  {
   "cell_type": "markdown",
   "metadata": {},
   "source": [
    "## Exercise 2\n",
    "Now we will explore the data in the file 'life_expectancy_gdp_2011.csv'.\n",
    "This data is taken from [Our World in Data](https://ourworldindata.org/grapher/life-expectancy-vs-gdp-per-capita?tab=chart&stackMode=absolute&country=&region=World) and we will aim to reproduce the plot shown there. \n",
    "Create a scatter plot. \n",
    "Set GDP to be the x axis and life expectancy on the y axis.\n",
    "The x axis should use a log scale. \n",
    "The size of the data points should be proportional to the population of the country.\n",
    "\n",
    "The colour of the points should indicate the continent that the country belongs to. \n",
    "This CSV file does not contain information about the continent, the file 'countryContinent.csv' does.\n",
    "You'll need to match the data from the two files together using the country code column that is present in both. \n",
    "Remember that pandas provides methods to join two DataFrames together using a common column.\n",
    "\n",
    "To further improve your plot:\n",
    "- Create a legend which shows the continent that each color represents. This is challenging. You might find the [examples scatter plots with a legend](https://matplotlib.org/stable/gallery/lines_bars_and_markers/scatter_with_legend.html) are helpful. \n",
    "- Annotate some of the data points with the name of the country using the Axes methos `annotate()` ([see documentation](https://matplotlib.org/stable/api/_as_gen/matplotlib.axes.Axes.annotate.html?highlight=annotate#matplotlib.axes.Axes.annotate)). For example, you might annotate all countries with a population greater than 50 million.  "
   ]
  },
  {
   "cell_type": "code",
   "execution_count": null,
   "metadata": {},
   "outputs": [],
   "source": []
  },
  {
   "cell_type": "markdown",
   "metadata": {},
   "source": [
    "# Solutions to exercises"
   ]
  },
  {
   "cell_type": "markdown",
   "metadata": {},
   "source": [
    "## Exercise 1 solution\n",
    "### Part a solution\n",
    "First import the data. \n",
    "The code here uses pandas but you could import using the CSV library instead.\n",
    "There is one missing piece of data, it's a good idea to replace it with a pandas NA (or numpy NaN) at the beginning."
   ]
  },
  {
   "cell_type": "code",
   "execution_count": null,
   "metadata": {},
   "outputs": [],
   "source": [
    "df = pd.read_csv('annual_temperatures.csv')\n",
    "\n",
    "# fix the bad winter value in the first row\n",
    "df.loc[0,'win'] = pd.NA\n",
    "df['win'] = pd.to_numeric(df['win'],errors='coerce')"
   ]
  },
  {
   "cell_type": "markdown",
   "metadata": {},
   "source": [
    "A function to calculate the rolling average for the annual, winter and summer temperatures."
   ]
  },
  {
   "cell_type": "code",
   "execution_count": null,
   "metadata": {
    "scrolled": false
   },
   "outputs": [],
   "source": [
    "def rolling_average(S, n):\n",
    "    '''\n",
    "    Calculate the rolling average of n items from S\n",
    "\n",
    "            Parameters:\n",
    "                S: A pandas series of numerical data\n",
    "                n: An integer\n",
    "\n",
    "            Returns:\n",
    "                Pandas series of n item rolling average of S\n",
    "    '''\n",
    "    # list to collect averages\n",
    "    # initialise to None for any that can't be calculated\n",
    "    av = [None]*len(S)\n",
    "        \n",
    "    total = 0 # running total of last n items\n",
    "    bad = 0 # keeps track of missing values\n",
    "    \n",
    "    for index, value in S.items(): \n",
    "        # can't do anything with missing values\n",
    "        # can't calculate the next n averages (including this one)\n",
    "        if pd.isna(value):\n",
    "            bad = n-1\n",
    "            continue\n",
    "            \n",
    "        total += value\n",
    "        \n",
    "        # to keep total up to date subtract value from 5 places earlier\n",
    "        if index > 4: \n",
    "            old_val = S[index-5]\n",
    "            # check the value to be subtracted is a number\n",
    "            if pd.notna(old_val):\n",
    "                total -= old_val \n",
    "        \n",
    "        if bad:\n",
    "            bad -= 1 # count down until ok to find average again\n",
    "            continue # can't calculate this average\n",
    "            \n",
    "        if index > 3:\n",
    "            av[index] = total/5 # calculate average and add to list\n",
    "            \n",
    "    return pd.Series(av) \n",
    "\n",
    "df['5_year_average'] = rolling_average(df['ann'], 5)\n",
    "df['5_year_summer'] = rolling_average(df['sum'], 5)\n",
    "df['5_year_winter'] = rolling_average(df['win'], 5)"
   ]
  },
  {
   "cell_type": "markdown",
   "metadata": {},
   "source": [
    "Plotting the data."
   ]
  },
  {
   "cell_type": "code",
   "execution_count": null,
   "metadata": {},
   "outputs": [],
   "source": [
    "fig, axs = plt.subplots(3,1,figsize=(10,10),sharex=True)\n",
    "\n",
    "axs[0].plot('year', 'ann', data=df, lw=3, color='green', alpha=0.3, label='Average annual temperature')\n",
    "axs[0].plot('year', '5_year_average', lw=1.5, data=df, color='green', label='5 year annual average')\n",
    "axs[0].legend(loc='lower right')\n",
    "\n",
    "axs[1].plot('year', 'win', data=df, lw=3, color='blue', alpha=0.3, label='Average winter temperature')\n",
    "axs[1].plot('year', '5_year_winter', data=df, lw=1.5, color='blue', label='5 year winter average')\n",
    "axs[1].legend(loc='lower right')\n",
    "\n",
    "axs[2].plot('year', 'sum', data=df, lw=3, color='red', alpha=0.3, label='Average summer temperature')\n",
    "axs[2].plot('year', '5_year_summer', data=df, lw=1.5, color='red', label='5 year summer average')\n",
    "axs[2].legend(loc='lower right')\n",
    "\n",
    "axs[2].set_xlim(1879, 2021)\n",
    "axs[2].set_xticks(range(1880, 2021, 20))\n",
    "axs[2].set_xlabel('year')\n",
    "\n",
    "axs[0].set_title('Annual')\n",
    "axs[1].set_title('Winter')\n",
    "axs[2].set_title('Summer')\n",
    "\n",
    "axs[0].set_ylabel('temp')\n",
    "axs[1].set_ylabel('temp')\n",
    "axs[2].set_ylabel('temp')\n",
    "\n",
    "fig.suptitle('Change in UK Temperature Over Time')\n",
    "\n",
    "plt.tight_layout()\n"
   ]
  },
  {
   "cell_type": "markdown",
   "metadata": {},
   "source": [
    "### Part b solution\n",
    "First gather together the relevant data.\n",
    "Using an inner join only keeps the years which have entries in both DataFrames. "
   ]
  },
  {
   "cell_type": "code",
   "execution_count": null,
   "metadata": {},
   "outputs": [],
   "source": [
    "df_temp = pd.read_csv('annual_temperatures.csv')\n",
    "df_sun = pd.read_csv('annual_sunshine_hours.csv')\n",
    "\n",
    "df_temp.rename(columns={'may': 'may_temp'}, inplace=True)\n",
    "df_sun.rename(columns={'may': 'may_sun'}, inplace=True)\n",
    "\n",
    "df_comb = pd.merge(df_temp[['year','may_temp']], df_sun[['year','may_sun']], on='year', how='inner')"
   ]
  },
  {
   "cell_type": "code",
   "execution_count": null,
   "metadata": {},
   "outputs": [],
   "source": [
    "fig, ax = plt.subplots(1,1,figsize=(14,6))\n",
    "\n",
    "ax.bar('year', 'may_sun', data=df_comb, label='Total sunshine hours', color='skyblue', alpha=0.8)\n",
    "\n",
    "ax2 = ax.twinx() # create a second Axes sharing the x axis of ax\n",
    "ax2.plot('year', 'may_temp', data=df_comb, label='Average temperature', color='red', alpha=0.3, lw=3)\n",
    "\n",
    "ax.set_xlim(1918, 2021)\n",
    "\n",
    "# set the limits of each y axis so that the bars and line are roughly aligned\n",
    "ax.set_ylim(40, 310)\n",
    "ax2.set_ylim(7.5, 12.5)\n",
    "\n",
    "ax.set_yticks(range(50, 310, 50))\n",
    "\n",
    "# add titles and labels\n",
    "fig.suptitle('May Sunshine vs Temperature')\n",
    "fig.legend(bbox_to_anchor=[0.22,0.9]) # fine control over placement of figure legend\n",
    "ax.set_ylabel('hours')\n",
    "ax2.set_ylabel('temp')\n",
    "ax.set_xlabel('year')\n",
    "\n",
    "fig.tight_layout()"
   ]
  },
  {
   "cell_type": "markdown",
   "metadata": {},
   "source": [
    "## Exercise 2 solution\n",
    "Read in the two files and merge them."
   ]
  },
  {
   "cell_type": "code",
   "execution_count": null,
   "metadata": {},
   "outputs": [],
   "source": [
    "df = pd.read_csv('life_expectancy_gdp_2011.csv')\n",
    "df_countries = pd.read_csv('Continents.csv')\n",
    "df_countries.rename(columns={'code_3':'Code'}, inplace=True)\n",
    "\n",
    "df_comb = pd.merge(df, df_countries[['Code', 'country', 'continent']], on='Code', how='inner')\n",
    "\n",
    "# to help plot sizes proportional to population\n",
    "df_comb['Population millions'] = df_comb['Population']/1000000\n",
    "\n",
    "df_comb.head()"
   ]
  },
  {
   "cell_type": "markdown",
   "metadata": {},
   "source": [
    "We need to select colors depending on the continent.\n",
    "The scatter method color parameter accepts a list of colors or a list of numbers."
   ]
  },
  {
   "cell_type": "code",
   "execution_count": null,
   "metadata": {},
   "outputs": [],
   "source": [
    "# check what values exist for continent\n",
    "df_comb['continent'].unique()"
   ]
  },
  {
   "cell_type": "code",
   "execution_count": null,
   "metadata": {},
   "outputs": [],
   "source": [
    "color_dict = {'Africa':1, 'Americas':2, 'Asia':3, 'Europe':4, 'Oceania':5}\n",
    "\n",
    "df_comb['color'] = pd.NA # default value\n",
    "for l, data in df_comb.iterrows():\n",
    "    df_comb.loc[l,'color'] = color_dict[data['continent']]\n",
    "    \n",
    "df_comb.head()"
   ]
  },
  {
   "cell_type": "markdown",
   "metadata": {},
   "source": [
    "Manual check that the merge has worked - check for entries where country names from the different DataFrames do not match. "
   ]
  },
  {
   "cell_type": "code",
   "execution_count": null,
   "metadata": {
    "scrolled": true
   },
   "outputs": [],
   "source": [
    "df_comb[df_comb['country']!= df_comb['Entity']]"
   ]
  },
  {
   "cell_type": "code",
   "execution_count": null,
   "metadata": {},
   "outputs": [],
   "source": [
    "fig, ax = plt.subplots(figsize=(20,10))\n",
    "\n",
    "ax.set_xlim(500, 100000)\n",
    "ax.set_xscale('log')\n",
    "ax.set_xlabel('GDP per capita in 2011US$ (log scale)')\n",
    "ax.set_ylabel('Life expectancy')\n",
    "ax.set_title('GDP vs Life Expectancy')\n",
    "\n",
    "scatter_plot = ax.scatter(\n",
    "    'GDP per capita in 2011US$', \n",
    "    'Life expectancy', \n",
    "    data = df_comb, \n",
    "    s='Population millions',\n",
    "    c='color',\n",
    "    alpha=0.7,\n",
    "    cmap='rainbow'\n",
    ")\n",
    "\n",
    "# legend - get handles for each of the different colored data points\n",
    "handles, labels = scatter_plot.legend_elements(prop='colors')\n",
    "# add the legend using the dictionary keys as the labels\n",
    "ax.legend(handles, color_dict.keys(), loc='lower right', title='Continent')\n",
    "\n",
    "# add annotations for larger countries.\n",
    "for l, data in df_comb.iterrows():\n",
    "    if data['Population'] > 50000000:\n",
    "        ax.annotate(\n",
    "            data['Entity'], \n",
    "            (data['GDP per capita in 2011US$'], data['Life expectancy'])\n",
    "        )"
   ]
  },
  {
   "cell_type": "markdown",
   "metadata": {},
   "source": [
    "### Exercise 2: Alternative solution\n",
    "This method has a different way of managing the colors which leads to a different method for creating the legend. "
   ]
  },
  {
   "cell_type": "code",
   "execution_count": null,
   "metadata": {},
   "outputs": [],
   "source": [
    "df = pd.read_csv('life_expectancy_gdp_2011.csv')\n",
    "df_countries = pd.read_csv('Continents.csv')\n",
    "df_countries.rename(columns={'code_3':'Code'}, inplace=True)\n",
    "\n",
    "df_comb = pd.merge(df, df_countries[['Code', 'country', 'continent']], on='Code', how='inner')\n",
    "\n",
    "df_comb['Population millions'] = df_comb['Population']/1000000\n",
    "\n",
    "# directly specify a color for each continent\n",
    "color_dict = {'Africa':'purple', 'Americas':'orange', 'Asia':'green', 'Europe':'blue', 'Oceania':'red'}"
   ]
  },
  {
   "cell_type": "code",
   "execution_count": null,
   "metadata": {},
   "outputs": [],
   "source": [
    "fig, ax = plt.subplots(figsize=(20,10))\n",
    "\n",
    "ax.set_xlim(500, 100000)\n",
    "ax.set_xscale('log')\n",
    "ax.set_xlabel('GDP per capita in 2011US$ (log scale)')\n",
    "ax.set_ylabel('Life expectancy')\n",
    "ax.set_title('GDP vs Life Expectancy')\n",
    "\n",
    "# plot each continent separately\n",
    "for cont, col in color_dict.items():\n",
    "    num = len(df_comb[df_comb['continent']==cont]) # number of data items\n",
    "    colors = [col]*num # list of the chosen color, length equal to number of data items\n",
    "    \n",
    "    ax.scatter(\n",
    "        'GDP per capita in 2011US$', \n",
    "        'Life expectancy', \n",
    "        data = df_comb[df_comb['continent']==cont], \n",
    "        s='Population millions',\n",
    "        label=cont,\n",
    "        c=colors,\n",
    "        alpha=0.6\n",
    "    )\n",
    "\n",
    "# create the legend\n",
    "leg = ax.legend(title='Continent',loc='lower right') \n",
    "\n",
    "# this is needed so that the icons in the legend all have the same size\n",
    "# discussion at https://stackoverflow.com/questions/24706125/setting-a-fixed-size-for-points-in-legend\n",
    "for handle in leg.legendHandles:\n",
    "    handle.set_sizes([30])\n",
    "\n",
    "# annotations\n",
    "for l, data in df_comb.iterrows():\n",
    "    if data['Population'] > 50000000:\n",
    "        ax.annotate(\n",
    "            data['Entity'], \n",
    "            (data['GDP per capita in 2011US$'], data['Life expectancy'])\n",
    "        )"
   ]
  },
  {
   "cell_type": "code",
   "execution_count": null,
   "metadata": {},
   "outputs": [],
   "source": []
  }
 ],
 "metadata": {
  "kernelspec": {
   "display_name": "Python 3",
   "language": "python",
   "name": "python3"
  },
  "language_info": {
   "codemirror_mode": {
    "name": "ipython",
    "version": 3
   },
   "file_extension": ".py",
   "mimetype": "text/x-python",
   "name": "python",
   "nbconvert_exporter": "python",
   "pygments_lexer": "ipython3",
   "version": "3.7.6"
  }
 },
 "nbformat": 4,
 "nbformat_minor": 4
}
