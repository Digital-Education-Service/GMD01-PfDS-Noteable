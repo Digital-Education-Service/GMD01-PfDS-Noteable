{
 "cells": [
  {
   "cell_type": "markdown",
   "metadata": {},
   "source": [
    "# Working with DataFrames\n",
    "\n",
    "Having seen how to create a DataFrame with pandas we now look at some ways to manipulate and modify a DataFrame.\n",
    "\n",
    "Remember that we need to import pandas.\n",
    "We also create a DataFrame to work with. "
   ]
  },
  {
   "cell_type": "code",
   "execution_count": 1,
   "metadata": {},
   "outputs": [
    {
     "data": {
      "text/html": [
       "<div>\n",
       "<style scoped>\n",
       "    .dataframe tbody tr th:only-of-type {\n",
       "        vertical-align: middle;\n",
       "    }\n",
       "\n",
       "    .dataframe tbody tr th {\n",
       "        vertical-align: top;\n",
       "    }\n",
       "\n",
       "    .dataframe thead th {\n",
       "        text-align: right;\n",
       "    }\n",
       "</style>\n",
       "<table border=\"1\" class=\"dataframe\">\n",
       "  <thead>\n",
       "    <tr style=\"text-align: right;\">\n",
       "      <th></th>\n",
       "      <th>title</th>\n",
       "      <th>author</th>\n",
       "      <th>price</th>\n",
       "    </tr>\n",
       "  </thead>\n",
       "  <tbody>\n",
       "    <tr>\n",
       "      <th>0</th>\n",
       "      <td>Tangled Web</td>\n",
       "      <td>Eric Mead</td>\n",
       "      <td>40.00</td>\n",
       "    </tr>\n",
       "    <tr>\n",
       "      <th>1</th>\n",
       "      <td>Close Up</td>\n",
       "      <td>David Stone</td>\n",
       "      <td>23.10</td>\n",
       "    </tr>\n",
       "    <tr>\n",
       "      <th>2</th>\n",
       "      <td>Foundations</td>\n",
       "      <td>Eberhard Riese</td>\n",
       "      <td>70.00</td>\n",
       "    </tr>\n",
       "    <tr>\n",
       "      <th>3</th>\n",
       "      <td>Professional Secrets</td>\n",
       "      <td>Geoffrey Durham</td>\n",
       "      <td>295.00</td>\n",
       "    </tr>\n",
       "    <tr>\n",
       "      <th>4</th>\n",
       "      <td>5 Times 5</td>\n",
       "      <td>Richard Kaufman</td>\n",
       "      <td>34.65</td>\n",
       "    </tr>\n",
       "  </tbody>\n",
       "</table>\n",
       "</div>"
      ],
      "text/plain": [
       "                  title           author   price\n",
       "0           Tangled Web        Eric Mead   40.00\n",
       "1              Close Up      David Stone   23.10\n",
       "2           Foundations   Eberhard Riese   70.00\n",
       "3  Professional Secrets  Geoffrey Durham  295.00\n",
       "4             5 Times 5  Richard Kaufman   34.65"
      ]
     },
     "execution_count": 1,
     "metadata": {},
     "output_type": "execute_result"
    }
   ],
   "source": [
    "import pandas as pd\n",
    "\n",
    "df = pd.DataFrame({\n",
    "    \"title\": [\"Tangled Web\",\n",
    "              \"Close Up\",\n",
    "              \"Foundations\",\n",
    "              \"Professional Secrets\",\n",
    "              \"5 Times 5\"],\n",
    "    \"author\": [\"Eric Mead\",\n",
    "               \"David Stone\",\n",
    "               \"Eberhard Riese\",\n",
    "               \"Geoffrey Durham\",\n",
    "               \"Richard Kaufman\"],\n",
    "    \"price\": [40, 23.1, 70, 295, 34.65]\n",
    "})\n",
    "\n",
    "df"
   ]
  },
  {
   "cell_type": "markdown",
   "metadata": {},
   "source": [
    "## Add a New Row or Colulmn to a DataFrame\n",
    "A row in a DataFrame is a `Series` so we first create a new pandas Series.\n",
    "The new data can be passed in to the constructor as a dictionary or as a list (as with a DataFrame).\n",
    "If the data is given as a list then we need to use the optional ``index`` parameter to specify which column each member of the list refers to. \n",
    "Both methods are shown below. Both achieve the same thing. Which one to use depends entirely on the form that your data is in, it is simply a matter of convenience. \n",
    "\n",
    "To insert the new row use the `append()` method on the existing DataFrame.\n",
    "Our DataFrame was given row numbers automatically. \n",
    "Setting the optional parameter `ignore_index` to `True` will allow this automatic numbering to continue.\n",
    "If the rows required different labels then the parameter `name` may be set when constructing the Series. \n",
    "The value of this parameter will become the row label when the Series is added to the DataFrame. \n",
    "\n",
    "The `append()` method does *not* modify the original DataFrame but returns a new one.\n",
    "The new DataFrame can be assigned to the existing variable if you do not want to keep the original DataFrame, otherwise assign it to a new variable."
   ]
  },
  {
   "cell_type": "code",
   "execution_count": 2,
   "metadata": {},
   "outputs": [
    {
     "data": {
      "text/html": [
       "<div>\n",
       "<style scoped>\n",
       "    .dataframe tbody tr th:only-of-type {\n",
       "        vertical-align: middle;\n",
       "    }\n",
       "\n",
       "    .dataframe tbody tr th {\n",
       "        vertical-align: top;\n",
       "    }\n",
       "\n",
       "    .dataframe thead th {\n",
       "        text-align: right;\n",
       "    }\n",
       "</style>\n",
       "<table border=\"1\" class=\"dataframe\">\n",
       "  <thead>\n",
       "    <tr style=\"text-align: right;\">\n",
       "      <th></th>\n",
       "      <th>title</th>\n",
       "      <th>author</th>\n",
       "      <th>price</th>\n",
       "    </tr>\n",
       "  </thead>\n",
       "  <tbody>\n",
       "    <tr>\n",
       "      <th>0</th>\n",
       "      <td>Tangled Web</td>\n",
       "      <td>Eric Mead</td>\n",
       "      <td>40.00</td>\n",
       "    </tr>\n",
       "    <tr>\n",
       "      <th>1</th>\n",
       "      <td>Close Up</td>\n",
       "      <td>David Stone</td>\n",
       "      <td>23.10</td>\n",
       "    </tr>\n",
       "    <tr>\n",
       "      <th>2</th>\n",
       "      <td>Foundations</td>\n",
       "      <td>Eberhard Riese</td>\n",
       "      <td>70.00</td>\n",
       "    </tr>\n",
       "    <tr>\n",
       "      <th>3</th>\n",
       "      <td>Professional Secrets</td>\n",
       "      <td>Geoffrey Durham</td>\n",
       "      <td>295.00</td>\n",
       "    </tr>\n",
       "    <tr>\n",
       "      <th>4</th>\n",
       "      <td>5 Times 5</td>\n",
       "      <td>Richard Kaufman</td>\n",
       "      <td>34.65</td>\n",
       "    </tr>\n",
       "    <tr>\n",
       "      <th>5</th>\n",
       "      <td>The Spirit of the Quakers</td>\n",
       "      <td>Geoffrey Durham</td>\n",
       "      <td>9.43</td>\n",
       "    </tr>\n",
       "    <tr>\n",
       "      <th>6</th>\n",
       "      <td>What do Quakers Believe?</td>\n",
       "      <td>Geoffrey Durham</td>\n",
       "      <td>5.94</td>\n",
       "    </tr>\n",
       "  </tbody>\n",
       "</table>\n",
       "</div>"
      ],
      "text/plain": [
       "                       title           author   price\n",
       "0                Tangled Web        Eric Mead   40.00\n",
       "1                   Close Up      David Stone   23.10\n",
       "2                Foundations   Eberhard Riese   70.00\n",
       "3       Professional Secrets  Geoffrey Durham  295.00\n",
       "4                  5 Times 5  Richard Kaufman   34.65\n",
       "5  The Spirit of the Quakers  Geoffrey Durham    9.43\n",
       "6   What do Quakers Believe?  Geoffrey Durham    5.94"
      ]
     },
     "execution_count": 2,
     "metadata": {},
     "output_type": "execute_result"
    }
   ],
   "source": [
    "spirit = pd.Series({\"title\" :\"The Spirit of the Quakers\", \"author\": \"Geoffrey Durham\", \"price\": 9.43})\n",
    "df = df.append(spirit, ignore_index=True)\n",
    "\n",
    "believe = pd.Series([\"What do Quakers Believe?\",\"Geoffrey Durham\", 5.94], index=df.columns)\n",
    "df = df.append(believe, ignore_index=True)\n",
    "\n",
    "df"
   ]
  },
  {
   "cell_type": "markdown",
   "metadata": {},
   "source": [
    "To delete a row use the method ``drop()``, passing in a list of row labels to the parameter ``index``.\n",
    "```\n",
    "drop(index=[<row labels>])\n",
    "```\n",
    "This returns a new DataFrame. \n",
    "In order to use it later you would need to assign it to a new variable, `drop()` does *not* modify the original DataFrame.\n",
    "Notice also that the rest of the row labels do not change."
   ]
  },
  {
   "cell_type": "code",
   "execution_count": 3,
   "metadata": {},
   "outputs": [
    {
     "data": {
      "text/html": [
       "<div>\n",
       "<style scoped>\n",
       "    .dataframe tbody tr th:only-of-type {\n",
       "        vertical-align: middle;\n",
       "    }\n",
       "\n",
       "    .dataframe tbody tr th {\n",
       "        vertical-align: top;\n",
       "    }\n",
       "\n",
       "    .dataframe thead th {\n",
       "        text-align: right;\n",
       "    }\n",
       "</style>\n",
       "<table border=\"1\" class=\"dataframe\">\n",
       "  <thead>\n",
       "    <tr style=\"text-align: right;\">\n",
       "      <th></th>\n",
       "      <th>title</th>\n",
       "      <th>author</th>\n",
       "      <th>price</th>\n",
       "    </tr>\n",
       "  </thead>\n",
       "  <tbody>\n",
       "    <tr>\n",
       "      <th>0</th>\n",
       "      <td>Tangled Web</td>\n",
       "      <td>Eric Mead</td>\n",
       "      <td>40.00</td>\n",
       "    </tr>\n",
       "    <tr>\n",
       "      <th>1</th>\n",
       "      <td>Close Up</td>\n",
       "      <td>David Stone</td>\n",
       "      <td>23.10</td>\n",
       "    </tr>\n",
       "    <tr>\n",
       "      <th>4</th>\n",
       "      <td>5 Times 5</td>\n",
       "      <td>Richard Kaufman</td>\n",
       "      <td>34.65</td>\n",
       "    </tr>\n",
       "    <tr>\n",
       "      <th>5</th>\n",
       "      <td>The Spirit of the Quakers</td>\n",
       "      <td>Geoffrey Durham</td>\n",
       "      <td>9.43</td>\n",
       "    </tr>\n",
       "    <tr>\n",
       "      <th>6</th>\n",
       "      <td>What do Quakers Believe?</td>\n",
       "      <td>Geoffrey Durham</td>\n",
       "      <td>5.94</td>\n",
       "    </tr>\n",
       "  </tbody>\n",
       "</table>\n",
       "</div>"
      ],
      "text/plain": [
       "                       title           author  price\n",
       "0                Tangled Web        Eric Mead  40.00\n",
       "1                   Close Up      David Stone  23.10\n",
       "4                  5 Times 5  Richard Kaufman  34.65\n",
       "5  The Spirit of the Quakers  Geoffrey Durham   9.43\n",
       "6   What do Quakers Believe?  Geoffrey Durham   5.94"
      ]
     },
     "execution_count": 3,
     "metadata": {},
     "output_type": "execute_result"
    }
   ],
   "source": [
    "df.drop(index = [2,3])"
   ]
  },
  {
   "cell_type": "markdown",
   "metadata": {},
   "source": [
    "Let's add a column with a rating for each book. \n",
    "A column of a DataFrame is also a pandas Series, which we can create from a list.\n",
    "Adding the Series to the DataFrame uses similar syntax to extending a dictionary. \n",
    "Specify the name of the column in the DataFrame and assign the Series to it.\n",
    "Of course, if an existing column name is specified then this column will be overwritten, so take care! "
   ]
  },
  {
   "cell_type": "code",
   "execution_count": 4,
   "metadata": {},
   "outputs": [
    {
     "data": {
      "text/html": [
       "<div>\n",
       "<style scoped>\n",
       "    .dataframe tbody tr th:only-of-type {\n",
       "        vertical-align: middle;\n",
       "    }\n",
       "\n",
       "    .dataframe tbody tr th {\n",
       "        vertical-align: top;\n",
       "    }\n",
       "\n",
       "    .dataframe thead th {\n",
       "        text-align: right;\n",
       "    }\n",
       "</style>\n",
       "<table border=\"1\" class=\"dataframe\">\n",
       "  <thead>\n",
       "    <tr style=\"text-align: right;\">\n",
       "      <th></th>\n",
       "      <th>title</th>\n",
       "      <th>author</th>\n",
       "      <th>price</th>\n",
       "      <th>ratting</th>\n",
       "    </tr>\n",
       "  </thead>\n",
       "  <tbody>\n",
       "    <tr>\n",
       "      <th>0</th>\n",
       "      <td>Tangled Web</td>\n",
       "      <td>Eric Mead</td>\n",
       "      <td>40.00</td>\n",
       "      <td>4.5</td>\n",
       "    </tr>\n",
       "    <tr>\n",
       "      <th>1</th>\n",
       "      <td>Close Up</td>\n",
       "      <td>David Stone</td>\n",
       "      <td>23.10</td>\n",
       "      <td>3.7</td>\n",
       "    </tr>\n",
       "    <tr>\n",
       "      <th>2</th>\n",
       "      <td>Foundations</td>\n",
       "      <td>Eberhard Riese</td>\n",
       "      <td>70.00</td>\n",
       "      <td>3.8</td>\n",
       "    </tr>\n",
       "    <tr>\n",
       "      <th>3</th>\n",
       "      <td>Professional Secrets</td>\n",
       "      <td>Geoffrey Durham</td>\n",
       "      <td>295.00</td>\n",
       "      <td>4.9</td>\n",
       "    </tr>\n",
       "    <tr>\n",
       "      <th>4</th>\n",
       "      <td>5 Times 5</td>\n",
       "      <td>Richard Kaufman</td>\n",
       "      <td>34.65</td>\n",
       "      <td>4.0</td>\n",
       "    </tr>\n",
       "    <tr>\n",
       "      <th>5</th>\n",
       "      <td>The Spirit of the Quakers</td>\n",
       "      <td>Geoffrey Durham</td>\n",
       "      <td>9.43</td>\n",
       "      <td>3.1</td>\n",
       "    </tr>\n",
       "    <tr>\n",
       "      <th>6</th>\n",
       "      <td>What do Quakers Believe?</td>\n",
       "      <td>Geoffrey Durham</td>\n",
       "      <td>5.94</td>\n",
       "      <td>3.4</td>\n",
       "    </tr>\n",
       "  </tbody>\n",
       "</table>\n",
       "</div>"
      ],
      "text/plain": [
       "                       title           author   price  ratting\n",
       "0                Tangled Web        Eric Mead   40.00      4.5\n",
       "1                   Close Up      David Stone   23.10      3.7\n",
       "2                Foundations   Eberhard Riese   70.00      3.8\n",
       "3       Professional Secrets  Geoffrey Durham  295.00      4.9\n",
       "4                  5 Times 5  Richard Kaufman   34.65      4.0\n",
       "5  The Spirit of the Quakers  Geoffrey Durham    9.43      3.1\n",
       "6   What do Quakers Believe?  Geoffrey Durham    5.94      3.4"
      ]
     },
     "execution_count": 4,
     "metadata": {},
     "output_type": "execute_result"
    }
   ],
   "source": [
    "rating = pd.Series([4.5, 3.7, 3.8, 4.9, 4.0, 3.1, 3.4])\n",
    "\n",
    "df['ratting'] = rating\n",
    "\n",
    "df"
   ]
  },
  {
   "cell_type": "markdown",
   "metadata": {},
   "source": [
    "To add a new column with the same value for every row there is an even simpler method:"
   ]
  },
  {
   "cell_type": "code",
   "execution_count": 5,
   "metadata": {},
   "outputs": [
    {
     "data": {
      "text/html": [
       "<div>\n",
       "<style scoped>\n",
       "    .dataframe tbody tr th:only-of-type {\n",
       "        vertical-align: middle;\n",
       "    }\n",
       "\n",
       "    .dataframe tbody tr th {\n",
       "        vertical-align: top;\n",
       "    }\n",
       "\n",
       "    .dataframe thead th {\n",
       "        text-align: right;\n",
       "    }\n",
       "</style>\n",
       "<table border=\"1\" class=\"dataframe\">\n",
       "  <thead>\n",
       "    <tr style=\"text-align: right;\">\n",
       "      <th></th>\n",
       "      <th>title</th>\n",
       "      <th>author</th>\n",
       "      <th>price</th>\n",
       "      <th>ratting</th>\n",
       "      <th>new column</th>\n",
       "    </tr>\n",
       "  </thead>\n",
       "  <tbody>\n",
       "    <tr>\n",
       "      <th>0</th>\n",
       "      <td>Tangled Web</td>\n",
       "      <td>Eric Mead</td>\n",
       "      <td>40.00</td>\n",
       "      <td>4.5</td>\n",
       "      <td>15</td>\n",
       "    </tr>\n",
       "    <tr>\n",
       "      <th>1</th>\n",
       "      <td>Close Up</td>\n",
       "      <td>David Stone</td>\n",
       "      <td>23.10</td>\n",
       "      <td>3.7</td>\n",
       "      <td>15</td>\n",
       "    </tr>\n",
       "    <tr>\n",
       "      <th>2</th>\n",
       "      <td>Foundations</td>\n",
       "      <td>Eberhard Riese</td>\n",
       "      <td>70.00</td>\n",
       "      <td>3.8</td>\n",
       "      <td>15</td>\n",
       "    </tr>\n",
       "    <tr>\n",
       "      <th>3</th>\n",
       "      <td>Professional Secrets</td>\n",
       "      <td>Geoffrey Durham</td>\n",
       "      <td>295.00</td>\n",
       "      <td>4.9</td>\n",
       "      <td>15</td>\n",
       "    </tr>\n",
       "    <tr>\n",
       "      <th>4</th>\n",
       "      <td>5 Times 5</td>\n",
       "      <td>Richard Kaufman</td>\n",
       "      <td>34.65</td>\n",
       "      <td>4.0</td>\n",
       "      <td>15</td>\n",
       "    </tr>\n",
       "    <tr>\n",
       "      <th>5</th>\n",
       "      <td>The Spirit of the Quakers</td>\n",
       "      <td>Geoffrey Durham</td>\n",
       "      <td>9.43</td>\n",
       "      <td>3.1</td>\n",
       "      <td>15</td>\n",
       "    </tr>\n",
       "    <tr>\n",
       "      <th>6</th>\n",
       "      <td>What do Quakers Believe?</td>\n",
       "      <td>Geoffrey Durham</td>\n",
       "      <td>5.94</td>\n",
       "      <td>3.4</td>\n",
       "      <td>15</td>\n",
       "    </tr>\n",
       "  </tbody>\n",
       "</table>\n",
       "</div>"
      ],
      "text/plain": [
       "                       title           author   price  ratting  new column\n",
       "0                Tangled Web        Eric Mead   40.00      4.5          15\n",
       "1                   Close Up      David Stone   23.10      3.7          15\n",
       "2                Foundations   Eberhard Riese   70.00      3.8          15\n",
       "3       Professional Secrets  Geoffrey Durham  295.00      4.9          15\n",
       "4                  5 Times 5  Richard Kaufman   34.65      4.0          15\n",
       "5  The Spirit of the Quakers  Geoffrey Durham    9.43      3.1          15\n",
       "6   What do Quakers Believe?  Geoffrey Durham    5.94      3.4          15"
      ]
     },
     "execution_count": 5,
     "metadata": {},
     "output_type": "execute_result"
    }
   ],
   "source": [
    "df['new column'] = 15\n",
    "\n",
    "df"
   ]
  },
  {
   "cell_type": "markdown",
   "metadata": {},
   "source": [
    "Using this method always adds the new column at the end. To add a new column somewhere in the middle of the DataFrame use ``insert()`` instead and specify the numerical position that the new column should be in using the ``loc`` parameter. The name of the column is given in the ``column`` parameter. If a column with the same name exists this will cause an error. To allow a new column with the same name as an existing column use the optional parameter ``allow_duplicates`` with the value ``True``. "
   ]
  },
  {
   "cell_type": "code",
   "execution_count": 6,
   "metadata": {},
   "outputs": [
    {
     "data": {
      "text/html": [
       "<div>\n",
       "<style scoped>\n",
       "    .dataframe tbody tr th:only-of-type {\n",
       "        vertical-align: middle;\n",
       "    }\n",
       "\n",
       "    .dataframe tbody tr th {\n",
       "        vertical-align: top;\n",
       "    }\n",
       "\n",
       "    .dataframe thead th {\n",
       "        text-align: right;\n",
       "    }\n",
       "</style>\n",
       "<table border=\"1\" class=\"dataframe\">\n",
       "  <thead>\n",
       "    <tr style=\"text-align: right;\">\n",
       "      <th></th>\n",
       "      <th>title</th>\n",
       "      <th>sub-title</th>\n",
       "      <th>author</th>\n",
       "      <th>price</th>\n",
       "      <th>ratting</th>\n",
       "      <th>new column</th>\n",
       "    </tr>\n",
       "  </thead>\n",
       "  <tbody>\n",
       "    <tr>\n",
       "      <th>0</th>\n",
       "      <td>Tangled Web</td>\n",
       "      <td>Everything you need to know about magic</td>\n",
       "      <td>Eric Mead</td>\n",
       "      <td>40.00</td>\n",
       "      <td>4.5</td>\n",
       "      <td>15</td>\n",
       "    </tr>\n",
       "    <tr>\n",
       "      <th>1</th>\n",
       "      <td>Close Up</td>\n",
       "      <td>Everything you need to know about magic</td>\n",
       "      <td>David Stone</td>\n",
       "      <td>23.10</td>\n",
       "      <td>3.7</td>\n",
       "      <td>15</td>\n",
       "    </tr>\n",
       "    <tr>\n",
       "      <th>2</th>\n",
       "      <td>Foundations</td>\n",
       "      <td>Everything you need to know about magic</td>\n",
       "      <td>Eberhard Riese</td>\n",
       "      <td>70.00</td>\n",
       "      <td>3.8</td>\n",
       "      <td>15</td>\n",
       "    </tr>\n",
       "    <tr>\n",
       "      <th>3</th>\n",
       "      <td>Professional Secrets</td>\n",
       "      <td>Everything you need to know about magic</td>\n",
       "      <td>Geoffrey Durham</td>\n",
       "      <td>295.00</td>\n",
       "      <td>4.9</td>\n",
       "      <td>15</td>\n",
       "    </tr>\n",
       "    <tr>\n",
       "      <th>4</th>\n",
       "      <td>5 Times 5</td>\n",
       "      <td>Everything you need to know about magic</td>\n",
       "      <td>Richard Kaufman</td>\n",
       "      <td>34.65</td>\n",
       "      <td>4.0</td>\n",
       "      <td>15</td>\n",
       "    </tr>\n",
       "    <tr>\n",
       "      <th>5</th>\n",
       "      <td>The Spirit of the Quakers</td>\n",
       "      <td>Everything you need to know about Quakers</td>\n",
       "      <td>Geoffrey Durham</td>\n",
       "      <td>9.43</td>\n",
       "      <td>3.1</td>\n",
       "      <td>15</td>\n",
       "    </tr>\n",
       "    <tr>\n",
       "      <th>6</th>\n",
       "      <td>What do Quakers Believe?</td>\n",
       "      <td>Everything you need to know about Quakers</td>\n",
       "      <td>Geoffrey Durham</td>\n",
       "      <td>5.94</td>\n",
       "      <td>3.4</td>\n",
       "      <td>15</td>\n",
       "    </tr>\n",
       "  </tbody>\n",
       "</table>\n",
       "</div>"
      ],
      "text/plain": [
       "                       title                                  sub-title  \\\n",
       "0                Tangled Web    Everything you need to know about magic   \n",
       "1                   Close Up    Everything you need to know about magic   \n",
       "2                Foundations    Everything you need to know about magic   \n",
       "3       Professional Secrets    Everything you need to know about magic   \n",
       "4                  5 Times 5    Everything you need to know about magic   \n",
       "5  The Spirit of the Quakers  Everything you need to know about Quakers   \n",
       "6   What do Quakers Believe?  Everything you need to know about Quakers   \n",
       "\n",
       "            author   price  ratting  new column  \n",
       "0        Eric Mead   40.00      4.5          15  \n",
       "1      David Stone   23.10      3.7          15  \n",
       "2   Eberhard Riese   70.00      3.8          15  \n",
       "3  Geoffrey Durham  295.00      4.9          15  \n",
       "4  Richard Kaufman   34.65      4.0          15  \n",
       "5  Geoffrey Durham    9.43      3.1          15  \n",
       "6  Geoffrey Durham    5.94      3.4          15  "
      ]
     },
     "execution_count": 6,
     "metadata": {},
     "output_type": "execute_result"
    }
   ],
   "source": [
    "subtitles = ['Everything you need to know about magic']*5+['Everything you need to know about Quakers']*2\n",
    "df.insert(loc=1, column='sub-title', value=subtitles)\n",
    "\n",
    "df"
   ]
  },
  {
   "cell_type": "markdown",
   "metadata": {},
   "source": [
    "Those two newest columns are not really very useful so let's delete them again. The ``drop()`` function works for deleting columns as well as rows, just specify the ``columns`` parameter instead of the ``index`` parameter. Recall that ``drop()`` does not modify the original DataFrame but returns a new one.\n",
    "The returned DataFrame can be assigned to the existing variable to overwrite it or we can use the optional ``inplace`` parameter to tell Pandas that we want to change the original DataFrame.\n",
    "An ``inplace`` optional parameter is available on several DataFrames methods which return a new DataFrame by default. Just check the documentation for the method you want to use if you're not sure. "
   ]
  },
  {
   "cell_type": "code",
   "execution_count": 7,
   "metadata": {},
   "outputs": [
    {
     "data": {
      "text/html": [
       "<div>\n",
       "<style scoped>\n",
       "    .dataframe tbody tr th:only-of-type {\n",
       "        vertical-align: middle;\n",
       "    }\n",
       "\n",
       "    .dataframe tbody tr th {\n",
       "        vertical-align: top;\n",
       "    }\n",
       "\n",
       "    .dataframe thead th {\n",
       "        text-align: right;\n",
       "    }\n",
       "</style>\n",
       "<table border=\"1\" class=\"dataframe\">\n",
       "  <thead>\n",
       "    <tr style=\"text-align: right;\">\n",
       "      <th></th>\n",
       "      <th>title</th>\n",
       "      <th>author</th>\n",
       "      <th>price</th>\n",
       "      <th>ratting</th>\n",
       "    </tr>\n",
       "  </thead>\n",
       "  <tbody>\n",
       "    <tr>\n",
       "      <th>0</th>\n",
       "      <td>Tangled Web</td>\n",
       "      <td>Eric Mead</td>\n",
       "      <td>40.00</td>\n",
       "      <td>4.5</td>\n",
       "    </tr>\n",
       "    <tr>\n",
       "      <th>1</th>\n",
       "      <td>Close Up</td>\n",
       "      <td>David Stone</td>\n",
       "      <td>23.10</td>\n",
       "      <td>3.7</td>\n",
       "    </tr>\n",
       "    <tr>\n",
       "      <th>2</th>\n",
       "      <td>Foundations</td>\n",
       "      <td>Eberhard Riese</td>\n",
       "      <td>70.00</td>\n",
       "      <td>3.8</td>\n",
       "    </tr>\n",
       "    <tr>\n",
       "      <th>3</th>\n",
       "      <td>Professional Secrets</td>\n",
       "      <td>Geoffrey Durham</td>\n",
       "      <td>295.00</td>\n",
       "      <td>4.9</td>\n",
       "    </tr>\n",
       "    <tr>\n",
       "      <th>4</th>\n",
       "      <td>5 Times 5</td>\n",
       "      <td>Richard Kaufman</td>\n",
       "      <td>34.65</td>\n",
       "      <td>4.0</td>\n",
       "    </tr>\n",
       "    <tr>\n",
       "      <th>5</th>\n",
       "      <td>The Spirit of the Quakers</td>\n",
       "      <td>Geoffrey Durham</td>\n",
       "      <td>9.43</td>\n",
       "      <td>3.1</td>\n",
       "    </tr>\n",
       "    <tr>\n",
       "      <th>6</th>\n",
       "      <td>What do Quakers Believe?</td>\n",
       "      <td>Geoffrey Durham</td>\n",
       "      <td>5.94</td>\n",
       "      <td>3.4</td>\n",
       "    </tr>\n",
       "  </tbody>\n",
       "</table>\n",
       "</div>"
      ],
      "text/plain": [
       "                       title           author   price  ratting\n",
       "0                Tangled Web        Eric Mead   40.00      4.5\n",
       "1                   Close Up      David Stone   23.10      3.7\n",
       "2                Foundations   Eberhard Riese   70.00      3.8\n",
       "3       Professional Secrets  Geoffrey Durham  295.00      4.9\n",
       "4                  5 Times 5  Richard Kaufman   34.65      4.0\n",
       "5  The Spirit of the Quakers  Geoffrey Durham    9.43      3.1\n",
       "6   What do Quakers Believe?  Geoffrey Durham    5.94      3.4"
      ]
     },
     "execution_count": 7,
     "metadata": {},
     "output_type": "execute_result"
    }
   ],
   "source": [
    "df.drop(columns = ['sub-title', 'new column'], inplace=True)\n",
    "\n",
    "df"
   ]
  },
  {
   "cell_type": "markdown",
   "metadata": {},
   "source": [
    "To update many values in a column you could simply define a new column and delete the old one. To update a single value use ``at()`` and specify the index and column to be changed, then simply assign the new value. "
   ]
  },
  {
   "cell_type": "code",
   "execution_count": 8,
   "metadata": {},
   "outputs": [],
   "source": [
    "df.at[1, 'price'] = 10"
   ]
  },
  {
   "cell_type": "markdown",
   "metadata": {},
   "source": [
    "## Update Index and Column Names\n",
    "\n",
    "Whoops! There's a spelling mistake in one of the column names. We should change the column 'ratting' to 'rating'. To do this you can simply specify a list of all the correct column names and assign it to the ``columns`` attribute of the DataFrame. A quicker way, if only one or two column names need to be updated, is to use the ``rename()`` method."
   ]
  },
  {
   "cell_type": "code",
   "execution_count": 9,
   "metadata": {},
   "outputs": [
    {
     "data": {
      "text/html": [
       "<div>\n",
       "<style scoped>\n",
       "    .dataframe tbody tr th:only-of-type {\n",
       "        vertical-align: middle;\n",
       "    }\n",
       "\n",
       "    .dataframe tbody tr th {\n",
       "        vertical-align: top;\n",
       "    }\n",
       "\n",
       "    .dataframe thead th {\n",
       "        text-align: right;\n",
       "    }\n",
       "</style>\n",
       "<table border=\"1\" class=\"dataframe\">\n",
       "  <thead>\n",
       "    <tr style=\"text-align: right;\">\n",
       "      <th></th>\n",
       "      <th>title</th>\n",
       "      <th>author</th>\n",
       "      <th>price</th>\n",
       "      <th>rating</th>\n",
       "    </tr>\n",
       "  </thead>\n",
       "  <tbody>\n",
       "    <tr>\n",
       "      <th>0</th>\n",
       "      <td>Tangled Web</td>\n",
       "      <td>Eric Mead</td>\n",
       "      <td>40.00</td>\n",
       "      <td>4.5</td>\n",
       "    </tr>\n",
       "    <tr>\n",
       "      <th>1</th>\n",
       "      <td>Close Up</td>\n",
       "      <td>David Stone</td>\n",
       "      <td>10.00</td>\n",
       "      <td>3.7</td>\n",
       "    </tr>\n",
       "    <tr>\n",
       "      <th>2</th>\n",
       "      <td>Foundations</td>\n",
       "      <td>Eberhard Riese</td>\n",
       "      <td>70.00</td>\n",
       "      <td>3.8</td>\n",
       "    </tr>\n",
       "    <tr>\n",
       "      <th>3</th>\n",
       "      <td>Professional Secrets</td>\n",
       "      <td>Geoffrey Durham</td>\n",
       "      <td>295.00</td>\n",
       "      <td>4.9</td>\n",
       "    </tr>\n",
       "    <tr>\n",
       "      <th>4</th>\n",
       "      <td>5 Times 5</td>\n",
       "      <td>Richard Kaufman</td>\n",
       "      <td>34.65</td>\n",
       "      <td>4.0</td>\n",
       "    </tr>\n",
       "    <tr>\n",
       "      <th>5</th>\n",
       "      <td>The Spirit of the Quakers</td>\n",
       "      <td>Geoffrey Durham</td>\n",
       "      <td>9.43</td>\n",
       "      <td>3.1</td>\n",
       "    </tr>\n",
       "    <tr>\n",
       "      <th>6</th>\n",
       "      <td>What do Quakers Believe?</td>\n",
       "      <td>Geoffrey Durham</td>\n",
       "      <td>5.94</td>\n",
       "      <td>3.4</td>\n",
       "    </tr>\n",
       "  </tbody>\n",
       "</table>\n",
       "</div>"
      ],
      "text/plain": [
       "                       title           author   price  rating\n",
       "0                Tangled Web        Eric Mead   40.00     4.5\n",
       "1                   Close Up      David Stone   10.00     3.7\n",
       "2                Foundations   Eberhard Riese   70.00     3.8\n",
       "3       Professional Secrets  Geoffrey Durham  295.00     4.9\n",
       "4                  5 Times 5  Richard Kaufman   34.65     4.0\n",
       "5  The Spirit of the Quakers  Geoffrey Durham    9.43     3.1\n",
       "6   What do Quakers Believe?  Geoffrey Durham    5.94     3.4"
      ]
     },
     "execution_count": 9,
     "metadata": {},
     "output_type": "execute_result"
    }
   ],
   "source": [
    "df.rename(columns={'ratting':'rating'}, inplace=True)\n",
    "\n",
    "df"
   ]
  },
  {
   "cell_type": "markdown",
   "metadata": {},
   "source": [
    "The row labels (index) can also be updated using both of these methods. "
   ]
  },
  {
   "cell_type": "code",
   "execution_count": 10,
   "metadata": {},
   "outputs": [
    {
     "data": {
      "text/html": [
       "<div>\n",
       "<style scoped>\n",
       "    .dataframe tbody tr th:only-of-type {\n",
       "        vertical-align: middle;\n",
       "    }\n",
       "\n",
       "    .dataframe tbody tr th {\n",
       "        vertical-align: top;\n",
       "    }\n",
       "\n",
       "    .dataframe thead th {\n",
       "        text-align: right;\n",
       "    }\n",
       "</style>\n",
       "<table border=\"1\" class=\"dataframe\">\n",
       "  <thead>\n",
       "    <tr style=\"text-align: right;\">\n",
       "      <th></th>\n",
       "      <th>title</th>\n",
       "      <th>author</th>\n",
       "      <th>price</th>\n",
       "      <th>rating</th>\n",
       "    </tr>\n",
       "  </thead>\n",
       "  <tbody>\n",
       "    <tr>\n",
       "      <th>0</th>\n",
       "      <td>Tangled Web</td>\n",
       "      <td>Eric Mead</td>\n",
       "      <td>40.00</td>\n",
       "      <td>4.5</td>\n",
       "    </tr>\n",
       "    <tr>\n",
       "      <th>a</th>\n",
       "      <td>Close Up</td>\n",
       "      <td>David Stone</td>\n",
       "      <td>10.00</td>\n",
       "      <td>3.7</td>\n",
       "    </tr>\n",
       "    <tr>\n",
       "      <th>2</th>\n",
       "      <td>Foundations</td>\n",
       "      <td>Eberhard Riese</td>\n",
       "      <td>70.00</td>\n",
       "      <td>3.8</td>\n",
       "    </tr>\n",
       "    <tr>\n",
       "      <th>3</th>\n",
       "      <td>Professional Secrets</td>\n",
       "      <td>Geoffrey Durham</td>\n",
       "      <td>295.00</td>\n",
       "      <td>4.9</td>\n",
       "    </tr>\n",
       "    <tr>\n",
       "      <th>4</th>\n",
       "      <td>5 Times 5</td>\n",
       "      <td>Richard Kaufman</td>\n",
       "      <td>34.65</td>\n",
       "      <td>4.0</td>\n",
       "    </tr>\n",
       "    <tr>\n",
       "      <th>5</th>\n",
       "      <td>The Spirit of the Quakers</td>\n",
       "      <td>Geoffrey Durham</td>\n",
       "      <td>9.43</td>\n",
       "      <td>3.1</td>\n",
       "    </tr>\n",
       "    <tr>\n",
       "      <th>6</th>\n",
       "      <td>What do Quakers Believe?</td>\n",
       "      <td>Geoffrey Durham</td>\n",
       "      <td>5.94</td>\n",
       "      <td>3.4</td>\n",
       "    </tr>\n",
       "  </tbody>\n",
       "</table>\n",
       "</div>"
      ],
      "text/plain": [
       "                       title           author   price  rating\n",
       "0                Tangled Web        Eric Mead   40.00     4.5\n",
       "a                   Close Up      David Stone   10.00     3.7\n",
       "2                Foundations   Eberhard Riese   70.00     3.8\n",
       "3       Professional Secrets  Geoffrey Durham  295.00     4.9\n",
       "4                  5 Times 5  Richard Kaufman   34.65     4.0\n",
       "5  The Spirit of the Quakers  Geoffrey Durham    9.43     3.1\n",
       "6   What do Quakers Believe?  Geoffrey Durham    5.94     3.4"
      ]
     },
     "execution_count": 10,
     "metadata": {},
     "output_type": "execute_result"
    }
   ],
   "source": [
    "df.rename(index={1:'a'}, inplace=True)\n",
    "\n",
    "df"
   ]
  },
  {
   "cell_type": "markdown",
   "metadata": {},
   "source": [
    "The row numbers can be reset to use a ``RangeIndex``, which is the index Pandas uses by default when creating a DataFrame."
   ]
  },
  {
   "cell_type": "code",
   "execution_count": 11,
   "metadata": {},
   "outputs": [
    {
     "data": {
      "text/html": [
       "<div>\n",
       "<style scoped>\n",
       "    .dataframe tbody tr th:only-of-type {\n",
       "        vertical-align: middle;\n",
       "    }\n",
       "\n",
       "    .dataframe tbody tr th {\n",
       "        vertical-align: top;\n",
       "    }\n",
       "\n",
       "    .dataframe thead th {\n",
       "        text-align: right;\n",
       "    }\n",
       "</style>\n",
       "<table border=\"1\" class=\"dataframe\">\n",
       "  <thead>\n",
       "    <tr style=\"text-align: right;\">\n",
       "      <th></th>\n",
       "      <th>title</th>\n",
       "      <th>author</th>\n",
       "      <th>price</th>\n",
       "      <th>rating</th>\n",
       "    </tr>\n",
       "  </thead>\n",
       "  <tbody>\n",
       "    <tr>\n",
       "      <th>0</th>\n",
       "      <td>Tangled Web</td>\n",
       "      <td>Eric Mead</td>\n",
       "      <td>40.00</td>\n",
       "      <td>4.5</td>\n",
       "    </tr>\n",
       "    <tr>\n",
       "      <th>1</th>\n",
       "      <td>Close Up</td>\n",
       "      <td>David Stone</td>\n",
       "      <td>10.00</td>\n",
       "      <td>3.7</td>\n",
       "    </tr>\n",
       "    <tr>\n",
       "      <th>2</th>\n",
       "      <td>Foundations</td>\n",
       "      <td>Eberhard Riese</td>\n",
       "      <td>70.00</td>\n",
       "      <td>3.8</td>\n",
       "    </tr>\n",
       "    <tr>\n",
       "      <th>3</th>\n",
       "      <td>Professional Secrets</td>\n",
       "      <td>Geoffrey Durham</td>\n",
       "      <td>295.00</td>\n",
       "      <td>4.9</td>\n",
       "    </tr>\n",
       "    <tr>\n",
       "      <th>4</th>\n",
       "      <td>5 Times 5</td>\n",
       "      <td>Richard Kaufman</td>\n",
       "      <td>34.65</td>\n",
       "      <td>4.0</td>\n",
       "    </tr>\n",
       "    <tr>\n",
       "      <th>5</th>\n",
       "      <td>The Spirit of the Quakers</td>\n",
       "      <td>Geoffrey Durham</td>\n",
       "      <td>9.43</td>\n",
       "      <td>3.1</td>\n",
       "    </tr>\n",
       "    <tr>\n",
       "      <th>6</th>\n",
       "      <td>What do Quakers Believe?</td>\n",
       "      <td>Geoffrey Durham</td>\n",
       "      <td>5.94</td>\n",
       "      <td>3.4</td>\n",
       "    </tr>\n",
       "  </tbody>\n",
       "</table>\n",
       "</div>"
      ],
      "text/plain": [
       "                       title           author   price  rating\n",
       "0                Tangled Web        Eric Mead   40.00     4.5\n",
       "1                   Close Up      David Stone   10.00     3.7\n",
       "2                Foundations   Eberhard Riese   70.00     3.8\n",
       "3       Professional Secrets  Geoffrey Durham  295.00     4.9\n",
       "4                  5 Times 5  Richard Kaufman   34.65     4.0\n",
       "5  The Spirit of the Quakers  Geoffrey Durham    9.43     3.1\n",
       "6   What do Quakers Believe?  Geoffrey Durham    5.94     3.4"
      ]
     },
     "execution_count": 11,
     "metadata": {},
     "output_type": "execute_result"
    }
   ],
   "source": [
    "df.index = pd.RangeIndex(start=0, stop=7, step=1)\n",
    "\n",
    "df"
   ]
  },
  {
   "cell_type": "markdown",
   "metadata": {},
   "source": [
    "## Calculations Based on DataFrames\n",
    "\n",
    "In the last workbook we looked at selecting rows based on their values, for example"
   ]
  },
  {
   "cell_type": "code",
   "execution_count": 12,
   "metadata": {},
   "outputs": [
    {
     "data": {
      "text/html": [
       "<div>\n",
       "<style scoped>\n",
       "    .dataframe tbody tr th:only-of-type {\n",
       "        vertical-align: middle;\n",
       "    }\n",
       "\n",
       "    .dataframe tbody tr th {\n",
       "        vertical-align: top;\n",
       "    }\n",
       "\n",
       "    .dataframe thead th {\n",
       "        text-align: right;\n",
       "    }\n",
       "</style>\n",
       "<table border=\"1\" class=\"dataframe\">\n",
       "  <thead>\n",
       "    <tr style=\"text-align: right;\">\n",
       "      <th></th>\n",
       "      <th>title</th>\n",
       "      <th>author</th>\n",
       "      <th>price</th>\n",
       "      <th>rating</th>\n",
       "    </tr>\n",
       "  </thead>\n",
       "  <tbody>\n",
       "    <tr>\n",
       "      <th>0</th>\n",
       "      <td>Tangled Web</td>\n",
       "      <td>Eric Mead</td>\n",
       "      <td>40.0</td>\n",
       "      <td>4.5</td>\n",
       "    </tr>\n",
       "    <tr>\n",
       "      <th>2</th>\n",
       "      <td>Foundations</td>\n",
       "      <td>Eberhard Riese</td>\n",
       "      <td>70.0</td>\n",
       "      <td>3.8</td>\n",
       "    </tr>\n",
       "    <tr>\n",
       "      <th>3</th>\n",
       "      <td>Professional Secrets</td>\n",
       "      <td>Geoffrey Durham</td>\n",
       "      <td>295.0</td>\n",
       "      <td>4.9</td>\n",
       "    </tr>\n",
       "  </tbody>\n",
       "</table>\n",
       "</div>"
      ],
      "text/plain": [
       "                  title           author  price  rating\n",
       "0           Tangled Web        Eric Mead   40.0     4.5\n",
       "2           Foundations   Eberhard Riese   70.0     3.8\n",
       "3  Professional Secrets  Geoffrey Durham  295.0     4.9"
      ]
     },
     "execution_count": 12,
     "metadata": {},
     "output_type": "execute_result"
    }
   ],
   "source": [
    "df[df['price'] >= 40]"
   ]
  },
  {
   "cell_type": "markdown",
   "metadata": {},
   "source": [
    "Notice that ``df['price']`` is not an integer. It is a Pandas Series. So how is it possible to make a numerical comparison here? The short answer is it's just Pandas being very clever. Given a statement like this it will perform the comparison for each item in the Series. Similarly, we can perform aritmetic with Series and Pandas will know that we mean to apply the operation to each member of the Series."
   ]
  },
  {
   "cell_type": "code",
   "execution_count": 13,
   "metadata": {},
   "outputs": [
    {
     "data": {
      "text/plain": [
       "0     80.00\n",
       "1     20.00\n",
       "2    140.00\n",
       "3    590.00\n",
       "4     69.30\n",
       "5     18.86\n",
       "6     11.88\n",
       "Name: price, dtype: float64"
      ]
     },
     "execution_count": 13,
     "metadata": {},
     "output_type": "execute_result"
    }
   ],
   "source": [
    "df['price']*2"
   ]
  },
  {
   "cell_type": "markdown",
   "metadata": {},
   "source": [
    "We can even add two Series together and Pandas will know to add the corresponding members. Of course this only works if the Series are of the same size and only contain numerical values. "
   ]
  },
  {
   "cell_type": "code",
   "execution_count": 14,
   "metadata": {
    "scrolled": true
   },
   "outputs": [
    {
     "data": {
      "text/plain": [
       "0     44.50\n",
       "1     13.70\n",
       "2     73.80\n",
       "3    299.90\n",
       "4     38.65\n",
       "5     12.53\n",
       "6      9.34\n",
       "dtype: float64"
      ]
     },
     "execution_count": 14,
     "metadata": {},
     "output_type": "execute_result"
    }
   ],
   "source": [
    "df['price'] + df['rating']"
   ]
  },
  {
   "cell_type": "markdown",
   "metadata": {},
   "source": [
    "There are also functions for finding the \n",
    "- max\n",
    "- min\n",
    "- mean\n",
    "- median\n",
    "- mode\n",
    "- sum\n",
    "\n",
    "of a Series or of every row/column in a DataFrame."
   ]
  },
  {
   "cell_type": "code",
   "execution_count": 15,
   "metadata": {
    "scrolled": true
   },
   "outputs": [
    {
     "data": {
      "text/plain": [
       "295.0"
      ]
     },
     "execution_count": 15,
     "metadata": {},
     "output_type": "execute_result"
    }
   ],
   "source": [
    "# max over a single Series\n",
    "df['price'].max()"
   ]
  },
  {
   "cell_type": "code",
   "execution_count": 16,
   "metadata": {
    "scrolled": true
   },
   "outputs": [
    {
     "data": {
      "text/plain": [
       "title     What do Quakers Believe?\n",
       "author             Richard Kaufman\n",
       "price                          295\n",
       "rating                         4.9\n",
       "dtype: object"
      ]
     },
     "execution_count": 16,
     "metadata": {},
     "output_type": "execute_result"
    }
   ],
   "source": [
    "# max over a DataFrame\n",
    "# axis=0 indicates to find the max for each column, comparing the different rows. \n",
    "# where the entries are strings the maximum value is the last one alphabetically. \n",
    "df.max(axis=0)"
   ]
  },
  {
   "cell_type": "markdown",
   "metadata": {},
   "source": [
    "Now we have everything we need to define new columns based on the old ones. Select the information you're interested in, manipulate it, and assign the new values to a new column in the DataFrame. Let's create a column which, instead of the exact price, categorises a book as low, medium or high cost, and let's add this column immediately after the existing price column."
   ]
  },
  {
   "cell_type": "code",
   "execution_count": 17,
   "metadata": {},
   "outputs": [
    {
     "data": {
      "text/html": [
       "<div>\n",
       "<style scoped>\n",
       "    .dataframe tbody tr th:only-of-type {\n",
       "        vertical-align: middle;\n",
       "    }\n",
       "\n",
       "    .dataframe tbody tr th {\n",
       "        vertical-align: top;\n",
       "    }\n",
       "\n",
       "    .dataframe thead th {\n",
       "        text-align: right;\n",
       "    }\n",
       "</style>\n",
       "<table border=\"1\" class=\"dataframe\">\n",
       "  <thead>\n",
       "    <tr style=\"text-align: right;\">\n",
       "      <th></th>\n",
       "      <th>title</th>\n",
       "      <th>author</th>\n",
       "      <th>price</th>\n",
       "      <th>cost</th>\n",
       "      <th>rating</th>\n",
       "    </tr>\n",
       "  </thead>\n",
       "  <tbody>\n",
       "    <tr>\n",
       "      <th>0</th>\n",
       "      <td>Tangled Web</td>\n",
       "      <td>Eric Mead</td>\n",
       "      <td>40.00</td>\n",
       "      <td>high</td>\n",
       "      <td>4.5</td>\n",
       "    </tr>\n",
       "    <tr>\n",
       "      <th>1</th>\n",
       "      <td>Close Up</td>\n",
       "      <td>David Stone</td>\n",
       "      <td>10.00</td>\n",
       "      <td>medium</td>\n",
       "      <td>3.7</td>\n",
       "    </tr>\n",
       "    <tr>\n",
       "      <th>2</th>\n",
       "      <td>Foundations</td>\n",
       "      <td>Eberhard Riese</td>\n",
       "      <td>70.00</td>\n",
       "      <td>high</td>\n",
       "      <td>3.8</td>\n",
       "    </tr>\n",
       "    <tr>\n",
       "      <th>3</th>\n",
       "      <td>Professional Secrets</td>\n",
       "      <td>Geoffrey Durham</td>\n",
       "      <td>295.00</td>\n",
       "      <td>high</td>\n",
       "      <td>4.9</td>\n",
       "    </tr>\n",
       "    <tr>\n",
       "      <th>4</th>\n",
       "      <td>5 Times 5</td>\n",
       "      <td>Richard Kaufman</td>\n",
       "      <td>34.65</td>\n",
       "      <td>medium</td>\n",
       "      <td>4.0</td>\n",
       "    </tr>\n",
       "    <tr>\n",
       "      <th>5</th>\n",
       "      <td>The Spirit of the Quakers</td>\n",
       "      <td>Geoffrey Durham</td>\n",
       "      <td>9.43</td>\n",
       "      <td>low</td>\n",
       "      <td>3.1</td>\n",
       "    </tr>\n",
       "    <tr>\n",
       "      <th>6</th>\n",
       "      <td>What do Quakers Believe?</td>\n",
       "      <td>Geoffrey Durham</td>\n",
       "      <td>5.94</td>\n",
       "      <td>low</td>\n",
       "      <td>3.4</td>\n",
       "    </tr>\n",
       "  </tbody>\n",
       "</table>\n",
       "</div>"
      ],
      "text/plain": [
       "                       title           author   price    cost  rating\n",
       "0                Tangled Web        Eric Mead   40.00    high     4.5\n",
       "1                   Close Up      David Stone   10.00  medium     3.7\n",
       "2                Foundations   Eberhard Riese   70.00    high     3.8\n",
       "3       Professional Secrets  Geoffrey Durham  295.00    high     4.9\n",
       "4                  5 Times 5  Richard Kaufman   34.65  medium     4.0\n",
       "5  The Spirit of the Quakers  Geoffrey Durham    9.43     low     3.1\n",
       "6   What do Quakers Believe?  Geoffrey Durham    5.94     low     3.4"
      ]
     },
     "execution_count": 17,
     "metadata": {},
     "output_type": "execute_result"
    }
   ],
   "source": [
    "costs = []\n",
    "for price in df[\"price\"]:\n",
    "    if price >= 40:\n",
    "        costs.append('high')\n",
    "    elif price >= 10:\n",
    "        costs.append('medium')\n",
    "    else:\n",
    "        costs.append('low')\n",
    "\n",
    "df.insert(loc=3, column='cost', value=costs)\n",
    "\n",
    "df"
   ]
  },
  {
   "cell_type": "markdown",
   "metadata": {},
   "source": [
    "## Exercise 1\n",
    "\n",
    "The next cell contains code to generate a DataFrame. The data is the number of cases of Tuberculosis (TB) in three countries over three years. \n",
    "\n",
    "Add columns for the total and average number of cases over the three years. "
   ]
  },
  {
   "cell_type": "code",
   "execution_count": 18,
   "metadata": {},
   "outputs": [
    {
     "data": {
      "text/html": [
       "<div>\n",
       "<style scoped>\n",
       "    .dataframe tbody tr th:only-of-type {\n",
       "        vertical-align: middle;\n",
       "    }\n",
       "\n",
       "    .dataframe tbody tr th {\n",
       "        vertical-align: top;\n",
       "    }\n",
       "\n",
       "    .dataframe thead th {\n",
       "        text-align: right;\n",
       "    }\n",
       "</style>\n",
       "<table border=\"1\" class=\"dataframe\">\n",
       "  <thead>\n",
       "    <tr style=\"text-align: right;\">\n",
       "      <th></th>\n",
       "      <th>2011</th>\n",
       "      <th>2012</th>\n",
       "      <th>2013</th>\n",
       "    </tr>\n",
       "  </thead>\n",
       "  <tbody>\n",
       "    <tr>\n",
       "      <th>France</th>\n",
       "      <td>7000</td>\n",
       "      <td>6900</td>\n",
       "      <td>7000</td>\n",
       "    </tr>\n",
       "    <tr>\n",
       "      <th>Germany</th>\n",
       "      <td>5800</td>\n",
       "      <td>6000</td>\n",
       "      <td>6200</td>\n",
       "    </tr>\n",
       "    <tr>\n",
       "      <th>United States of America</th>\n",
       "      <td>15000</td>\n",
       "      <td>14000</td>\n",
       "      <td>13000</td>\n",
       "    </tr>\n",
       "  </tbody>\n",
       "</table>\n",
       "</div>"
      ],
      "text/plain": [
       "                           2011   2012   2013\n",
       "France                     7000   6900   7000\n",
       "Germany                    5800   6000   6200\n",
       "United States of America  15000  14000  13000"
      ]
     },
     "execution_count": 18,
     "metadata": {},
     "output_type": "execute_result"
    }
   ],
   "source": [
    "df = pd.DataFrame(\n",
    "    {\n",
    "        '2011':[7000,5800,15000],\n",
    "        '2012':[6900,6000,14000],\n",
    "        '2013':[7000,6200,13000]\n",
    "    },\n",
    "    index=['France','Germany','United States of America']\n",
    ")\n",
    "\n",
    "df"
   ]
  },
  {
   "cell_type": "markdown",
   "metadata": {},
   "source": [
    "### 1b\n",
    "\n",
    "What if we had a DataFrame with some missing or invalid entries? \n",
    "The DataFrame below contains an entry ``pd.NA``, which is a special value in Pandas meaning 'not available'. \n",
    "It stands in for data which is missing. \n",
    "\n",
    "Having missing values could make it difficult to calculate a correct average. See if your method from part (a) still works. If it doesn't, then find a different way to calculate the average ignoring the missing value. For France the average should be $\\frac{6900+7000}{2} = 6950$, but don't simply do this cacluation! Find a method which will work when you don't know how many of the values are 'not a number'. "
   ]
  },
  {
   "cell_type": "code",
   "execution_count": 19,
   "metadata": {},
   "outputs": [
    {
     "data": {
      "text/html": [
       "<div>\n",
       "<style scoped>\n",
       "    .dataframe tbody tr th:only-of-type {\n",
       "        vertical-align: middle;\n",
       "    }\n",
       "\n",
       "    .dataframe tbody tr th {\n",
       "        vertical-align: top;\n",
       "    }\n",
       "\n",
       "    .dataframe thead th {\n",
       "        text-align: right;\n",
       "    }\n",
       "</style>\n",
       "<table border=\"1\" class=\"dataframe\">\n",
       "  <thead>\n",
       "    <tr style=\"text-align: right;\">\n",
       "      <th></th>\n",
       "      <th>2011</th>\n",
       "      <th>2012</th>\n",
       "      <th>2013</th>\n",
       "    </tr>\n",
       "  </thead>\n",
       "  <tbody>\n",
       "    <tr>\n",
       "      <th>France</th>\n",
       "      <td>&lt;NA&gt;</td>\n",
       "      <td>6900</td>\n",
       "      <td>7000</td>\n",
       "    </tr>\n",
       "    <tr>\n",
       "      <th>Germany</th>\n",
       "      <td>5800</td>\n",
       "      <td>6000</td>\n",
       "      <td>6200</td>\n",
       "    </tr>\n",
       "    <tr>\n",
       "      <th>United States of America</th>\n",
       "      <td>15000</td>\n",
       "      <td>14000</td>\n",
       "      <td>13000</td>\n",
       "    </tr>\n",
       "  </tbody>\n",
       "</table>\n",
       "</div>"
      ],
      "text/plain": [
       "                           2011   2012   2013\n",
       "France                     <NA>   6900   7000\n",
       "Germany                    5800   6000   6200\n",
       "United States of America  15000  14000  13000"
      ]
     },
     "execution_count": 19,
     "metadata": {},
     "output_type": "execute_result"
    }
   ],
   "source": [
    "df = pd.DataFrame(\n",
    "    {\n",
    "        '2011':[pd.NA,5800,15000],\n",
    "        '2012':[6900,6000,14000],\n",
    "        '2013':[7000,6200,13000]\n",
    "    },\n",
    "    index=['France','Germany','United States of America']\n",
    ")\n",
    "\n",
    "df"
   ]
  },
  {
   "cell_type": "markdown",
   "metadata": {},
   "source": [
    "### 1c\n",
    "\n",
    "Finally, consider the possibility that the data you imported has some bad values in it. Here, for example, we know that the number of cases of TB can't be negative and must be a whole number. If any values are present which don't fit these criteria then we should highlight them. We might then choose to ignore these values in any calculations. \n",
    "\n",
    "Create a function to check the quality of data in the DataFrame, replacing bad values with the special value ``pd.NA``. Then add columns for the sum and average of each row as before. "
   ]
  },
  {
   "cell_type": "code",
   "execution_count": 20,
   "metadata": {},
   "outputs": [
    {
     "data": {
      "text/html": [
       "<div>\n",
       "<style scoped>\n",
       "    .dataframe tbody tr th:only-of-type {\n",
       "        vertical-align: middle;\n",
       "    }\n",
       "\n",
       "    .dataframe tbody tr th {\n",
       "        vertical-align: top;\n",
       "    }\n",
       "\n",
       "    .dataframe thead th {\n",
       "        text-align: right;\n",
       "    }\n",
       "</style>\n",
       "<table border=\"1\" class=\"dataframe\">\n",
       "  <thead>\n",
       "    <tr style=\"text-align: right;\">\n",
       "      <th></th>\n",
       "      <th>2011</th>\n",
       "      <th>2012</th>\n",
       "      <th>2013</th>\n",
       "    </tr>\n",
       "  </thead>\n",
       "  <tbody>\n",
       "    <tr>\n",
       "      <th>France</th>\n",
       "      <td>&lt;NA&gt;</td>\n",
       "      <td>6900.0</td>\n",
       "      <td>7000</td>\n",
       "    </tr>\n",
       "    <tr>\n",
       "      <th>Germany</th>\n",
       "      <td>5800</td>\n",
       "      <td>60.3</td>\n",
       "      <td>6200</td>\n",
       "    </tr>\n",
       "    <tr>\n",
       "      <th>United States of America</th>\n",
       "      <td>15000</td>\n",
       "      <td>14000.0</td>\n",
       "      <td>-40</td>\n",
       "    </tr>\n",
       "  </tbody>\n",
       "</table>\n",
       "</div>"
      ],
      "text/plain": [
       "                           2011     2012  2013\n",
       "France                     <NA>   6900.0  7000\n",
       "Germany                    5800     60.3  6200\n",
       "United States of America  15000  14000.0   -40"
      ]
     },
     "execution_count": 20,
     "metadata": {},
     "output_type": "execute_result"
    }
   ],
   "source": [
    "df = pd.DataFrame(\n",
    "    {\n",
    "        '2011':[pd.NA,5800,15000],\n",
    "        '2012':[6900,60.3,14000],\n",
    "        '2013':[7000,6200,-40]\n",
    "    },\n",
    "    index=['France','Germany','United States of America']\n",
    ")\n",
    "\n",
    "df"
   ]
  },
  {
   "cell_type": "markdown",
   "metadata": {},
   "source": [
    "## Modifying Data Types\n",
    "\n",
    "When creating your DataFrame think about what data type each of the columns should have and, if possible, ensure that the data is passed into the constructor as the correct type. \n",
    "Recall that the data types of each column can be seen with ``info()``."
   ]
  },
  {
   "cell_type": "code",
   "execution_count": 21,
   "metadata": {},
   "outputs": [
    {
     "data": {
      "text/html": [
       "<div>\n",
       "<style scoped>\n",
       "    .dataframe tbody tr th:only-of-type {\n",
       "        vertical-align: middle;\n",
       "    }\n",
       "\n",
       "    .dataframe tbody tr th {\n",
       "        vertical-align: top;\n",
       "    }\n",
       "\n",
       "    .dataframe thead th {\n",
       "        text-align: right;\n",
       "    }\n",
       "</style>\n",
       "<table border=\"1\" class=\"dataframe\">\n",
       "  <thead>\n",
       "    <tr style=\"text-align: right;\">\n",
       "      <th></th>\n",
       "      <th>number</th>\n",
       "      <th>start_date</th>\n",
       "      <th>year</th>\n",
       "      <th>location</th>\n",
       "    </tr>\n",
       "  </thead>\n",
       "  <tbody>\n",
       "    <tr>\n",
       "      <th>0</th>\n",
       "      <td>1</td>\n",
       "      <td>10-10-2019</td>\n",
       "      <td>2019</td>\n",
       "      <td>north</td>\n",
       "    </tr>\n",
       "    <tr>\n",
       "      <th>1</th>\n",
       "      <td>2</td>\n",
       "      <td>4-3-2010</td>\n",
       "      <td>2010</td>\n",
       "      <td>south</td>\n",
       "    </tr>\n",
       "    <tr>\n",
       "      <th>2</th>\n",
       "      <td>1.1</td>\n",
       "      <td>9-10-1999</td>\n",
       "      <td>1999</td>\n",
       "      <td>east</td>\n",
       "    </tr>\n",
       "    <tr>\n",
       "      <th>3</th>\n",
       "      <td>14</td>\n",
       "      <td>10-01-2019</td>\n",
       "      <td>2019</td>\n",
       "      <td>west</td>\n",
       "    </tr>\n",
       "    <tr>\n",
       "      <th>4</th>\n",
       "      <td>5.32234</td>\n",
       "      <td>2-04-2018</td>\n",
       "      <td>2018</td>\n",
       "      <td>north</td>\n",
       "    </tr>\n",
       "    <tr>\n",
       "      <th>5</th>\n",
       "      <td>6</td>\n",
       "      <td>17-11-2003</td>\n",
       "      <td>2003</td>\n",
       "      <td>south</td>\n",
       "    </tr>\n",
       "    <tr>\n",
       "      <th>6</th>\n",
       "      <td>7</td>\n",
       "      <td>10-10-1981</td>\n",
       "      <td>1981</td>\n",
       "      <td>east</td>\n",
       "    </tr>\n",
       "  </tbody>\n",
       "</table>\n",
       "</div>"
      ],
      "text/plain": [
       "    number  start_date  year location\n",
       "0        1  10-10-2019  2019    north\n",
       "1        2    4-3-2010  2010    south\n",
       "2      1.1   9-10-1999  1999     east\n",
       "3       14  10-01-2019  2019     west\n",
       "4  5.32234   2-04-2018  2018    north\n",
       "5        6  17-11-2003  2003    south\n",
       "6        7  10-10-1981  1981     east"
      ]
     },
     "execution_count": 21,
     "metadata": {},
     "output_type": "execute_result"
    }
   ],
   "source": [
    "df = pd.DataFrame(\n",
    "    {\n",
    "        'number': ['1', '2', '1.1', '14', '5.32234', '6', '7'],\n",
    "        'start_date': ['10-10-2019','4-3-2010','9-10-1999','10-01-2019','2-04-2018','17-11-2003','10-10-1981'],\n",
    "        'year': ['2019', '2010', '1999', '2019', '2018', '2003', '1981'],\n",
    "        'location': ['north', 'south', 'east', 'west', 'north', 'south', 'east']\n",
    "    }\n",
    ")\n",
    "df"
   ]
  },
  {
   "cell_type": "code",
   "execution_count": 22,
   "metadata": {
    "scrolled": false
   },
   "outputs": [
    {
     "name": "stdout",
     "output_type": "stream",
     "text": [
      "<class 'pandas.core.frame.DataFrame'>\n",
      "RangeIndex: 7 entries, 0 to 6\n",
      "Data columns (total 4 columns):\n",
      " #   Column      Non-Null Count  Dtype \n",
      "---  ------      --------------  ----- \n",
      " 0   number      7 non-null      object\n",
      " 1   start_date  7 non-null      object\n",
      " 2   year        7 non-null      object\n",
      " 3   location    7 non-null      object\n",
      "dtypes: object(4)\n",
      "memory usage: 352.0+ bytes\n"
     ]
    }
   ],
   "source": [
    "df.info()"
   ]
  },
  {
   "cell_type": "markdown",
   "metadata": {},
   "source": [
    "See that the 'number' column has data type ``object``. For some reason the data was provided as strings when clearly it is numeric. The pandas method ``to_numeric`` takes a Series and returns a new Series in which each element has been made numeric. The new Series can then be assigned to the correct column of the DataFrame. Note that if there is any value in the original Series (column) that does not 'look like' a number i.e. that pandas doesn't know how to convert it to a number, this method will raise an exception. Also, pandas will decide whether the new data type should be an integer or a float based on the data in the Series. "
   ]
  },
  {
   "cell_type": "code",
   "execution_count": 23,
   "metadata": {},
   "outputs": [
    {
     "name": "stdout",
     "output_type": "stream",
     "text": [
      "<class 'pandas.core.frame.DataFrame'>\n",
      "RangeIndex: 7 entries, 0 to 6\n",
      "Data columns (total 4 columns):\n",
      " #   Column      Non-Null Count  Dtype  \n",
      "---  ------      --------------  -----  \n",
      " 0   number      7 non-null      float64\n",
      " 1   start_date  7 non-null      object \n",
      " 2   year        7 non-null      object \n",
      " 3   location    7 non-null      object \n",
      "dtypes: float64(1), object(3)\n",
      "memory usage: 352.0+ bytes\n"
     ]
    }
   ],
   "source": [
    "df['number'] = pd.to_numeric(df['number'])\n",
    "df.info()"
   ]
  },
  {
   "cell_type": "markdown",
   "metadata": {},
   "source": [
    "A similar method ``to_datetime()`` converts a string representation of a date into a pandas DateTime object. We've already seen that the Python datetime library can help when working with dates, now we see that pandas also has many methods and clever features for working with dates. You can find out more in the documentation, it's not a topic we will go into in great detail here."
   ]
  },
  {
   "cell_type": "code",
   "execution_count": 24,
   "metadata": {},
   "outputs": [
    {
     "name": "stdout",
     "output_type": "stream",
     "text": [
      "<class 'pandas.core.frame.DataFrame'>\n",
      "RangeIndex: 7 entries, 0 to 6\n",
      "Data columns (total 4 columns):\n",
      " #   Column      Non-Null Count  Dtype         \n",
      "---  ------      --------------  -----         \n",
      " 0   number      7 non-null      float64       \n",
      " 1   start_date  7 non-null      datetime64[ns]\n",
      " 2   year        7 non-null      object        \n",
      " 3   location    7 non-null      object        \n",
      "dtypes: datetime64[ns](1), float64(1), object(2)\n",
      "memory usage: 352.0+ bytes\n"
     ]
    }
   ],
   "source": [
    "df['start_date'] = pd.to_datetime(df['start_date'])\n",
    "df.info()"
   ]
  },
  {
   "cell_type": "markdown",
   "metadata": {},
   "source": [
    "Now see what happens when we use the same method on the 'year' column."
   ]
  },
  {
   "cell_type": "code",
   "execution_count": 25,
   "metadata": {},
   "outputs": [
    {
     "name": "stdout",
     "output_type": "stream",
     "text": [
      "<class 'pandas.core.frame.DataFrame'>\n",
      "RangeIndex: 7 entries, 0 to 6\n",
      "Data columns (total 4 columns):\n",
      " #   Column      Non-Null Count  Dtype         \n",
      "---  ------      --------------  -----         \n",
      " 0   number      7 non-null      float64       \n",
      " 1   start_date  7 non-null      datetime64[ns]\n",
      " 2   year        7 non-null      datetime64[ns]\n",
      " 3   location    7 non-null      object        \n",
      "dtypes: datetime64[ns](2), float64(1), object(1)\n",
      "memory usage: 352.0+ bytes\n"
     ]
    }
   ],
   "source": [
    "df['year'] = pd.to_datetime(df['year'])\n",
    "df.info()"
   ]
  },
  {
   "cell_type": "code",
   "execution_count": 26,
   "metadata": {
    "scrolled": true
   },
   "outputs": [
    {
     "data": {
      "text/html": [
       "<div>\n",
       "<style scoped>\n",
       "    .dataframe tbody tr th:only-of-type {\n",
       "        vertical-align: middle;\n",
       "    }\n",
       "\n",
       "    .dataframe tbody tr th {\n",
       "        vertical-align: top;\n",
       "    }\n",
       "\n",
       "    .dataframe thead th {\n",
       "        text-align: right;\n",
       "    }\n",
       "</style>\n",
       "<table border=\"1\" class=\"dataframe\">\n",
       "  <thead>\n",
       "    <tr style=\"text-align: right;\">\n",
       "      <th></th>\n",
       "      <th>number</th>\n",
       "      <th>start_date</th>\n",
       "      <th>year</th>\n",
       "      <th>location</th>\n",
       "    </tr>\n",
       "  </thead>\n",
       "  <tbody>\n",
       "    <tr>\n",
       "      <th>0</th>\n",
       "      <td>1.00000</td>\n",
       "      <td>2019-10-10</td>\n",
       "      <td>2019-01-01</td>\n",
       "      <td>north</td>\n",
       "    </tr>\n",
       "    <tr>\n",
       "      <th>1</th>\n",
       "      <td>2.00000</td>\n",
       "      <td>2010-04-03</td>\n",
       "      <td>2010-01-01</td>\n",
       "      <td>south</td>\n",
       "    </tr>\n",
       "    <tr>\n",
       "      <th>2</th>\n",
       "      <td>1.10000</td>\n",
       "      <td>1999-09-10</td>\n",
       "      <td>1999-01-01</td>\n",
       "      <td>east</td>\n",
       "    </tr>\n",
       "    <tr>\n",
       "      <th>3</th>\n",
       "      <td>14.00000</td>\n",
       "      <td>2019-10-01</td>\n",
       "      <td>2019-01-01</td>\n",
       "      <td>west</td>\n",
       "    </tr>\n",
       "    <tr>\n",
       "      <th>4</th>\n",
       "      <td>5.32234</td>\n",
       "      <td>2018-02-04</td>\n",
       "      <td>2018-01-01</td>\n",
       "      <td>north</td>\n",
       "    </tr>\n",
       "    <tr>\n",
       "      <th>5</th>\n",
       "      <td>6.00000</td>\n",
       "      <td>2003-11-17</td>\n",
       "      <td>2003-01-01</td>\n",
       "      <td>south</td>\n",
       "    </tr>\n",
       "    <tr>\n",
       "      <th>6</th>\n",
       "      <td>7.00000</td>\n",
       "      <td>1981-10-10</td>\n",
       "      <td>1981-01-01</td>\n",
       "      <td>east</td>\n",
       "    </tr>\n",
       "  </tbody>\n",
       "</table>\n",
       "</div>"
      ],
      "text/plain": [
       "     number start_date       year location\n",
       "0   1.00000 2019-10-10 2019-01-01    north\n",
       "1   2.00000 2010-04-03 2010-01-01    south\n",
       "2   1.10000 1999-09-10 1999-01-01     east\n",
       "3  14.00000 2019-10-01 2019-01-01     west\n",
       "4   5.32234 2018-02-04 2018-01-01    north\n",
       "5   6.00000 2003-11-17 2003-01-01    south\n",
       "6   7.00000 1981-10-10 1981-01-01     east"
      ]
     },
     "execution_count": 26,
     "metadata": {},
     "output_type": "execute_result"
    }
   ],
   "source": [
    "df"
   ]
  },
  {
   "cell_type": "markdown",
   "metadata": {},
   "source": [
    "Finally, see that the 'location' column seems to only allow a few possible values. We can make this into a ``Categorical`` data type. If we had a larger DataFrame and couldn't conveniently look at all of the data directly there are a couple of useful methods for checking the possible values in a column."
   ]
  },
  {
   "cell_type": "code",
   "execution_count": 27,
   "metadata": {},
   "outputs": [
    {
     "data": {
      "text/plain": [
       "<bound method IndexOpsMixin.nunique of 0    north\n",
       "1    south\n",
       "2     east\n",
       "3     west\n",
       "4    north\n",
       "5    south\n",
       "6     east\n",
       "Name: location, dtype: object>"
      ]
     },
     "execution_count": 27,
     "metadata": {},
     "output_type": "execute_result"
    }
   ],
   "source": [
    "df['location'].nunique"
   ]
  },
  {
   "cell_type": "code",
   "execution_count": 28,
   "metadata": {},
   "outputs": [
    {
     "data": {
      "text/plain": [
       "south    2\n",
       "east     2\n",
       "north    2\n",
       "west     1\n",
       "Name: location, dtype: int64"
      ]
     },
     "execution_count": 28,
     "metadata": {},
     "output_type": "execute_result"
    }
   ],
   "source": [
    "df['location'].value_counts()"
   ]
  },
  {
   "cell_type": "code",
   "execution_count": 29,
   "metadata": {},
   "outputs": [
    {
     "name": "stdout",
     "output_type": "stream",
     "text": [
      "<class 'pandas.core.frame.DataFrame'>\n",
      "RangeIndex: 7 entries, 0 to 6\n",
      "Data columns (total 4 columns):\n",
      " #   Column      Non-Null Count  Dtype         \n",
      "---  ------      --------------  -----         \n",
      " 0   number      7 non-null      float64       \n",
      " 1   start_date  7 non-null      datetime64[ns]\n",
      " 2   year        7 non-null      datetime64[ns]\n",
      " 3   location    7 non-null      category      \n",
      "dtypes: category(1), datetime64[ns](2), float64(1)\n",
      "memory usage: 495.0 bytes\n"
     ]
    }
   ],
   "source": [
    "df['location'] = pd.Categorical(df[\"location\"])\n",
    "df.info()"
   ]
  },
  {
   "cell_type": "markdown",
   "metadata": {},
   "source": [
    "# Solutions to Exercises\n",
    "## 1\n",
    "### 1a\n",
    "In the first part it is acceptable to manually calculate the sum and average for each column. "
   ]
  },
  {
   "cell_type": "code",
   "execution_count": 30,
   "metadata": {},
   "outputs": [
    {
     "data": {
      "text/html": [
       "<div>\n",
       "<style scoped>\n",
       "    .dataframe tbody tr th:only-of-type {\n",
       "        vertical-align: middle;\n",
       "    }\n",
       "\n",
       "    .dataframe tbody tr th {\n",
       "        vertical-align: top;\n",
       "    }\n",
       "\n",
       "    .dataframe thead th {\n",
       "        text-align: right;\n",
       "    }\n",
       "</style>\n",
       "<table border=\"1\" class=\"dataframe\">\n",
       "  <thead>\n",
       "    <tr style=\"text-align: right;\">\n",
       "      <th></th>\n",
       "      <th>2011</th>\n",
       "      <th>2012</th>\n",
       "      <th>2013</th>\n",
       "      <th>total</th>\n",
       "      <th>average</th>\n",
       "    </tr>\n",
       "  </thead>\n",
       "  <tbody>\n",
       "    <tr>\n",
       "      <th>France</th>\n",
       "      <td>7000</td>\n",
       "      <td>6900</td>\n",
       "      <td>7000</td>\n",
       "      <td>20900</td>\n",
       "      <td>6966.7</td>\n",
       "    </tr>\n",
       "    <tr>\n",
       "      <th>Germany</th>\n",
       "      <td>5800</td>\n",
       "      <td>6000</td>\n",
       "      <td>6200</td>\n",
       "      <td>18000</td>\n",
       "      <td>6000.0</td>\n",
       "    </tr>\n",
       "    <tr>\n",
       "      <th>United States of America</th>\n",
       "      <td>15000</td>\n",
       "      <td>14000</td>\n",
       "      <td>13000</td>\n",
       "      <td>42000</td>\n",
       "      <td>14000.0</td>\n",
       "    </tr>\n",
       "  </tbody>\n",
       "</table>\n",
       "</div>"
      ],
      "text/plain": [
       "                           2011   2012   2013  total  average\n",
       "France                     7000   6900   7000  20900   6966.7\n",
       "Germany                    5800   6000   6200  18000   6000.0\n",
       "United States of America  15000  14000  13000  42000  14000.0"
      ]
     },
     "execution_count": 30,
     "metadata": {},
     "output_type": "execute_result"
    }
   ],
   "source": [
    "df = pd.DataFrame(\n",
    "    {\n",
    "        '2011':[7000,5800,15000],\n",
    "        '2012':[6900,6000,14000],\n",
    "        '2013':[7000,6200,13000]\n",
    "    },\n",
    "    index=['France','Germany','United States of America']\n",
    ")\n",
    "\n",
    "total = df['2011'] + df['2012'] + df['2013']\n",
    "df.insert(value=total, column='total', loc=3)\n",
    "\n",
    "average = round(total/3,1)\n",
    "df.insert(value=average, column='average', loc=4)\n",
    "df"
   ]
  },
  {
   "cell_type": "markdown",
   "metadata": {},
   "source": [
    "### 1b\n",
    "\n",
    "Now we need to use the built in functions for finding the sum and average so that the ``pd.NA`` value is handled correctly."
   ]
  },
  {
   "cell_type": "code",
   "execution_count": 31,
   "metadata": {},
   "outputs": [
    {
     "data": {
      "text/html": [
       "<div>\n",
       "<style scoped>\n",
       "    .dataframe tbody tr th:only-of-type {\n",
       "        vertical-align: middle;\n",
       "    }\n",
       "\n",
       "    .dataframe tbody tr th {\n",
       "        vertical-align: top;\n",
       "    }\n",
       "\n",
       "    .dataframe thead th {\n",
       "        text-align: right;\n",
       "    }\n",
       "</style>\n",
       "<table border=\"1\" class=\"dataframe\">\n",
       "  <thead>\n",
       "    <tr style=\"text-align: right;\">\n",
       "      <th></th>\n",
       "      <th>2011</th>\n",
       "      <th>2012</th>\n",
       "      <th>2013</th>\n",
       "      <th>total</th>\n",
       "      <th>average</th>\n",
       "    </tr>\n",
       "  </thead>\n",
       "  <tbody>\n",
       "    <tr>\n",
       "      <th>France</th>\n",
       "      <td>&lt;NA&gt;</td>\n",
       "      <td>6900</td>\n",
       "      <td>7000</td>\n",
       "      <td>13900.0</td>\n",
       "      <td>6950.0</td>\n",
       "    </tr>\n",
       "    <tr>\n",
       "      <th>Germany</th>\n",
       "      <td>5800</td>\n",
       "      <td>6000</td>\n",
       "      <td>6200</td>\n",
       "      <td>18000.0</td>\n",
       "      <td>6000.0</td>\n",
       "    </tr>\n",
       "    <tr>\n",
       "      <th>United States of America</th>\n",
       "      <td>15000</td>\n",
       "      <td>14000</td>\n",
       "      <td>13000</td>\n",
       "      <td>42000.0</td>\n",
       "      <td>14000.0</td>\n",
       "    </tr>\n",
       "  </tbody>\n",
       "</table>\n",
       "</div>"
      ],
      "text/plain": [
       "                           2011   2012   2013    total  average\n",
       "France                     <NA>   6900   7000  13900.0   6950.0\n",
       "Germany                    5800   6000   6200  18000.0   6000.0\n",
       "United States of America  15000  14000  13000  42000.0  14000.0"
      ]
     },
     "execution_count": 31,
     "metadata": {},
     "output_type": "execute_result"
    }
   ],
   "source": [
    "df = pd.DataFrame(\n",
    "    {\n",
    "        '2011':[pd.NA,5800,15000],\n",
    "        '2012':[6900,6000,14000],\n",
    "        '2013':[7000,6200,13000]\n",
    "    },\n",
    "    index=['France','Germany','United States of America']\n",
    ")\n",
    "\n",
    "# axis=1 indicates we're finding the sum for each row, across multiple columns \n",
    "# df.iloc selects the three columns we want to calculate the sum across (and all rows)\n",
    "total = df.iloc[:, 0:3].sum(axis=1)\n",
    "df.insert(value=total, column='total', loc=3)\n",
    "\n",
    "# axis=1 indicates we're finding the mean for each row, across multiple columns\n",
    "# df.iloc selects the three columns we want to calculate the mean across (and all rows)\n",
    "average = round(df.iloc[:, 0:3].mean(axis=1),1)\n",
    "df.insert(value=average, column='average', loc=4)\n",
    "df"
   ]
  },
  {
   "cell_type": "markdown",
   "metadata": {},
   "source": [
    "### 1c\n",
    "\n",
    "In this part we need to check for any value which is not a positive integer and remove this from the data before calculating the sum and average. "
   ]
  },
  {
   "cell_type": "code",
   "execution_count": 32,
   "metadata": {},
   "outputs": [
    {
     "data": {
      "text/html": [
       "<div>\n",
       "<style scoped>\n",
       "    .dataframe tbody tr th:only-of-type {\n",
       "        vertical-align: middle;\n",
       "    }\n",
       "\n",
       "    .dataframe tbody tr th {\n",
       "        vertical-align: top;\n",
       "    }\n",
       "\n",
       "    .dataframe thead th {\n",
       "        text-align: right;\n",
       "    }\n",
       "</style>\n",
       "<table border=\"1\" class=\"dataframe\">\n",
       "  <thead>\n",
       "    <tr style=\"text-align: right;\">\n",
       "      <th></th>\n",
       "      <th>2011</th>\n",
       "      <th>2012</th>\n",
       "      <th>2013</th>\n",
       "      <th>total</th>\n",
       "      <th>average</th>\n",
       "    </tr>\n",
       "  </thead>\n",
       "  <tbody>\n",
       "    <tr>\n",
       "      <th>France</th>\n",
       "      <td>&lt;NA&gt;</td>\n",
       "      <td>6900</td>\n",
       "      <td>7000</td>\n",
       "      <td>13900.0</td>\n",
       "      <td>6950.0</td>\n",
       "    </tr>\n",
       "    <tr>\n",
       "      <th>Germany</th>\n",
       "      <td>5800</td>\n",
       "      <td>&lt;NA&gt;</td>\n",
       "      <td>6200</td>\n",
       "      <td>12000.0</td>\n",
       "      <td>6000.0</td>\n",
       "    </tr>\n",
       "    <tr>\n",
       "      <th>United States of America</th>\n",
       "      <td>15000</td>\n",
       "      <td>14000</td>\n",
       "      <td>&lt;NA&gt;</td>\n",
       "      <td>29000.0</td>\n",
       "      <td>14500.0</td>\n",
       "    </tr>\n",
       "  </tbody>\n",
       "</table>\n",
       "</div>"
      ],
      "text/plain": [
       "                           2011   2012  2013    total  average\n",
       "France                     <NA>   6900  7000  13900.0   6950.0\n",
       "Germany                    5800   <NA>  6200  12000.0   6000.0\n",
       "United States of America  15000  14000  <NA>  29000.0  14500.0"
      ]
     },
     "execution_count": 32,
     "metadata": {},
     "output_type": "execute_result"
    }
   ],
   "source": [
    "df = pd.DataFrame(\n",
    "    {\n",
    "        '2011':[pd.NA,5800,15000],\n",
    "        '2012':[6900,60.3,14000],\n",
    "        '2013':[7000,6200,-40]\n",
    "    },\n",
    "    index=['France','Germany','United States of America']\n",
    ")\n",
    "\n",
    "for col_name, data in df.items():\n",
    "    for i, d in enumerate(data):\n",
    "        if not d is pd.NA:\n",
    "            if not int(d) == d or d < 0:\n",
    "                df.at[df.index[i], col_name] = pd.NA\n",
    "\n",
    "total = df.iloc[:, 0:3].sum(axis=1)\n",
    "df.insert(value=total, column='total', loc=3)\n",
    "\n",
    "average = round(df.iloc[:, 0:3].mean(axis=1),1)\n",
    "df.insert(value=average, column='average', loc=4)\n",
    "df"
   ]
  }
 ],
 "metadata": {
  "kernelspec": {
   "display_name": "Python 3",
   "language": "python",
   "name": "python3"
  },
  "language_info": {
   "codemirror_mode": {
    "name": "ipython",
    "version": 3
   },
   "file_extension": ".py",
   "mimetype": "text/x-python",
   "name": "python",
   "nbconvert_exporter": "python",
   "pygments_lexer": "ipython3",
   "version": "3.7.6"
  }
 },
 "nbformat": 4,
 "nbformat_minor": 4
}
