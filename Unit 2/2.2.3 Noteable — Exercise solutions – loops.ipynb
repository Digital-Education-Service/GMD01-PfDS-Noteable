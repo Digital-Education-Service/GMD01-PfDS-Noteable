{
 "cells": [
  {
   "cell_type": "markdown",
   "id": "cd37a2a8",
   "metadata": {},
   "source": [
    "# Exercise Solutions - Loops"
   ]
  },
  {
   "cell_type": "markdown",
   "id": "998ee59f",
   "metadata": {},
   "source": [
    "### Exercise\n",
    "\n",
    "Use a for loop to find all of the factors of 120 (i.e. all numbers $n$ such that $120/n$\n",
    "is an integer). Note that we can use the mod operator to find factors, since if `m` is a factor of `n`, then `n % m` is zero. You should loop from 1 to 120 and use an `if` condition within the loop to determine if each number is a factor of 120, and if it is append it to a list called factors.\n",
    "\n",
    "#### Solution"
   ]
  },
  {
   "cell_type": "code",
   "execution_count": 1,
   "id": "0a14d62e",
   "metadata": {},
   "outputs": [
    {
     "name": "stdout",
     "output_type": "stream",
     "text": [
      "[1, 2, 3, 4, 5, 6, 8, 10, 12, 15, 20, 24, 30, 40, 60, 120]\n"
     ]
    }
   ],
   "source": [
    "n=120\n",
    "factors=[]\n",
    "# You'll need to complete the for loop statement below using range - make sure you include 120\n",
    "for m in range(1,121):\n",
    "    # You'll need to complete the if statement below to check if m is a factor of n\n",
    "    if n % m == 0:\n",
    "        # Append m to the list of factors\n",
    "        factors.append(m)\n",
    "\n",
    "print(factors)"
   ]
  },
  {
   "cell_type": "markdown",
   "id": "0573dcad",
   "metadata": {},
   "source": [
    "### Exercise\n",
    "\n",
    "The following starter code sets the value of two integers, `a` and `b`. Write a `while` loop that while `b>0` sets the value of the temporary variable `t` to `b`, then sets the value of `b` to `a % b`, and finally sets the value of `a` to `t`. \n",
    "\n",
    "#### Solution"
   ]
  },
  {
   "cell_type": "code",
   "execution_count": 2,
   "id": "a63b3cec",
   "metadata": {},
   "outputs": [
    {
     "name": "stdout",
     "output_type": "stream",
     "text": [
      "5\n"
     ]
    }
   ],
   "source": [
    "a=35\n",
    "b=10\n",
    "while b>0:\n",
    "    t=b\n",
    "    b=a % b\n",
    "    a=t\n",
    "print(a)"
   ]
  },
  {
   "cell_type": "markdown",
   "id": "68085263",
   "metadata": {},
   "source": [
    "This can also be achieved swapping the variables on the same line:"
   ]
  },
  {
   "cell_type": "code",
   "execution_count": 3,
   "id": "b173e804",
   "metadata": {},
   "outputs": [
    {
     "name": "stdout",
     "output_type": "stream",
     "text": [
      "5\n"
     ]
    }
   ],
   "source": [
    "a=35\n",
    "b=10\n",
    "while b>0:\n",
    "    a,b=b,a % b\n",
    "print(a)"
   ]
  },
  {
   "cell_type": "markdown",
   "id": "c79325ba",
   "metadata": {},
   "source": [
    "### Exercise (Nested loops)\n",
    "\n",
    "Copy and past the code in the example above into the code block below and change the code so that the printed output is:\n",
    "\n",
    "`1, 2, 3, 4, 5`\n",
    "\n",
    "`1, 2, 3, 4`\n",
    "\n",
    "`1, 2, 3`\n",
    "\n",
    "`1, 2`\n",
    "\n",
    "`1`\n",
    "\n",
    "Hint: this can be done with a relatively small change, but it may take some careful thought to figure out what that is.\n",
    "\n",
    "#### Solution \n",
    "\n",
    "One possible solution is for the range of the inner loop to *reduce* each time. We can achieve this by setting the range to be `n-i`, then because `n=5`, when `i=0` on the first loop, the range will be 5, then it will decrease down to 1 with each loop."
   ]
  },
  {
   "cell_type": "code",
   "execution_count": 4,
   "id": "82eda4af",
   "metadata": {},
   "outputs": [
    {
     "name": "stdout",
     "output_type": "stream",
     "text": [
      "1, 2, 3, 4, 5\n",
      "1, 2, 3, 4\n",
      "1, 2, 3\n",
      "1, 2\n",
      "1\n"
     ]
    }
   ],
   "source": [
    "n=5\n",
    "for i in range(n):\n",
    "    # Initialise printed output as an empty string\n",
    "    output=''\n",
    "    # The inner for loop will do j=0,1,2,3,4 on the first outer loop,\n",
    "    # then j=0,1,2,3 on the second outer loop, j=0,1,2 on the third outer loop, etc.\n",
    "    for j in range(n-i):\n",
    "        # Want to separate the numbers with a comma after the first\n",
    "        if j==0:\n",
    "            sep=''\n",
    "        else:\n",
    "            sep=', '\n",
    "        # Add the separator and j+1 to the output string\n",
    "        output=output+sep+f'{j+1}'\n",
    "    # Print the output string. Note that this happens in the code bloc for\n",
    "    # the outer for loop.\n",
    "    print(output)"
   ]
  }
 ],
 "metadata": {
  "kernelspec": {
   "display_name": "Python 3 (ipykernel)",
   "language": "python",
   "name": "python3"
  },
  "language_info": {
   "codemirror_mode": {
    "name": "ipython",
    "version": 3
   },
   "file_extension": ".py",
   "mimetype": "text/x-python",
   "name": "python",
   "nbconvert_exporter": "python",
   "pygments_lexer": "ipython3",
   "version": "3.8.13"
  }
 },
 "nbformat": 4,
 "nbformat_minor": 5
}
