{
 "cells": [
  {
   "cell_type": "markdown",
   "id": "cd37a2a8",
   "metadata": {},
   "source": [
    "# Exercise Solutions - Functions"
   ]
  },
  {
   "cell_type": "markdown",
   "id": "b499abec",
   "metadata": {},
   "source": [
    "### Exercise"
   ]
  },
  {
   "cell_type": "code",
   "execution_count": 1,
   "id": "4868068f",
   "metadata": {},
   "outputs": [],
   "source": [
    "# define a function with two parameters - nothing is output at this stage\n",
    "def isItChristmas(month, day):\n",
    "    if month == 12 and day == 25:\n",
    "        print('Happy Christmas')\n",
    "    else:\n",
    "        print('Have a nice day')"
   ]
  },
  {
   "cell_type": "markdown",
   "id": "aa64f766",
   "metadata": {},
   "source": [
    "Change the arguments in the function call and check that the function works as expected.\n",
    "\n",
    "#### Solution\n",
    "\n",
    "The key arguments to try are 12 for `month` and 25 for `day`:"
   ]
  },
  {
   "cell_type": "code",
   "execution_count": 2,
   "id": "70a9f133",
   "metadata": {},
   "outputs": [
    {
     "name": "stdout",
     "output_type": "stream",
     "text": [
      "Happy Christmas\n"
     ]
    }
   ],
   "source": [
    "isItChristmas(12, 25)"
   ]
  },
  {
   "cell_type": "markdown",
   "id": "7724875d",
   "metadata": {},
   "source": [
    "### Exercise\n",
    "\n",
    "Define a function that takes as input a list of words and returns all the words from that list that are more than 6 letters long and start with a letter after the letter 'l' in the alphabet. If you use a `for` loop, try writing it out in full, then converting it to a list comprehension. Hint: remember that comparison operators like `>` can be used with strings.\n",
    "\n",
    "#### Solution\n",
    "\n",
    "This solution checks whether the first letter of each word is after 'l' and its length is larger than 6."
   ]
  },
  {
   "cell_type": "code",
   "execution_count": 3,
   "id": "dfe9fea5",
   "metadata": {},
   "outputs": [
    {
     "name": "stdout",
     "output_type": "stream",
     "text": [
      "['stomach', 'sculpture', 'overview']\n"
     ]
    }
   ],
   "source": [
    "words=['rib','layout','powder','stomach','sculpture','overview','disagree','squash','leaflet']\n",
    "\n",
    "def long_words_after_l(words):\n",
    "    keep_words=[]\n",
    "    for word in words:\n",
    "        if word[0]>'l' and len(word)>6:\n",
    "            keep_words.append(word)            \n",
    "    return keep_words\n",
    "\n",
    "print(long_words_after_l(words))"
   ]
  },
  {
   "cell_type": "code",
   "execution_count": null,
   "id": "3874f971",
   "metadata": {},
   "outputs": [],
   "source": []
  }
 ],
 "metadata": {
  "kernelspec": {
   "display_name": "Python 3 (ipykernel)",
   "language": "python",
   "name": "python3"
  },
  "language_info": {
   "codemirror_mode": {
    "name": "ipython",
    "version": 3
   },
   "file_extension": ".py",
   "mimetype": "text/x-python",
   "name": "python",
   "nbconvert_exporter": "python",
   "pygments_lexer": "ipython3",
   "version": "3.8.13"
  }
 },
 "nbformat": 4,
 "nbformat_minor": 5
}
