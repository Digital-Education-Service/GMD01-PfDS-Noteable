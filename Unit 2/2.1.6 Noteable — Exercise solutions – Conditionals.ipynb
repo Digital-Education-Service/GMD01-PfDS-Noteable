{
 "cells": [
  {
   "cell_type": "markdown",
   "id": "cd37a2a8",
   "metadata": {},
   "source": [
    "# Exercise Solutions - Conditionals"
   ]
  },
  {
   "cell_type": "markdown",
   "id": "6acee7a1",
   "metadata": {},
   "source": [
    "### Exercise"
   ]
  },
  {
   "cell_type": "code",
   "execution_count": 1,
   "id": "636fa7e3",
   "metadata": {},
   "outputs": [
    {
     "name": "stdout",
     "output_type": "stream",
     "text": [
      "I'm too hot!\n"
     ]
    }
   ],
   "source": [
    "temp=35\n",
    "if temp > 27 :\n",
    "    print( \"I'm too hot!\" )"
   ]
  },
  {
   "cell_type": "markdown",
   "id": "d2685372",
   "metadata": {},
   "source": [
    "Change the value of temp in the code above to check that the print statement is only run when temp is larger than 27. For example, set `temp=27` to see what happens. You could also make `temp` a decimal number (a float), like 27.0001. You could even try another type of variable, like a string or Boolean --- this should produce an error, but it's good to know what sort of errors appear in this situation.\n",
    "\n",
    "#### Solution\n",
    "\n",
    "You should find that the output of the print statement, \"I'm too hot!\", only appears when temp is less than 27. Assigning `temp` to a non-numerical value should produce an error, for example:"
   ]
  },
  {
   "cell_type": "code",
   "execution_count": 2,
   "id": "2772282d",
   "metadata": {},
   "outputs": [
    {
     "ename": "TypeError",
     "evalue": "'>' not supported between instances of 'str' and 'int'",
     "output_type": "error",
     "traceback": [
      "\u001b[0;31m---------------------------------------------------------------------------\u001b[0m",
      "\u001b[0;31mTypeError\u001b[0m                                 Traceback (most recent call last)",
      "\u001b[0;32m/var/folders/g3/dq4440814dn1yjgr8fln3qsr0000gn/T/ipykernel_45050/2128581484.py\u001b[0m in \u001b[0;36m<module>\u001b[0;34m\u001b[0m\n\u001b[1;32m      1\u001b[0m \u001b[0mtemp\u001b[0m\u001b[0;34m=\u001b[0m\u001b[0;34m'20'\u001b[0m\u001b[0;34m\u001b[0m\u001b[0;34m\u001b[0m\u001b[0m\n\u001b[0;32m----> 2\u001b[0;31m \u001b[0;32mif\u001b[0m \u001b[0mtemp\u001b[0m \u001b[0;34m>\u001b[0m \u001b[0;36m27\u001b[0m \u001b[0;34m:\u001b[0m\u001b[0;34m\u001b[0m\u001b[0;34m\u001b[0m\u001b[0m\n\u001b[0m\u001b[1;32m      3\u001b[0m     \u001b[0mprint\u001b[0m\u001b[0;34m(\u001b[0m \u001b[0;34m\"I'm too hot!\"\u001b[0m \u001b[0;34m)\u001b[0m\u001b[0;34m\u001b[0m\u001b[0;34m\u001b[0m\u001b[0m\n",
      "\u001b[0;31mTypeError\u001b[0m: '>' not supported between instances of 'str' and 'int'"
     ]
    }
   ],
   "source": [
    "temp='20'\n",
    "if temp > 27 :\n",
    "    print( \"I'm too hot!\" )"
   ]
  },
  {
   "cell_type": "markdown",
   "id": "4bcb433d",
   "metadata": {},
   "source": [
    "### Exercise\n",
    "\n",
    "More complicated conditions with Boolean operators can be used in `if` statements. In the code below, add a condition to the `if` statement using the Boolean operator `and` to check that the variable `length` is greater than 5 and no larger than (less than or equal to) 10.\n",
    "\n",
    "#### Solution"
   ]
  },
  {
   "cell_type": "code",
   "execution_count": 3,
   "id": "55d4a39a",
   "metadata": {},
   "outputs": [
    {
     "name": "stdout",
     "output_type": "stream",
     "text": [
      "The length of this vehicle suggests that it is a car.\n"
     ]
    }
   ],
   "source": [
    "length=7.5\n",
    "if 5<length and length<=10:\n",
    "    print(\"The length of this vehicle suggests that it is a car.\")"
   ]
  },
  {
   "cell_type": "markdown",
   "id": "d4fecd8b",
   "metadata": {},
   "source": [
    "### Exercise\n",
    "\n",
    "Python actually allows ranges in if statements, for example if the variable was `x`, you could write `0<=x<100` to check that `x` is at least zero and less than 100. Edit your code above so that it uses a range like this rather than the `and` operator.\n",
    "\n",
    "#### Solution"
   ]
  },
  {
   "cell_type": "code",
   "execution_count": 4,
   "id": "9ce86630",
   "metadata": {},
   "outputs": [
    {
     "name": "stdout",
     "output_type": "stream",
     "text": [
      "The length of this vehicle suggests that it is a car.\n"
     ]
    }
   ],
   "source": [
    "length=7.5\n",
    "if 5<length<=10:\n",
    "    print(\"The length of this vehicle suggests that it is a car.\")"
   ]
  },
  {
   "cell_type": "markdown",
   "id": "fd72147e",
   "metadata": {},
   "source": [
    "### Exercise\n",
    "\n",
    "The condition in the `if` statement can be anything that results in a Boolean. In the code below, use an `if` statement to check whether the variable `food` is in the set `fruits`.\n",
    "\n",
    "#### Solution"
   ]
  },
  {
   "cell_type": "code",
   "execution_count": 5,
   "id": "93a9513d",
   "metadata": {},
   "outputs": [
    {
     "name": "stdout",
     "output_type": "stream",
     "text": [
      "The food apple is a fruit\n"
     ]
    }
   ],
   "source": [
    "fruits={'apple','orange','pear','strawberry'}\n",
    "# food='potato'\n",
    "# An alternative value that you could test out:\n",
    "food='apple' \n",
    "# To test this case, comment line 2 and uncomment line 4\n",
    "\n",
    "if food in fruits:\n",
    "    print(f'The food {food} is a fruit')"
   ]
  },
  {
   "cell_type": "markdown",
   "id": "8678e2dd",
   "metadata": {},
   "source": [
    "### Exercise\n",
    "\n",
    "You are given the following table of weight ranges and asked to write a program that assigns a boxer of a given weight to the correct division.\n",
    "\n",
    "|Weight range |Division|\n",
    "|---|---|\n",
    "|`48<weight<=49` | light flyweight |\n",
    "| `49<weight<=51` | flyweight |\n",
    "|`51<weight<=52` | super flyweight|\n",
    "\n",
    "Use if and elif to assign the correct category to the variable division.\n",
    "\n",
    "#### Solution\n",
    "\n",
    "The ranges in the table can be copied over and make sure you assign the right division description to the right variable."
   ]
  },
  {
   "cell_type": "code",
   "execution_count": 6,
   "id": "aac5b848",
   "metadata": {},
   "outputs": [
    {
     "name": "stdout",
     "output_type": "stream",
     "text": [
      "A boxer with weight 51.205kg is in the super flyweight division.\n"
     ]
    }
   ],
   "source": [
    "import math\n",
    "weight=math.sqrt(2622)\n",
    "division=None\n",
    "\n",
    "if 48<weight<=49:\n",
    "    division='light flyweight'\n",
    "elif 49<weight<=51:\n",
    "    division='flyweight'\n",
    "elif 51<weight<=52:\n",
    "    division='super flyweight'\n",
    "    \n",
    "print(f\"A boxer with weight {weight:5.3f}kg is in the {division} division.\")"
   ]
  },
  {
   "cell_type": "markdown",
   "id": "08a2697b",
   "metadata": {},
   "source": [
    "### Exercise\n",
    "\n",
    "Use `if`, `elif` and `else` to encode the rules \"if it is 9am or later I will get up, else if it is 7am or later I will read my book in bed, otherwise I will go back to sleep\", which determine what to do depending on the time. The starter code below creates a random time as a string, and sets the value of the variable message depending on the `if` statement. Add `elif` and else statements to set message to \"stay in bed and read your book.\" if the time is 7 or later and \"go back to sleep.\" otherwise.\n",
    "\n",
    "#### Solution\n",
    "\n",
    "Checking the first two characters, as suggested means that we need to use `>=`, since any time starting with 09 is 9am or later. We can do the same for the 7am condition. "
   ]
  },
  {
   "cell_type": "code",
   "execution_count": 7,
   "id": "6c874894",
   "metadata": {},
   "outputs": [
    {
     "name": "stdout",
     "output_type": "stream",
     "text": [
      "The time is 11:24, time to get up!\n"
     ]
    }
   ],
   "source": [
    "# The following package contains lots of useful methods to create random number\n",
    "import random\n",
    "\n",
    "# The randint function in the random package is used to sample integers \n",
    "# within a defined range. This is then formatted into a string to look \n",
    "# like a time. Revisit f-strings if you're not sure what the formatting\n",
    "# does\n",
    "time=f'{random.randint(0,11):0>2}:{random.randint(0,59):0>2}'\n",
    "  \n",
    "if int(time[:2])>=9: # This casts the first 2 digits of time into an integer\n",
    "    message=\"time to get up!\"\n",
    "elif int(time[:2])>=7:\n",
    "    message=\"stay in bed and read your book\"\n",
    "else:\n",
    "    message=\"go back to sleep.\"\n",
    "    \n",
    "print(f'The time is {time}, {message}')"
   ]
  },
  {
   "cell_type": "markdown",
   "id": "a3222359",
   "metadata": {},
   "source": [
    "### Exercise\n",
    "\n",
    "In the last Exercise, we used the rules \"if it is 9am or later I will get up, else if it is 7am or later I will read my book in bed, otherwise I will go back to sleep\". What's the difference between these rules and \"if it is after 9am I will get up, else if it is after 7am I will read my book in bed, otherwise I will go back to sleep\"? Try to adapt your solution to the previous Exercise to this alternative case. It may help to reorder the conditions, or to incorporate the `and` operator into the conditions to evaluate the minutes as well. \n",
    "\n",
    "#### Solution\n",
    "\n",
    "In the first statement, \"9am or later\" means that the condition should be applied if the time is 09:00 or later, whereas in the second statement, after 9am means that the condition should be applied if the time is *after* 09:00. This is similarly the case for the conditions relating to 7am. Note that we can't just change the `>=` in our previous solution to `>`, because this would remove acceptable times, like 09:01 as well. One solution is to use the comparison operator on the strings:"
   ]
  },
  {
   "cell_type": "code",
   "execution_count": 8,
   "id": "f48461e1",
   "metadata": {},
   "outputs": [
    {
     "name": "stdout",
     "output_type": "stream",
     "text": [
      "The time is 09:00, stay in bed and read your book\n"
     ]
    }
   ],
   "source": [
    "# The following package contains lots of useful methods to create random number\n",
    "import random\n",
    "\n",
    "# The randint function in the random package is used to sample integers \n",
    "# within a defined range. This is then formatted into a string to look \n",
    "# like a time. Revisit f-strings if you're not sure what the formatting\n",
    "# does\n",
    "# time=f'{random.randint(0,11):0>2}:{random.randint(0,59):0>2}'\n",
    "\n",
    "# It's worth setting the time ourselves here as the edge case is unlikely\n",
    "# to occur\n",
    "time='09:00'\n",
    "    \n",
    "if time[:6]>'09:00':\n",
    "    message=\"time to get up!\"\n",
    "elif time[:6]>'07:00':\n",
    "    message=\"stay in bed and read your book\"\n",
    "else:\n",
    "    message=\"go back to sleep.\"\n",
    "    \n",
    "print(f'The time is {time}, {message}')"
   ]
  },
  {
   "cell_type": "markdown",
   "id": "e355a669",
   "metadata": {},
   "source": [
    "### Exercise\n",
    "\n",
    "A supermarket is offering a discount to people if they are either over 65 or a member of their rewards scheme. First use an `if` statement to evaluate whether the customer's age is over 65, otherwise determine if they are a member. If the customer is over 65 or is a member, set the discount_eligible variable to True.\n",
    "\n",
    "#### Solution\n",
    "\n",
    "There are multiple ways to complete objective of the task. One way using a nested `if` statement is:"
   ]
  },
  {
   "cell_type": "code",
   "execution_count": 9,
   "id": "32794263",
   "metadata": {},
   "outputs": [
    {
     "name": "stdout",
     "output_type": "stream",
     "text": [
      "A customer of age 56 and not a member is not eligible for a discount\n"
     ]
    }
   ],
   "source": [
    "import random\n",
    "\n",
    "# The following bit of code randomises the customer's age and whether they're a member.\n",
    "# It also creates a string that describes the customer.\n",
    "# It's not part of the exercise, but try to figure out how it works. \n",
    "# The method random.random() produces uniformly distributed random numbers between 0 and 1.\n",
    "# What's the chance that a customer over 29 is a member?\n",
    "age=random.randint(10,99)\n",
    "customer_description=f'age {age} and '\n",
    "if age>29 and random.random()<0.5:\n",
    "    is_member=True\n",
    "    customer_description=customer_description+'a member'\n",
    "else:\n",
    "    is_member=False\n",
    "    customer_description=customer_description+'not a member'\n",
    "    \n",
    "#--------------------------------\n",
    "# ADDED CODE:\n",
    "discount_eligible=False\n",
    "if age>65:\n",
    "    discount_eligible=True\n",
    "else:\n",
    "    if is_member:\n",
    "        discount_eligible=True\n",
    "#--------------------------------\n",
    "        \n",
    "# The following code will help you to determine if your code is working correctly.\n",
    "if discount_eligible:\n",
    "    print('A customer of '+customer_description+' is eligible for a discount')\n",
    "else:\n",
    "    print('A customer of '+customer_description+' is not eligible for a discount')"
   ]
  },
  {
   "cell_type": "markdown",
   "id": "190201ad",
   "metadata": {},
   "source": [
    "### Exercise\n",
    "\n",
    "Was it necessary to include a nested if statement to achieve the goal set out in the previous Exercise? If not, can you write a program that does it without using a nested if statement? You might consider the advantages and disadvantages of both programs.\n",
    "\n",
    "#### Solution\n",
    "\n",
    "While the purpose of the previous Exercise was for you to practice creating a nested `if` statement, it's not necessary to use one in this case. For example:"
   ]
  },
  {
   "cell_type": "code",
   "execution_count": 10,
   "id": "f33a9482",
   "metadata": {},
   "outputs": [
    {
     "name": "stdout",
     "output_type": "stream",
     "text": [
      "A customer of age 34 and not a member is not eligible for a discount\n"
     ]
    }
   ],
   "source": [
    "import random\n",
    "\n",
    "# The following bit of code randomises the customer's age and whether they're a member.\n",
    "# It also creates a string that describes the customer.\n",
    "# It's not part of the exercise, but try to figure out how it works. \n",
    "# The method random.random() produces uniformly distributed random numbers between 0 and 1.\n",
    "# What's the chance that a customer over 20 is a member?\n",
    "age=random.randint(10,90)\n",
    "customer_description=f'age {age} and '\n",
    "if age>30 and random.random()<0.5:\n",
    "    is_member=True\n",
    "    customer_description=customer_description+'a member'\n",
    "else:\n",
    "    is_member=False\n",
    "    customer_description=customer_description+'not a member'\n",
    "    \n",
    "#--------------------------------\n",
    "# ADDED CODE:\n",
    "discount_eligible=False\n",
    "if is_member:\n",
    "    discount_eligible=True\n",
    "if age>65:\n",
    "    discount_eligible=True   \n",
    "#--------------------------------\n",
    "        \n",
    "# The following code will help you to determine if your code is working correctly.\n",
    "if discount_eligible:\n",
    "    print('A customer of '+customer_description+' is eligible for a discount')\n",
    "else:\n",
    "    print('A customer of '+customer_description+' is not eligible for a discount')"
   ]
  }
 ],
 "metadata": {
  "kernelspec": {
   "display_name": "Python 3 (ipykernel)",
   "language": "python",
   "name": "python3"
  },
  "language_info": {
   "codemirror_mode": {
    "name": "ipython",
    "version": 3
   },
   "file_extension": ".py",
   "mimetype": "text/x-python",
   "name": "python",
   "nbconvert_exporter": "python",
   "pygments_lexer": "ipython3",
   "version": "3.8.13"
  }
 },
 "nbformat": 4,
 "nbformat_minor": 5
}
