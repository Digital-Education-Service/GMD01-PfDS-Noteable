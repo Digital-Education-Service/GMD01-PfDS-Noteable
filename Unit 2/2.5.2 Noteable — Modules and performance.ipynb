{
 "cells": [
  {
   "cell_type": "markdown",
   "id": "558bcd5b",
   "metadata": {},
   "source": [
    "# Modules and Performance\n",
    "\n",
    "This notebook gives a brief introduction to creating your own modules and testing the performance of your code.\n",
    "\n",
    "## Modules\n",
    "\n",
    "A module is usually a collection of related functions and objects that you might want to use in multiple different Python projects. For example, in the first unit, we used the `math` module. A Python package or library is a collection of modules that might be structured in some way, and this course will introduce you to several different packages (such as NumPy, pandas and matplotlib). \n",
    "\n",
    "You can easily create your own modules by saving your functions in a file with the extension `.py`, which can then be imported into your notebook like any other module or package, provided they are saved in the same place as where you want to use them.\n",
    "\n",
    "As an example, let's use the functions created in the Functions lesson, which were `isItChristmas`, `countLetters`, and (in the exercises) `long_words_after_l`. These have been saved in a file called `my_functions.py` in the same directory as this notebook. We can then import them as we would any other package:"
   ]
  },
  {
   "cell_type": "code",
   "execution_count": null,
   "id": "081a19b8",
   "metadata": {},
   "outputs": [],
   "source": [
    "import my_functions"
   ]
  },
  {
   "cell_type": "markdown",
   "id": "875e7c49",
   "metadata": {},
   "source": [
    "Now we can call the functions that are in this module as methods to the object `my_functions`:"
   ]
  },
  {
   "cell_type": "code",
   "execution_count": null,
   "id": "b3c0a9cf",
   "metadata": {},
   "outputs": [],
   "source": [
    "num_a = my_functions.countLetters('Example string',letter='e')\n",
    "print(num_a)"
   ]
  },
  {
   "cell_type": "markdown",
   "id": "c8bdd4f8",
   "metadata": {},
   "source": [
    "Note that if you change the contents of the module while you are using it and want to use the updated module in your programs, you will need to restart the kernel, under the Kernel menu above, and re-run your code in order for the changes to be implemented.\n",
    "\n",
    "Remember that you can import individual functions directly into your work space using the syntax:"
   ]
  },
  {
   "cell_type": "code",
   "execution_count": null,
   "id": "96396597",
   "metadata": {},
   "outputs": [],
   "source": [
    "from my_functions import isItChristmas"
   ]
  },
  {
   "cell_type": "code",
   "execution_count": null,
   "id": "7ed8547a",
   "metadata": {},
   "outputs": [],
   "source": [
    "isItChristmas(1,1)"
   ]
  },
  {
   "cell_type": "markdown",
   "id": "345a8850",
   "metadata": {},
   "source": [
    "And you can also import all of the functions directly into your work space using the syntax:"
   ]
  },
  {
   "cell_type": "code",
   "execution_count": null,
   "id": "26c451d5",
   "metadata": {},
   "outputs": [],
   "source": [
    "from my_functions import *"
   ]
  },
  {
   "cell_type": "code",
   "execution_count": null,
   "id": "0ebb00bc",
   "metadata": {},
   "outputs": [],
   "source": [
    "countLetters('Example string',letter='e')"
   ]
  },
  {
   "cell_type": "markdown",
   "id": "abddc772",
   "metadata": {},
   "source": [
    "But this can cause problems if any of your functions have the same name as any other functions that you might import or create.\n",
    "\n",
    "It can be helpful to create your own modules when you have created functions that you wish to use across multiple notebooks. When deciding on whether to do this, you should consider whether it will be easier to understand the code in your notebook if you copy and paste the functions in where you need them. If you have a lot of functions like this then it may make sense to create a module.\n",
    "\n",
    "## Performance\n",
    "\n",
    "There are often many ways to write a program in Python, and one way to help you to decide which approach you should use is by testing the performance of each approach. The key factors in a program's performance are speed (how long it takes to run) and how much memory it uses. Often we may want to scale up our programs to larger data sets, or to run them over more cases, in which case it's also important to know how speed and memory scale with the size of the inputs. In this section we'll describe some basic aspects of timing bits of code.\n",
    "\n",
    "To test the speed of a program, we need to time it, and there are several packages that allow us to time code. First we will look at a way to time Python code that you can use in any IDE, and then we will look at some Jupyter Notebook specific commands that allow us to do this.\n",
    "\n",
    "The `time` module has the basic functionality to time code."
   ]
  },
  {
   "cell_type": "code",
   "execution_count": null,
   "id": "7de44086",
   "metadata": {},
   "outputs": [],
   "source": [
    "import time"
   ]
  },
  {
   "cell_type": "markdown",
   "id": "8cbfa6dc",
   "metadata": {},
   "source": [
    "You time code using the `time` module much like you would with a clock. You start a timer at the point in your program where you want to start timing, then you need to stop it at the point where you want to stop timing, and work out how much time has elapsed between starting and stopping the timer."
   ]
  },
  {
   "cell_type": "code",
   "execution_count": null,
   "id": "6dc339a5",
   "metadata": {},
   "outputs": [],
   "source": [
    "# Start the timer\n",
    "start_time=time.perf_counter()\n",
    "\n",
    "# Run some code\n",
    "for i in range(100000):\n",
    "    continue\n",
    "    \n",
    "# Stop the timer\n",
    "end_time=time.perf_counter()\n",
    "\n",
    "# Calculate how much time elapsed between starting and stopping the timer\n",
    "print(f'The time elapsed was {end_time-start_time} seconds')"
   ]
  },
  {
   "cell_type": "markdown",
   "id": "5b9b4f6c",
   "metadata": {},
   "source": [
    "Jupyter Notebook allows the use of [**magic**](https://ipython.readthedocs.io/en/stable/interactive/magics.html) commands that can be used on individual lines of code or entire cells, and there are magic commands to time code. To time a single line of code, we can use the `%time` command:"
   ]
  },
  {
   "cell_type": "code",
   "execution_count": null,
   "id": "a74e95cc",
   "metadata": {},
   "outputs": [],
   "source": [
    "%time x=[i for i in range(1000)]"
   ]
  },
  {
   "cell_type": "markdown",
   "id": "c5593750",
   "metadata": {},
   "source": [
    "This gives us more detail than the `perf_counter` method above, since it tells us about different sorts of times that have elapsed. Your computer is likely to have many jobs that it needs to run, and so the time it takes to run your function may depend on what other processes are running in the background and also what time is measured. The CPU time is how much time was spent actually running your code on the computer, whereas the wall time is how much time between elapsed between you starting to run the code and getting the output (so includes the time taken waiting for any other processes to finish). Note that the output may be measured in nano seconds ($10^{-9}$ seconds, indicated by an `n`), microseconds ($10^{-6}$ seconds, indicated by a $\\mu$), milliseconds ($10^{-3}$ seconds, indicated by an `m`) etc.\n",
    "\n",
    "We can time an entire cell by using `%%` instead of `%`:"
   ]
  },
  {
   "cell_type": "code",
   "execution_count": null,
   "id": "3346aca4",
   "metadata": {},
   "outputs": [],
   "source": [
    "%%time \n",
    "# This function pauses for a given amount of time in seconds\n",
    "time.sleep(2)"
   ]
  },
  {
   "cell_type": "markdown",
   "id": "e3e83192",
   "metadata": {},
   "source": [
    "Another useful magic command is the `%timeit` function."
   ]
  },
  {
   "cell_type": "code",
   "execution_count": null,
   "id": "e51e5a37",
   "metadata": {},
   "outputs": [],
   "source": [
    "%timeit x=[i for i in range(1000)]"
   ]
  },
  {
   "cell_type": "markdown",
   "id": "afd52aff",
   "metadata": {},
   "source": [
    "This gets a more accurate measure of the time taken to run the code because it averages over some number of loops, i.e. it runs your code multiple times. However, this means it can take a lot longer to run because when called in this way, it decides how many loops to do. The longer it takes your code to run, the fewer loops it will do, but it still may take some time to finish.\n",
    "\n",
    "You can also use run `timeit` on a whole cell using `%%` instead of `%`.\n",
    "\n",
    "Since `time` and `timeit` are just Python modules, they can also be used to time in other types of IDE, but sometimes it may not be as straightforward.\n",
    "\n",
    "Now we have seen how to time code, we test the performance of different ways to program a given task. For example, we have seen several ways to create a list of integers, but which one is faster?"
   ]
  },
  {
   "cell_type": "code",
   "execution_count": null,
   "id": "baac2396",
   "metadata": {},
   "outputs": [],
   "source": [
    "# Define how many integers to include in our list\n",
    "n=100000"
   ]
  },
  {
   "cell_type": "code",
   "execution_count": null,
   "id": "f87d3de5",
   "metadata": {},
   "outputs": [],
   "source": [
    "%%timeit\n",
    "# Use a for loop to create a list of integers using append\n",
    "x=[]\n",
    "for i in range(n):\n",
    "    x.append(i)"
   ]
  },
  {
   "cell_type": "code",
   "execution_count": null,
   "id": "2f2bba03",
   "metadata": {},
   "outputs": [],
   "source": [
    "%%timeit\n",
    "# Use a list comprehension to create a list of integers\n",
    "x=[i for i in range(n)]"
   ]
  },
  {
   "cell_type": "code",
   "execution_count": null,
   "id": "00061059",
   "metadata": {},
   "outputs": [],
   "source": [
    "%%timeit\n",
    "# Use range and list to create a list of integers\n",
    "x=list(range(n))"
   ]
  },
  {
   "cell_type": "markdown",
   "id": "164a7174",
   "metadata": {},
   "source": [
    "Here we see that converting range into a list is the fastest way create a list of integers. While each command doesn't take particularly long to run, if we were to do these lots of times, this could significantly affect the performance of our code.\n",
    "\n",
    "### Scaling\n",
    "\n",
    "We can time code to see how the amount of time it takes to run changes as we increase the input size. Consider creating a list with a list comprehension:"
   ]
  },
  {
   "cell_type": "code",
   "execution_count": null,
   "id": "d837d4c0",
   "metadata": {},
   "outputs": [],
   "source": [
    "%timeit n=100000; x=[i for i in range(n)]"
   ]
  },
  {
   "cell_type": "markdown",
   "id": "0e887dbc",
   "metadata": {},
   "source": [
    "If we double the number of elements in the list, we would expect it to take roughly twice as long:"
   ]
  },
  {
   "cell_type": "code",
   "execution_count": null,
   "id": "fc935262",
   "metadata": {},
   "outputs": [],
   "source": [
    "%timeit n=200000; x=[i for i in range(n)]"
   ]
  },
  {
   "cell_type": "markdown",
   "id": "99fd472a",
   "metadata": {},
   "source": [
    "Hopefully you will see that it does indeed take roughly twice as long as the previous case. Now consider a double loop:"
   ]
  },
  {
   "cell_type": "code",
   "execution_count": null,
   "id": "a5f3ea0b",
   "metadata": {},
   "outputs": [],
   "source": [
    "%timeit n=1000; x=[i+j for i in range(n) for j in range(n)]"
   ]
  },
  {
   "cell_type": "markdown",
   "id": "8a54f2b6",
   "metadata": {},
   "source": [
    "What would you expect to happen if we double the number of iterations in both loops?"
   ]
  },
  {
   "cell_type": "code",
   "execution_count": null,
   "id": "9536f0b6",
   "metadata": {},
   "outputs": [],
   "source": [
    "%timeit n=2000; x=[i+j for i in range(n) for j in range(n)]"
   ]
  },
  {
   "cell_type": "markdown",
   "id": "68906143",
   "metadata": {},
   "source": [
    "In this case, the for loops are doing **four** times as many iterations, since both have been doubled, so we would expect it to take roughly four times as long, which is what you will hopefully see.\n",
    "\n",
    "This relates to an important concept in computer programming called **computational complexity**. Here we might think of the number of iterations each loop does as the input, and the computational time complexity is how the length of time it takes to run the function scales with the input. In the single loop case, the computational time scales (roughly) *linearly*, i.e. in propotion to the input size. In the double loop case, the computational time scales (roughly) *quadratically*, i.e. like the square of the input size. This was fairly evident in these simple examples, because it was clear how many operations were being performed in each case and how that depended on the input. However, it may be much less clear in more complicated programs and algorithms, particularly when functions from other packages are used, where it's not exactly clear how they work. \n",
    "\n",
    "When investigating computational complexity, it is often easy to do so by plotting how the times change with the input variable, and we will learn about plotting later in the course."
   ]
  },
  {
   "cell_type": "markdown",
   "id": "519c68bd",
   "metadata": {},
   "source": [
    "We said above that memory use is another important factor in a program's performance. However, it's not as easy to measure memory use in Python as it is to time code, so we will not address it here. If you're interested, it doesn't take much searching to find ways to do it, but it involves introducing various technical features and packages that we don't have the scope to introduce here."
   ]
  },
  {
   "cell_type": "markdown",
   "id": "73b65aa4",
   "metadata": {},
   "source": [
    "### Profiling\n",
    "\n",
    "Detailed testing of the performance of programs, both in terms of the time it takes to run, and the memory use, is often called profiling. When building complicated programs where speed is important, it can be very helpful to identify bottlenecks and investigate whether their performance can be improved. If you are interested, there are Python packages that you might investigate which help to profile code, although we will not cover them here."
   ]
  },
  {
   "cell_type": "code",
   "execution_count": null,
   "id": "ed99bd35",
   "metadata": {},
   "outputs": [],
   "source": []
  }
 ],
 "metadata": {
  "kernelspec": {
   "display_name": "Python 3 (ipykernel)",
   "language": "python",
   "name": "python3"
  },
  "language_info": {
   "codemirror_mode": {
    "name": "ipython",
    "version": 3
   },
   "file_extension": ".py",
   "mimetype": "text/x-python",
   "name": "python",
   "nbconvert_exporter": "python",
   "pygments_lexer": "ipython3",
   "version": "3.11.9"
  }
 },
 "nbformat": 4,
 "nbformat_minor": 5
}
